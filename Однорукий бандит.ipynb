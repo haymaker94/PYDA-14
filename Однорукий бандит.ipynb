{
 "cells": [
  {
   "cell_type": "code",
   "execution_count": 99,
   "metadata": {},
   "outputs": [],
   "source": [
    "import numpy as np\n",
    "import random\n",
    "import pandas as pd"
   ]
  },
  {
   "cell_type": "markdown",
   "metadata": {},
   "source": [
    "## Смоделировать игру против лотерейного автомата типа “777”. Игрок платит 1 руб., после чего выпадает случайное целое число, равномерно распределенное от 0 до 999. При некоторых значениях числа игрок получает выигрыш (см. справа)\n",
    "\n",
    "Выгодна ли игра игроку?\n",
    "\n",
    "Сколько в среднем приобретает\n",
    "или теряет игрок за одну игру?\n",
    "\n",
    "777: 200 руб.\n",
    "999: 100 руб.\n",
    "555: 50 руб.\n",
    "333: 15 руб.\n",
    "111: 10 руб.\n",
    "*77: 5 руб.\n",
    "**7: 3 руб.\n",
    "*00: 2 руб.\n",
    "**0: 1 руб.\n",
    "\n",
    "– любая цифра\n",
    "Дополнительное задание повышенной сложности. Теоретически рассчитать средний выигрыш (проигрыш) и сравнить с результатами моделирования"
   ]
  },
  {
   "cell_type": "code",
   "execution_count": 290,
   "metadata": {},
   "outputs": [
    {
     "name": "stdout",
     "output_type": "stream",
     "text": [
      "-0.20200000000000007\n"
     ]
    }
   ],
   "source": [
    "P = 0.001*(200+100+50+15+10) + 0.009*5 + 0.09*3 + 0.009*2 + (0.09*1) - 1\n",
    "print(P)"
   ]
  },
  {
   "cell_type": "code",
   "execution_count": 288,
   "metadata": {
    "scrolled": false
   },
   "outputs": [
    {
     "name": "stdout",
     "output_type": "stream",
     "text": [
      "you end up with -2022619 coins\n"
     ]
    },
    {
     "data": {
      "text/plain": [
       "<matplotlib.axes._subplots.AxesSubplot at 0x29afa9c0c48>"
      ]
     },
     "execution_count": 288,
     "metadata": {},
     "output_type": "execute_result"
    },
    {
     "data": {
      "image/png": "[encoded data removed]",
      "text/plain": [
       "<Figure size 432x288 with 1 Axes>"
      ]
     },
     "metadata": {
      "needs_background": "light"
     },
     "output_type": "display_data"
    }
   ],
   "source": [
    "balance = 0\n",
    "stats = {}\n",
    "trials = 10000000\n",
    "\n",
    "for i in range(trials):\n",
    "    result = random.randint(0, 1000)\n",
    "    balance -= 1\n",
    "#     print(f' выпало число:{result} текущий баланс:{balance}')\n",
    "    if result == 777:\n",
    "        balance +=200\n",
    "#         print('Jack Pot!')\n",
    "    elif result == 999:\n",
    "        balance +=100\n",
    "#         print(' + 100 coins!')\n",
    "    elif result == 555:\n",
    "        balance += 50\n",
    "#         print(' + 50 coins!')\n",
    "    elif result == 333:\n",
    "        balance += 15\n",
    "#         print(' + 15 coins!')\n",
    "    elif result == 111:\n",
    "        balance += 10\n",
    "#         print(' + 10 coins!')\n",
    "    elif result % 100 == 77:\n",
    "        balance += 5\n",
    "#         print(' + 5 coins!')\n",
    "    elif result % 10 == 7:\n",
    "        balance += 3\n",
    "#         print(' + 3 coins!')\n",
    "    elif result > 100 and result % 100 == 0:\n",
    "        balance += 2\n",
    "#         print(' + 2 coins!')\n",
    "    elif result % 10 == 0:\n",
    "        balance += 1\n",
    "#         print(' + 1 coin!')\n",
    "    stats[i] = balance\n",
    "print(f'you end up with {balance} coins')\n",
    "df = pd.Series(stats)\n",
    "df.plot()\n"
   ]
  }
 ],
 "metadata": {
  "kernelspec": {
   "display_name": "Python 3",
   "language": "python",
   "name": "python3"
  },
  "language_info": {
   "codemirror_mode": {
    "name": "ipython",
    "version": 3
   },
   "file_extension": ".py",
   "mimetype": "text/x-python",
   "name": "python",
   "nbconvert_exporter": "python",
   "pygments_lexer": "ipython3",
   "version": "3.7.6"
  }
 },
 "nbformat": 4,
 "nbformat_minor": 4
}
