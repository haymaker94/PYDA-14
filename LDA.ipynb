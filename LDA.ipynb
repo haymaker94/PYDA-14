{
 "cells": [
  {
   "cell_type": "markdown",
   "metadata": {},
   "source": [
    "- [x] 1 Возьмите датасет с цветками iris’а (функция load_iris из библиотеки sklearn)\n",
    "- [x] 2 Оставьте два признака - sepal_length и sepal_width и целевую переменную - variety\n",
    "- [x] 3 Разделите данные на выборку для обучения и тестирования\n",
    "- [x] 4 Постройте модель LDA\n",
    "- [x] 5 Визуализируйте предсказания для тестовой выборки и центры классов\n",
    "- [x] 6 Отбросьте целевую переменную и оставьте только два признака - sepal_length и sepal_width\n",
    "- [ ] 7 Подберите оптимальное число кластеров для алгоритма kmeans и визуализируйте полученную кластеризацию"
   ]
  },
  {
   "cell_type": "code",
   "execution_count": 1,
   "metadata": {},
   "outputs": [],
   "source": [
    "from sklearn.datasets import load_iris\n",
    "import pandas as pd\n",
    "import numpy as np\n",
    "import matplotlib.pyplot as plt\n",
    "from matplotlib import colors"
   ]
  },
  {
   "cell_type": "code",
   "execution_count": 2,
   "metadata": {},
   "outputs": [
    {
     "data": {
      "text/plain": [
       "sklearn.utils.Bunch"
      ]
     },
     "execution_count": 2,
     "metadata": {},
     "output_type": "execute_result"
    }
   ],
   "source": [
    "iris = load_iris()\n",
    "type(iris)"
   ]
  },
  {
   "cell_type": "code",
   "execution_count": 3,
   "metadata": {},
   "outputs": [
    {
     "data": {
      "text/plain": [
       "dict_keys(['data', 'target', 'frame', 'target_names', 'DESCR', 'feature_names', 'filename'])"
      ]
     },
     "execution_count": 3,
     "metadata": {},
     "output_type": "execute_result"
    }
   ],
   "source": [
    "iris.keys()"
   ]
  },
  {
   "cell_type": "code",
   "execution_count": 4,
   "metadata": {
    "scrolled": true
   },
   "outputs": [
    {
     "name": "stdout",
     "output_type": "stream",
     "text": [
      ".. _iris_dataset:\n",
      "\n",
      "Iris plants dataset\n",
      "--------------------\n",
      "\n",
      "**Data Set Characteristics:**\n",
      "\n",
      "    :Number of Instances: 150 (50 in each of three classes)\n",
      "    :Number of Attributes: 4 numeric, predictive attributes and the class\n",
      "    :Attribute Information:\n",
      "        - sepal length in cm\n",
      "        - sepal width in cm\n",
      "        - petal length in cm\n",
      "        - petal width in cm\n",
      "        - class:\n",
      "                - Iris-Setosa\n",
      "                - Iris-Versicolour\n",
      "                - Iris-Virginica\n",
      "                \n",
      "    :Summary Statistics:\n",
      "\n",
      "    ============== ==== ==== ======= ===== ====================\n",
      "                    Min  Max   Mean    SD   Class Correlation\n",
      "    ============== ==== ==== ======= ===== ====================\n",
      "    sepal length:   4.3  7.9   5.84   0.83    0.7826\n",
      "    sepal width:    2.0  4.4   3.05   0.43   -0.4194\n",
      "    petal length:   1.0  6.9   3.76   1.76    0.9490  (high!)\n",
      "    petal width:    0.1  2.5   1.20   0.76    0.9565  (high!)\n",
      "    ============== ==== ==== ======= ===== ====================\n",
      "\n",
      "    :Missing Attribute Values: None\n",
      "    :Class Distribution: 33.3% for each of 3 classes.\n",
      "    :Creator: R.A. Fisher\n",
      "    :Donor: Michael Marshall (MARSHALL%PLU@io.arc.nasa.gov)\n",
      "    :Date: July, 1988\n",
      "\n",
      "The famous Iris database, first used by Sir R.A. Fisher. The dataset is taken\n",
      "from Fisher's paper. Note that it's the same as in R, but not as in the UCI\n",
      "Machine Learning Repository, which has two wrong data points.\n",
      "\n",
      "This is perhaps the best known database to be found in the\n",
      "pattern recognition literature.  Fisher's paper is a classic in the field and\n",
      "is referenced frequently to this day.  (See Duda & Hart, for example.)  The\n",
      "data set contains 3 classes of 50 instances each, where each class refers to a\n",
      "type of iris plant.  One class is linearly separable from the other 2; the\n",
      "latter are NOT linearly separable from each other.\n",
      "\n",
      ".. topic:: References\n",
      "\n",
      "   - Fisher, R.A. \"The use of multiple measurements in taxonomic problems\"\n",
      "     Annual Eugenics, 7, Part II, 179-188 (1936); also in \"Contributions to\n",
      "     Mathematical Statistics\" (John Wiley, NY, 1950).\n",
      "   - Duda, R.O., & Hart, P.E. (1973) Pattern Classification and Scene Analysis.\n",
      "     (Q327.D83) John Wiley & Sons.  ISBN 0-471-22361-1.  See page 218.\n",
      "   - Dasarathy, B.V. (1980) \"Nosing Around the Neighborhood: A New System\n",
      "     Structure and Classification Rule for Recognition in Partially Exposed\n",
      "     Environments\".  IEEE Transactions on Pattern Analysis and Machine\n",
      "     Intelligence, Vol. PAMI-2, No. 1, 67-71.\n",
      "   - Gates, G.W. (1972) \"The Reduced Nearest Neighbor Rule\".  IEEE Transactions\n",
      "     on Information Theory, May 1972, 431-433.\n",
      "   - See also: 1988 MLC Proceedings, 54-64.  Cheeseman et al\"s AUTOCLASS II\n",
      "     conceptual clustering system finds 3 classes in the data.\n",
      "   - Many, many more ...\n"
     ]
    }
   ],
   "source": [
    "print(iris.DESCR)"
   ]
  },
  {
   "cell_type": "code",
   "execution_count": 5,
   "metadata": {},
   "outputs": [],
   "source": [
    "data = pd.DataFrame(iris.data, columns = iris.feature_names)\n",
    "data_class = iris.target"
   ]
  },
  {
   "cell_type": "code",
   "execution_count": 6,
   "metadata": {},
   "outputs": [
    {
     "data": {
      "text/plain": [
       "Index(['sepal length (cm)', 'sepal width (cm)', 'petal length (cm)',\n",
       "       'petal width (cm)'],\n",
       "      dtype='object')"
      ]
     },
     "execution_count": 6,
     "metadata": {},
     "output_type": "execute_result"
    }
   ],
   "source": [
    "data.head()\n",
    "data.columns"
   ]
  },
  {
   "cell_type": "code",
   "execution_count": 7,
   "metadata": {},
   "outputs": [
    {
     "data": {
      "text/html": [
       "<div>\n",
       "<style scoped>\n",
       "    .dataframe tbody tr th:only-of-type {\n",
       "        vertical-align: middle;\n",
       "    }\n",
       "\n",
       "    .dataframe tbody tr th {\n",
       "        vertical-align: top;\n",
       "    }\n",
       "\n",
       "    .dataframe thead th {\n",
       "        text-align: right;\n",
       "    }\n",
       "</style>\n",
       "<table border=\"1\" class=\"dataframe\">\n",
       "  <thead>\n",
       "    <tr style=\"text-align: right;\">\n",
       "      <th></th>\n",
       "      <th>length</th>\n",
       "      <th>width</th>\n",
       "    </tr>\n",
       "  </thead>\n",
       "  <tbody>\n",
       "    <tr>\n",
       "      <th>0</th>\n",
       "      <td>5.1</td>\n",
       "      <td>3.5</td>\n",
       "    </tr>\n",
       "    <tr>\n",
       "      <th>1</th>\n",
       "      <td>4.9</td>\n",
       "      <td>3.0</td>\n",
       "    </tr>\n",
       "    <tr>\n",
       "      <th>2</th>\n",
       "      <td>4.7</td>\n",
       "      <td>3.2</td>\n",
       "    </tr>\n",
       "    <tr>\n",
       "      <th>3</th>\n",
       "      <td>4.6</td>\n",
       "      <td>3.1</td>\n",
       "    </tr>\n",
       "    <tr>\n",
       "      <th>4</th>\n",
       "      <td>5.0</td>\n",
       "      <td>3.6</td>\n",
       "    </tr>\n",
       "  </tbody>\n",
       "</table>\n",
       "</div>"
      ],
      "text/plain": [
       "   length  width\n",
       "0     5.1    3.5\n",
       "1     4.9    3.0\n",
       "2     4.7    3.2\n",
       "3     4.6    3.1\n",
       "4     5.0    3.6"
      ]
     },
     "execution_count": 7,
     "metadata": {},
     "output_type": "execute_result"
    }
   ],
   "source": [
    "data = data[['sepal length (cm)', 'sepal width (cm)']]\n",
    "data.columns = ['length', 'width']\n",
    "data.head()"
   ]
  },
  {
   "cell_type": "code",
   "execution_count": 8,
   "metadata": {},
   "outputs": [
    {
     "data": {
      "text/plain": [
       "array([0, 0, 0, 0, 0, 0, 0, 0, 0, 0, 0, 0, 0, 0, 0, 0, 0, 0, 0, 0, 0, 0,\n",
       "       0, 0, 0, 0, 0, 0, 0, 0, 0, 0, 0, 0, 0, 0, 0, 0, 0, 0, 0, 0, 0, 0,\n",
       "       0, 0, 0, 0, 0, 0, 1, 1, 1, 1, 1, 1, 1, 1, 1, 1, 1, 1, 1, 1, 1, 1,\n",
       "       1, 1, 1, 1, 1, 1, 1, 1, 1, 1, 1, 1, 1, 1, 1, 1, 1, 1, 1, 1, 1, 1,\n",
       "       1, 1, 1, 1, 1, 1, 1, 1, 1, 1, 1, 1, 2, 2, 2, 2, 2, 2, 2, 2, 2, 2,\n",
       "       2, 2, 2, 2, 2, 2, 2, 2, 2, 2, 2, 2, 2, 2, 2, 2, 2, 2, 2, 2, 2, 2,\n",
       "       2, 2, 2, 2, 2, 2, 2, 2, 2, 2, 2, 2, 2, 2, 2, 2, 2, 2])"
      ]
     },
     "execution_count": 8,
     "metadata": {},
     "output_type": "execute_result"
    }
   ],
   "source": [
    "data_class"
   ]
  },
  {
   "cell_type": "code",
   "execution_count": 9,
   "metadata": {},
   "outputs": [],
   "source": [
    "from sklearn.model_selection import train_test_split\n",
    "X_train, X_test, y_train, y_test = train_test_split(data, data_class, test_size = 0.25)"
   ]
  },
  {
   "cell_type": "code",
   "execution_count": 10,
   "metadata": {},
   "outputs": [],
   "source": [
    "from sklearn.discriminant_analysis import LinearDiscriminantAnalysis"
   ]
  },
  {
   "cell_type": "code",
   "execution_count": 11,
   "metadata": {},
   "outputs": [],
   "source": [
    "lda = LinearDiscriminantAnalysis()"
   ]
  },
  {
   "cell_type": "code",
   "execution_count": 12,
   "metadata": {},
   "outputs": [
    {
     "data": {
      "text/plain": [
       "LinearDiscriminantAnalysis()"
      ]
     },
     "execution_count": 12,
     "metadata": {},
     "output_type": "execute_result"
    }
   ],
   "source": [
    "lda.fit(X_train, y_train)"
   ]
  },
  {
   "cell_type": "code",
   "execution_count": 13,
   "metadata": {},
   "outputs": [
    {
     "data": {
      "text/plain": [
       "array([2, 1, 0, 2, 2, 2, 1, 2, 0, 2, 0, 2, 2, 2, 1, 1, 1, 2, 0, 0, 2, 1,\n",
       "       0, 2, 1, 2, 2, 2, 2, 1, 2, 0, 0, 2, 0, 0, 2, 1])"
      ]
     },
     "execution_count": 13,
     "metadata": {},
     "output_type": "execute_result"
    }
   ],
   "source": [
    "lda.predict(X_test)"
   ]
  },
  {
   "cell_type": "code",
   "execution_count": 14,
   "metadata": {},
   "outputs": [
    {
     "data": {
      "text/html": [
       "<div>\n",
       "<style scoped>\n",
       "    .dataframe tbody tr th:only-of-type {\n",
       "        vertical-align: middle;\n",
       "    }\n",
       "\n",
       "    .dataframe tbody tr th {\n",
       "        vertical-align: top;\n",
       "    }\n",
       "\n",
       "    .dataframe thead th {\n",
       "        text-align: right;\n",
       "    }\n",
       "</style>\n",
       "<table border=\"1\" class=\"dataframe\">\n",
       "  <thead>\n",
       "    <tr style=\"text-align: right;\">\n",
       "      <th></th>\n",
       "      <th>0</th>\n",
       "      <th>1</th>\n",
       "    </tr>\n",
       "  </thead>\n",
       "  <tbody>\n",
       "    <tr>\n",
       "      <th>0</th>\n",
       "      <td>2</td>\n",
       "      <td>2</td>\n",
       "    </tr>\n",
       "    <tr>\n",
       "      <th>22</th>\n",
       "      <td>0</td>\n",
       "      <td>0</td>\n",
       "    </tr>\n",
       "    <tr>\n",
       "      <th>7</th>\n",
       "      <td>2</td>\n",
       "      <td>2</td>\n",
       "    </tr>\n",
       "    <tr>\n",
       "      <th>16</th>\n",
       "      <td>1</td>\n",
       "      <td>1</td>\n",
       "    </tr>\n",
       "    <tr>\n",
       "      <th>37</th>\n",
       "      <td>1</td>\n",
       "      <td>1</td>\n",
       "    </tr>\n",
       "    <tr>\n",
       "      <th>17</th>\n",
       "      <td>2</td>\n",
       "      <td>2</td>\n",
       "    </tr>\n",
       "    <tr>\n",
       "      <th>27</th>\n",
       "      <td>2</td>\n",
       "      <td>2</td>\n",
       "    </tr>\n",
       "    <tr>\n",
       "      <th>2</th>\n",
       "      <td>0</td>\n",
       "      <td>0</td>\n",
       "    </tr>\n",
       "    <tr>\n",
       "      <th>11</th>\n",
       "      <td>2</td>\n",
       "      <td>2</td>\n",
       "    </tr>\n",
       "    <tr>\n",
       "      <th>31</th>\n",
       "      <td>0</td>\n",
       "      <td>0</td>\n",
       "    </tr>\n",
       "  </tbody>\n",
       "</table>\n",
       "</div>"
      ],
      "text/plain": [
       "    0  1\n",
       "0   2  2\n",
       "22  0  0\n",
       "7   2  2\n",
       "16  1  1\n",
       "37  1  1\n",
       "17  2  2\n",
       "27  2  2\n",
       "2   0  0\n",
       "11  2  2\n",
       "31  0  0"
      ]
     },
     "execution_count": 14,
     "metadata": {},
     "output_type": "execute_result"
    }
   ],
   "source": [
    "result = pd.DataFrame([y_test, lda.predict(X_test)]).T\n",
    "result.sample(10)"
   ]
  },
  {
   "cell_type": "code",
   "execution_count": 15,
   "metadata": {},
   "outputs": [],
   "source": [
    "from sklearn.metrics import accuracy_score"
   ]
  },
  {
   "cell_type": "code",
   "execution_count": 16,
   "metadata": {},
   "outputs": [
    {
     "data": {
      "text/plain": [
       "0.7894736842105263"
      ]
     },
     "execution_count": 16,
     "metadata": {},
     "output_type": "execute_result"
    }
   ],
   "source": [
    "accuracy_score(y_test, lda.predict(X_test))"
   ]
  },
  {
   "cell_type": "code",
   "execution_count": 17,
   "metadata": {},
   "outputs": [
    {
     "data": {
      "text/plain": [
       "array([[-6.28712501,  7.95241608],\n",
       "       [ 2.26121137, -4.36889994],\n",
       "       [ 4.65790818, -4.46446338]])"
      ]
     },
     "execution_count": 17,
     "metadata": {},
     "output_type": "execute_result"
    }
   ],
   "source": [
    "lda.coef_"
   ]
  },
  {
   "cell_type": "code",
   "execution_count": 18,
   "metadata": {
    "scrolled": true
   },
   "outputs": [
    {
     "data": {
      "text/plain": [
       "array([[5.005     , 3.3975    ],\n",
       "       [5.91142857, 2.77714286],\n",
       "       [6.50540541, 3.00810811]])"
      ]
     },
     "execution_count": 18,
     "metadata": {},
     "output_type": "execute_result"
    }
   ],
   "source": [
    "lda.means_"
   ]
  },
  {
   "cell_type": "code",
   "execution_count": 19,
   "metadata": {},
   "outputs": [
    {
     "data": {
      "text/plain": [
       "<matplotlib.collections.PathCollection at 0x1b808887070>"
      ]
     },
     "execution_count": 19,
     "metadata": {},
     "output_type": "execute_result"
    },
    {
     "data": {
      "image/png": "[encoded data removed]",
      "text/plain": [
       "<Figure size 432x288 with 1 Axes>"
      ]
     },
     "metadata": {
      "needs_background": "light"
     },
     "output_type": "display_data"
    }
   ],
   "source": [
    "plt.scatter(X_test['length'], X_test['width'], c = y_test)\n",
    "plt.scatter(lda.means_[:,0], lda.means_[:,1], c = 'r', marker = 'x', s = 300)"
   ]
  },
  {
   "cell_type": "code",
   "execution_count": 20,
   "metadata": {},
   "outputs": [
    {
     "data": {
      "text/plain": [
       "<matplotlib.collections.PathCollection at 0x1b8089643d0>"
      ]
     },
     "execution_count": 20,
     "metadata": {},
     "output_type": "execute_result"
    },
    {
     "data": {
      "image/png": "[encoded data removed]",
      "text/plain": [
       "<Figure size 432x288 with 1 Axes>"
      ]
     },
     "metadata": {
      "needs_background": "light"
     },
     "output_type": "display_data"
    }
   ],
   "source": [
    "plt.scatter(data['length'], data['width'], s=10)"
   ]
  },
  {
   "cell_type": "code",
   "execution_count": 21,
   "metadata": {},
   "outputs": [],
   "source": [
    "from sklearn.preprocessing import StandardScaler"
   ]
  },
  {
   "cell_type": "code",
   "execution_count": 22,
   "metadata": {},
   "outputs": [],
   "source": [
    "scaler = StandardScaler()"
   ]
  },
  {
   "cell_type": "code",
   "execution_count": 23,
   "metadata": {},
   "outputs": [],
   "source": [
    "data_scaled = scaler.fit_transform(data)"
   ]
  },
  {
   "cell_type": "code",
   "execution_count": 24,
   "metadata": {},
   "outputs": [
    {
     "data": {
      "text/plain": [
       "array([[-0.90068117,  1.01900435],\n",
       "       [-1.14301691, -0.13197948],\n",
       "       [-1.38535265,  0.32841405],\n",
       "       [-1.50652052,  0.09821729],\n",
       "       [-1.02184904,  1.24920112],\n",
       "       [-0.53717756,  1.93979142],\n",
       "       [-1.50652052,  0.78880759],\n",
       "       [-1.02184904,  0.78880759],\n",
       "       [-1.74885626, -0.36217625],\n",
       "       [-1.14301691,  0.09821729],\n",
       "       [-0.53717756,  1.47939788],\n",
       "       [-1.26418478,  0.78880759],\n",
       "       [-1.26418478, -0.13197948],\n",
       "       [-1.87002413, -0.13197948],\n",
       "       [-0.05250608,  2.16998818],\n",
       "       [-0.17367395,  3.09077525],\n",
       "       [-0.53717756,  1.93979142],\n",
       "       [-0.90068117,  1.01900435],\n",
       "       [-0.17367395,  1.70959465],\n",
       "       [-0.90068117,  1.70959465],\n",
       "       [-0.53717756,  0.78880759],\n",
       "       [-0.90068117,  1.47939788],\n",
       "       [-1.50652052,  1.24920112],\n",
       "       [-0.90068117,  0.55861082],\n",
       "       [-1.26418478,  0.78880759],\n",
       "       [-1.02184904, -0.13197948],\n",
       "       [-1.02184904,  0.78880759],\n",
       "       [-0.7795133 ,  1.01900435],\n",
       "       [-0.7795133 ,  0.78880759],\n",
       "       [-1.38535265,  0.32841405],\n",
       "       [-1.26418478,  0.09821729],\n",
       "       [-0.53717756,  0.78880759],\n",
       "       [-0.7795133 ,  2.40018495],\n",
       "       [-0.41600969,  2.63038172],\n",
       "       [-1.14301691,  0.09821729],\n",
       "       [-1.02184904,  0.32841405],\n",
       "       [-0.41600969,  1.01900435],\n",
       "       [-1.14301691,  1.24920112],\n",
       "       [-1.74885626, -0.13197948],\n",
       "       [-0.90068117,  0.78880759],\n",
       "       [-1.02184904,  1.01900435],\n",
       "       [-1.62768839, -1.74335684],\n",
       "       [-1.74885626,  0.32841405],\n",
       "       [-1.02184904,  1.01900435],\n",
       "       [-0.90068117,  1.70959465],\n",
       "       [-1.26418478, -0.13197948],\n",
       "       [-0.90068117,  1.70959465],\n",
       "       [-1.50652052,  0.32841405],\n",
       "       [-0.65834543,  1.47939788],\n",
       "       [-1.02184904,  0.55861082],\n",
       "       [ 1.40150837,  0.32841405],\n",
       "       [ 0.67450115,  0.32841405],\n",
       "       [ 1.2803405 ,  0.09821729],\n",
       "       [-0.41600969, -1.74335684],\n",
       "       [ 0.79566902, -0.59237301],\n",
       "       [-0.17367395, -0.59237301],\n",
       "       [ 0.55333328,  0.55861082],\n",
       "       [-1.14301691, -1.51316008],\n",
       "       [ 0.91683689, -0.36217625],\n",
       "       [-0.7795133 , -0.82256978],\n",
       "       [-1.02184904, -2.43394714],\n",
       "       [ 0.06866179, -0.13197948],\n",
       "       [ 0.18982966, -1.97355361],\n",
       "       [ 0.31099753, -0.36217625],\n",
       "       [-0.29484182, -0.36217625],\n",
       "       [ 1.03800476,  0.09821729],\n",
       "       [-0.29484182, -0.13197948],\n",
       "       [-0.05250608, -0.82256978],\n",
       "       [ 0.4321654 , -1.97355361],\n",
       "       [-0.29484182, -1.28296331],\n",
       "       [ 0.06866179,  0.32841405],\n",
       "       [ 0.31099753, -0.59237301],\n",
       "       [ 0.55333328, -1.28296331],\n",
       "       [ 0.31099753, -0.59237301],\n",
       "       [ 0.67450115, -0.36217625],\n",
       "       [ 0.91683689, -0.13197948],\n",
       "       [ 1.15917263, -0.59237301],\n",
       "       [ 1.03800476, -0.13197948],\n",
       "       [ 0.18982966, -0.36217625],\n",
       "       [-0.17367395, -1.05276654],\n",
       "       [-0.41600969, -1.51316008],\n",
       "       [-0.41600969, -1.51316008],\n",
       "       [-0.05250608, -0.82256978],\n",
       "       [ 0.18982966, -0.82256978],\n",
       "       [-0.53717756, -0.13197948],\n",
       "       [ 0.18982966,  0.78880759],\n",
       "       [ 1.03800476,  0.09821729],\n",
       "       [ 0.55333328, -1.74335684],\n",
       "       [-0.29484182, -0.13197948],\n",
       "       [-0.41600969, -1.28296331],\n",
       "       [-0.41600969, -1.05276654],\n",
       "       [ 0.31099753, -0.13197948],\n",
       "       [-0.05250608, -1.05276654],\n",
       "       [-1.02184904, -1.74335684],\n",
       "       [-0.29484182, -0.82256978],\n",
       "       [-0.17367395, -0.13197948],\n",
       "       [-0.17367395, -0.36217625],\n",
       "       [ 0.4321654 , -0.36217625],\n",
       "       [-0.90068117, -1.28296331],\n",
       "       [-0.17367395, -0.59237301],\n",
       "       [ 0.55333328,  0.55861082],\n",
       "       [-0.05250608, -0.82256978],\n",
       "       [ 1.52267624, -0.13197948],\n",
       "       [ 0.55333328, -0.36217625],\n",
       "       [ 0.79566902, -0.13197948],\n",
       "       [ 2.12851559, -0.13197948],\n",
       "       [-1.14301691, -1.28296331],\n",
       "       [ 1.76501198, -0.36217625],\n",
       "       [ 1.03800476, -1.28296331],\n",
       "       [ 1.64384411,  1.24920112],\n",
       "       [ 0.79566902,  0.32841405],\n",
       "       [ 0.67450115, -0.82256978],\n",
       "       [ 1.15917263, -0.13197948],\n",
       "       [-0.17367395, -1.28296331],\n",
       "       [-0.05250608, -0.59237301],\n",
       "       [ 0.67450115,  0.32841405],\n",
       "       [ 0.79566902, -0.13197948],\n",
       "       [ 2.24968346,  1.70959465],\n",
       "       [ 2.24968346, -1.05276654],\n",
       "       [ 0.18982966, -1.97355361],\n",
       "       [ 1.2803405 ,  0.32841405],\n",
       "       [-0.29484182, -0.59237301],\n",
       "       [ 2.24968346, -0.59237301],\n",
       "       [ 0.55333328, -0.82256978],\n",
       "       [ 1.03800476,  0.55861082],\n",
       "       [ 1.64384411,  0.32841405],\n",
       "       [ 0.4321654 , -0.59237301],\n",
       "       [ 0.31099753, -0.13197948],\n",
       "       [ 0.67450115, -0.59237301],\n",
       "       [ 1.64384411, -0.13197948],\n",
       "       [ 1.88617985, -0.59237301],\n",
       "       [ 2.4920192 ,  1.70959465],\n",
       "       [ 0.67450115, -0.59237301],\n",
       "       [ 0.55333328, -0.59237301],\n",
       "       [ 0.31099753, -1.05276654],\n",
       "       [ 2.24968346, -0.13197948],\n",
       "       [ 0.55333328,  0.78880759],\n",
       "       [ 0.67450115,  0.09821729],\n",
       "       [ 0.18982966, -0.13197948],\n",
       "       [ 1.2803405 ,  0.09821729],\n",
       "       [ 1.03800476,  0.09821729],\n",
       "       [ 1.2803405 ,  0.09821729],\n",
       "       [-0.05250608, -0.82256978],\n",
       "       [ 1.15917263,  0.32841405],\n",
       "       [ 1.03800476,  0.55861082],\n",
       "       [ 1.03800476, -0.13197948],\n",
       "       [ 0.55333328, -1.28296331],\n",
       "       [ 0.79566902, -0.13197948],\n",
       "       [ 0.4321654 ,  0.78880759],\n",
       "       [ 0.06866179, -0.13197948]])"
      ]
     },
     "execution_count": 24,
     "metadata": {},
     "output_type": "execute_result"
    }
   ],
   "source": [
    "data_scaled"
   ]
  },
  {
   "cell_type": "code",
   "execution_count": 25,
   "metadata": {},
   "outputs": [
    {
     "data": {
      "text/plain": [
       "<matplotlib.collections.PathCollection at 0x1b8089c7f10>"
      ]
     },
     "execution_count": 25,
     "metadata": {},
     "output_type": "execute_result"
    },
    {
     "data": {
      "image/png": "[encoded data removed]",
      "text/plain": [
       "<Figure size 432x288 with 1 Axes>"
      ]
     },
     "metadata": {
      "needs_background": "light"
     },
     "output_type": "display_data"
    }
   ],
   "source": [
    "plt.scatter(data_scaled[:,0], data_scaled[:,1], s=10)"
   ]
  },
  {
   "cell_type": "markdown",
   "metadata": {},
   "source": [
    "## думаю, в нашем датасете масштабирование было излишним"
   ]
  },
  {
   "cell_type": "code",
   "execution_count": 28,
   "metadata": {},
   "outputs": [],
   "source": [
    "from sklearn.cluster import KMeans"
   ]
  },
  {
   "cell_type": "code",
   "execution_count": 46,
   "metadata": {},
   "outputs": [],
   "source": [
    "k_inertia = []\n",
    "ks = range(1,20)"
   ]
  },
  {
   "cell_type": "code",
   "execution_count": 47,
   "metadata": {},
   "outputs": [],
   "source": [
    "for k in ks:\n",
    "    clf_kmeans = KMeans(n_clusters=k)\n",
    "    clusters_kmeans = clf_kmeans.fit_predict(data_scaled)\n",
    "    k_inertia.append(clf_kmeans.inertia_)"
   ]
  },
  {
   "cell_type": "code",
   "execution_count": 48,
   "metadata": {},
   "outputs": [
    {
     "data": {
      "text/plain": [
       "19"
      ]
     },
     "execution_count": 48,
     "metadata": {},
     "output_type": "execute_result"
    }
   ],
   "source": [
    "len(k_inertia)"
   ]
  },
  {
   "cell_type": "code",
   "execution_count": 52,
   "metadata": {},
   "outputs": [
    {
     "data": {
      "text/plain": [
       "[<matplotlib.lines.Line2D at 0x1b8090679d0>]"
      ]
     },
     "execution_count": 52,
     "metadata": {},
     "output_type": "execute_result"
    },
    {
     "data": {
      "image/png": "[encoded data removed]",
      "text/plain": [
       "<Figure size 432x288 with 1 Axes>"
      ]
     },
     "metadata": {
      "needs_background": "light"
     },
     "output_type": "display_data"
    }
   ],
   "source": [
    "plt.plot(ks, k_inertia)\n",
    "plt.plot(ks, k_inertia, 'ro')"
   ]
  },
  {
   "cell_type": "markdown",
   "metadata": {},
   "source": [
    "## По получившейся картине оптимальное количество кластеров однозначно определить затруднительно, поэтому попробуй визуализировать несколько вариантов"
   ]
  },
  {
   "cell_type": "code",
   "execution_count": 58,
   "metadata": {},
   "outputs": [
    {
     "data": {
      "text/plain": [
       "<matplotlib.collections.PathCollection at 0x1b809122280>"
      ]
     },
     "execution_count": 58,
     "metadata": {},
     "output_type": "execute_result"
    },
    {
     "data": {
      "image/png": "[encoded data removed]",
      "text/plain": [
       "<Figure size 432x288 with 1 Axes>"
      ]
     },
     "metadata": {
      "needs_background": "light"
     },
     "output_type": "display_data"
    }
   ],
   "source": [
    "kmeans = KMeans(n_clusters = 2)\n",
    "clusters = kmeans.fit_predict(data_scaled)\n",
    "plt.scatter(data_scaled[:,0], data_scaled[:,1], s=10, c = clusters)"
   ]
  },
  {
   "cell_type": "code",
   "execution_count": 59,
   "metadata": {},
   "outputs": [
    {
     "data": {
      "text/plain": [
       "<matplotlib.collections.PathCollection at 0x1b809175400>"
      ]
     },
     "execution_count": 59,
     "metadata": {},
     "output_type": "execute_result"
    },
    {
     "data": {
      "image/png": "[encoded data removed]",
      "text/plain": [
       "<Figure size 432x288 with 1 Axes>"
      ]
     },
     "metadata": {
      "needs_background": "light"
     },
     "output_type": "display_data"
    }
   ],
   "source": [
    "kmeans = KMeans(n_clusters = 3)\n",
    "clusters = kmeans.fit_predict(data_scaled)\n",
    "plt.scatter(data_scaled[:,0], data_scaled[:,1], s=10, c = clusters)"
   ]
  },
  {
   "cell_type": "code",
   "execution_count": 60,
   "metadata": {},
   "outputs": [
    {
     "data": {
      "text/plain": [
       "<matplotlib.collections.PathCollection at 0x1b8091c5610>"
      ]
     },
     "execution_count": 60,
     "metadata": {},
     "output_type": "execute_result"
    },
    {
     "data": {
      "image/png": "[encoded data removed]",
      "text/plain": [
       "<Figure size 432x288 with 1 Axes>"
      ]
     },
     "metadata": {
      "needs_background": "light"
     },
     "output_type": "display_data"
    }
   ],
   "source": [
    "kmeans = KMeans(n_clusters = 4)\n",
    "clusters = kmeans.fit_predict(data_scaled)\n",
    "plt.scatter(data_scaled[:,0], data_scaled[:,1], s=10, c = clusters)"
   ]
  },
  {
   "cell_type": "markdown",
   "metadata": {},
   "source": [
    "## Визуально похоже, что оптимальное количество кластеров - 2. Граница между ними видна невооруженным глазом, а дальнейшее увеличение количества групп выглядит надуманным."
   ]
  },
  {
   "cell_type": "code",
   "execution_count": null,
   "metadata": {},
   "outputs": [],
   "source": []
  }
 ],
 "metadata": {
  "kernelspec": {
   "display_name": "Python 3",
   "language": "python",
   "name": "python3"
  },
  "language_info": {
   "codemirror_mode": {
    "name": "ipython",
    "version": 3
   },
   "file_extension": ".py",
   "mimetype": "text/x-python",
   "name": "python",
   "nbconvert_exporter": "python",
   "pygments_lexer": "ipython3",
   "version": "3.8.5"
  }
 },
 "nbformat": 4,
 "nbformat_minor": 4
}
