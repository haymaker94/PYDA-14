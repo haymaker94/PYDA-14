{
 "cells": [
  {
   "cell_type": "code",
   "execution_count": 16,
   "metadata": {},
   "outputs": [
    {
     "name": "stdout",
     "output_type": "stream",
     "text": [
      "{98, 35, 15, 213, 54, 119}\n"
     ]
    }
   ],
   "source": [
    "#Задание 1. Дана переменная, в которой хранится словарь, содержащий гео-метки для каждого пользователя\n",
    "#(пример структуры данных приведен ниже). Вам необходимо написать программу, которая выведет на экран множество\n",
    "#уникальных гео-меток всех пользователей.\n",
    "ids = {'user1': [213, 213, 213, 15, 213], \n",
    "       'user2': [54, 54, 119, 119, 119], \n",
    "       'user3': [213, 98, 98, 35]}\n",
    "#Результат: {98, 35, 15, 213, 54, 119}\n",
    "uniquetags = []\n",
    "for key in ids:\n",
    "    uniquetags += ids[key]\n",
    "print(set(uniquetags))"
   ]
  },
  {
   "cell_type": "code",
   "execution_count": 48,
   "metadata": {},
   "outputs": [
    {
     "name": "stdout",
     "output_type": "stream",
     "text": [
      "Поисковых запросов, содержащих  2  слов(а): 42.86 %\n",
      "Поисковых запросов, содержащих  3  слов(а): 57.14 %\n"
     ]
    }
   ],
   "source": [
    "#Задание 2. Дана переменная, в которой хранится список поисковых запросов пользователя\n",
    "#(пример структуры данных приведен ниже). Вам необходимо написать программу, \n",
    "#которая выведет на экран распределение количества слов в запросах в требуемом виде.\n",
    "#Пример работы программы:\n",
    "\n",
    "queries = [\n",
    "    'смотреть сериалы онлайн',\n",
    "    'новости спорта',\n",
    "    'афиша кино',\n",
    "    'курс доллара',\n",
    "    'сериалы этим летом',\n",
    "    'курс по питону',\n",
    "    'сериалы про спорт',\n",
    "]\n",
    "#Результат:\n",
    "#Поисковых запросов, содержащих 2 слов(а): 42.86%\n",
    "#Поисковых запросов, содержащих 3 слов(а): 57.14%\n",
    "wordsNum = []\n",
    "for query in queries:\n",
    "    wordsNum.append(len(query.split()))\n",
    "wordsNumRes = (set(wordsNum))\n",
    "for entry in wordsNumRes:\n",
    "    print ('Поисковых запросов, содержащих ', entry, ' слов(а):', round(wordsNum.count(entry)/len(wordsNum)*100,2), '%')"
   ]
  },
  {
   "cell_type": "code",
   "execution_count": 78,
   "metadata": {},
   "outputs": [
    {
     "name": "stdout",
     "output_type": "stream",
     "text": [
      "{'vk': {'revenue': 103, 'cost': 98, 'ROI': 5.1}, 'yandex': {'revenue': 179, 'cost': 153, 'ROI': 16.99}, 'facebook': {'revenue': 103, 'cost': 110, 'ROI': -6.36}, 'adwords': {'revenue': 35, 'cost': 34, 'ROI': 2.94}, 'twitter': {'revenue': 11, 'cost': 24, 'ROI': -54.17}}\n"
     ]
    }
   ],
   "source": [
    "# Задание 3. Дана переменная, в которой хранится информация о затратах и доходе рекламных кампаний по различным источникам.\n",
    "#Необходимо дополнить исходную структуру показателем ROI, который рассчитаем по формуле: (revenue / cost - 1) * 100\n",
    "#Пример работы программы:\n",
    "results = {\n",
    "    'vk': {'revenue': 103, 'cost': 98},\n",
    "    'yandex': {'revenue': 179, 'cost': 153},\n",
    "    'facebook': {'revenue': 103, 'cost': 110},\n",
    "    'adwords': {'revenue': 35, 'cost': 34},\n",
    "    'twitter': {'revenue': 11, 'cost': 24},\n",
    "}\n",
    "#Результат:\n",
    "\n",
    "#{'adwords': {'ROI': 2.94, 'cost': 34, 'revenue': 35},\n",
    "# 'facebook': {'ROI': -6.36, 'cost': 110, 'revenue': 103},\n",
    "# 'twitter': {'ROI': -54.17, 'cost': 24, 'revenue': 11},\n",
    "# 'vk': {'ROI': 5.1, 'cost': 98, 'revenue': 103},\n",
    "# 'yandex': {'ROI': 16.99, 'cost': 153, 'revenue': 179}}\n",
    "\n",
    "for entry in results:\n",
    "    results[entry]['ROI'] = round((results[entry]['revenue']/results[entry]['cost']-1)*100,2)\n",
    "    #print(entry, results[entry])\n",
    "print(results)"
   ]
  },
  {
   "cell_type": "code",
   "execution_count": 102,
   "metadata": {},
   "outputs": [
    {
     "name": "stdout",
     "output_type": "stream",
     "text": [
      "Максимальный объем продаж на рекламном канале: vk\n"
     ]
    }
   ],
   "source": [
    "# Задание 4. Дана переменная, в которой хранится статистика рекламных каналов по объемам продаж \n",
    "#(пример структуры данных приведен ниже). Напишите программу, которая возвращает \n",
    "#название канала с максимальным объемом продаж.\n",
    "#Пример работы программы:\n",
    "stats = {'facebook': 55, 'yandex': 115, 'vk': 120, 'google': 99, 'email': 42, 'ok': 98}\n",
    "#Результат: Максимальный объем продаж на рекламном канале: vk\n",
    "\n",
    "volumes = sorted([stats[channel] for channel in stats])\n",
    "top = volumes[-1]\n",
    "print('Максимальный объем продаж на рекламном канале: ', end='')\n",
    "for channels in stats:\n",
    "    if stats[channels] == top:\n",
    "        print(channels)\n"
   ]
  },
  {
   "cell_type": "code",
   "execution_count": 64,
   "metadata": {},
   "outputs": [
    {
     "name": "stdout",
     "output_type": "stream",
     "text": [
      "Максимальный объем продаж на рекламном канале:  vk\n"
     ]
    }
   ],
   "source": [
    "# Задание 4. Дана переменная, в которой хранится статистика рекламных каналов по объемам продаж \n",
    "#(пример структуры данных приведен ниже). Напишите программу, которая возвращает \n",
    "#название канала с максимальным объемом продаж.\n",
    "#Пример работы программы:\n",
    "stats = {'facebook': 55, 'yandex': 115, 'vk': 120, 'google': 99, 'email': 42, 'ok': 98}\n",
    "#Результат: Максимальный объем продаж на рекламном канале: vk\n",
    "\n",
    "#вариант второй\n",
    "maxVol = 0\n",
    "for key, value in stats.items():\n",
    "    if value > maxVol:\n",
    "        maxVol = value\n",
    "        topChan = key\n",
    "print('Максимальный объем продаж на рекламном канале: ', topChan)"
   ]
  },
  {
   "cell_type": "code",
   "execution_count": 138,
   "metadata": {},
   "outputs": [
    {
     "name": "stdout",
     "output_type": "stream",
     "text": [
      "Максимальный объем продаж на рекламном канале: vk\n"
     ]
    }
   ],
   "source": [
    "# Задание 4. Дана переменная, в которой хранится статистика рекламных каналов по объемам продаж \n",
    "#(пример структуры данных приведен ниже). Напишите программу, которая возвращает \n",
    "#название канала с максимальным объемом продаж.\n",
    "#Пример работы программы:\n",
    "stats = {'facebook': 55, 'yandex': 115, 'vk': 120, 'google': 99, 'email': 42, 'ok': 98}\n",
    "#Результат: Максимальный объем продаж на рекламном канале: vk\n",
    "\n",
    "# вариант третий\n",
    "print(f'Максимальный объем продаж на рекламном канале: {sorted(stats.items(),  reverse=True, key = lambda kv: kv[1])[0][0]}')"
   ]
  },
  {
   "cell_type": "code",
   "execution_count": 84,
   "metadata": {},
   "outputs": [
    {
     "name": "stdout",
     "output_type": "stream",
     "text": [
      "{'a': {'b': {'c': {'d': {'e': 'f'}}}}}\n"
     ]
    }
   ],
   "source": [
    "# Задание 5 (необязательно). Дан список произвольной длины. Необходимо написать код, \n",
    "#который на основе исходного списка составит словарь такого уровня вложенности, какова длина исхондого списка.\n",
    "#Примеры работы программы:\n",
    "#my_list = ['2018-01-01', 'yandex', 'cpc', 100]\n",
    "#Результат: {'2018-01-01': {'yandex': {'cpc': 100}}}\n",
    "\n",
    "my_list = ['a', 'b', 'c', 'd', 'e', 'f']\n",
    "#Результат: {'a': {'b': {'c': {'d': {'e': 'f'}}}}}\n",
    "#проходим список в обратном порядке. Последний элемент становится значением, предпоследний ключом\n",
    "resulting_dict = {my_list[len(my_list)-2]:my_list[len(my_list)-1]}\n",
    "for item in reversed(my_list[:len(my_list)-2:]):\n",
    "    len(my_list)\n",
    "    resulting_dict = {item:resulting_dict}\n",
    "print(resulting_dict)\n",
    "\n",
    "#в этой задаче пришлось гуглить идеи"
   ]
  },
  {
   "cell_type": "code",
   "execution_count": 22,
   "metadata": {},
   "outputs": [
    {
     "name": "stdout",
     "output_type": "stream",
     "text": [
      "сыр: 210 гр\n",
      "томаты: 6 шт\n",
      "огурцы: 60 гр\n",
      "маслины: 30 гр\n",
      "оливковое масло: 60 мл\n",
      "салат: 30 гр\n",
      "перец: 60 гр\n",
      "колбаса: 90 гр\n",
      "бекон: 90 гр\n",
      "оливки: 30 гр\n",
      "томаты: 60 гр\n",
      "тесто: 300 гр\n",
      "лимон: 3 шт\n",
      "вода: 600 мл\n",
      "сахар: 30 гр\n",
      "лайм: 60 гр\n"
     ]
    }
   ],
   "source": [
    "# Задание 6 (необязательно). Дана книга рецептов с информацией о том, сколько ингредиентов нужно для приготовления блюда \n",
    "#в расчете на одну порцию (пример данных представлен ниже).\n",
    "#Напишите программу, которая будет запрашивать у пользователя количество порций для приготовления этих блюд и отображать информацию о суммарном количестве требуемых ингредиентов в указанном виде.\n",
    "#Внимание! Одинаковые ингридиенты с разными размерностями нужно считать раздельно!\n",
    "#Пример работы программы:\n",
    "#\n",
    "#Введите количество порций:  \n",
    "#3\n",
    "#Результат:\n",
    "#\n",
    "# Сыр: 210 гр  \n",
    "# Томаты: 6 шт  \n",
    "# Огурцы: 60 гр  \n",
    "# Маслины: 30 гр  \n",
    "# Оливковое масло: 60 мл  \n",
    "# Салат: 30 гр  \n",
    "# Перец: 60 гр  \n",
    "# Колбаса: 90 гр  \n",
    "# Бекон: 90 гр  \n",
    "# Оливки: 30 гр  \n",
    "# Томаты: 60 гр  \n",
    "# Тесто: 300 гр  \n",
    "# Лимон: 3 шт  \n",
    "# Вода: 600 мл  \n",
    "# Сахар: 30 гр  \n",
    "# Лайм: 60 гр\n",
    "cook_book = {\n",
    "  'салат': [\n",
    "     {'ingridient_name': 'сыр', 'quantity': 50, 'measure': 'гр'},\n",
    "     {'ingridient_name': 'томаты', 'quantity': 2, 'measure': 'шт'},\n",
    "     {'ingridient_name': 'огурцы', 'quantity': 20, 'measure': 'гр'},\n",
    "     {'ingridient_name': 'маслины', 'quantity': 10, 'measure': 'гр'},\n",
    "     {'ingridient_name': 'оливковое масло', 'quantity': 20, 'measure': 'мл'},\n",
    "     {'ingridient_name': 'салат', 'quantity': 10, 'measure': 'гр'},\n",
    "     {'ingridient_name': 'перец', 'quantity': 20, 'measure': 'гр'}\n",
    "    ],\n",
    "  'пицца': [\n",
    "     {'ingridient_name': 'сыр', 'quantity': 20, 'measure': 'гр'},\n",
    "     {'ingridient_name': 'колбаса', 'quantity': 30, 'measure': 'гр'},\n",
    "     {'ingridient_name': 'бекон', 'quantity': 30, 'measure': 'гр'},\n",
    "     {'ingridient_name': 'оливки', 'quantity': 10, 'measure': 'гр'},\n",
    "     {'ingridient_name': 'томаты', 'quantity': 20, 'measure': 'гр'},\n",
    "     {'ingridient_name': 'тесто', 'quantity': 100, 'measure': 'гр'},   \n",
    "    ],\n",
    "  'лимонад': [\n",
    "     {'ingridient_name': 'лимон', 'quantity': 1, 'measure': 'шт'},\n",
    "     {'ingridient_name': 'вода', 'quantity': 200, 'measure': 'мл'},\n",
    "     {'ingridient_name': 'сахар', 'quantity': 10, 'measure': 'гр'},\n",
    "     {'ingridient_name': 'лайм', 'quantity': 20, 'measure': 'гр'},    \n",
    "    ]\n",
    "}\n",
    "# persons = 3\n",
    "# ingridients = []\n",
    "# toBuy = []\n",
    "# components = set()\n",
    "# for dish in cook_book.values():\n",
    "#     for products in dish:\n",
    "#         ingridients.append(list(products.values()))\n",
    "#         components.add((products['ingridient_name'], products['measure']))\n",
    "\n",
    "# shop_dict = {}\n",
    "# for dish in cook_book.values():\n",
    "# \tfor ingr in dish:\n",
    "#     \tif (ingr['ingridient_name'], ingr['measure']) not in shop_dict:\n",
    "#         \t...\n",
    "#     \telse:\n",
    "#         \t...\n",
    "toBuy = {}\n",
    "for dish in cook_book.values():\n",
    "    for component in dish:\n",
    "        if not (component['ingridient_name'], component['measure']) in toBuy:\n",
    "            toBuy[component['ingridient_name'], component['measure']] = component['quantity']\n",
    "        else:\n",
    "            toBuy[component['ingridient_name'], component['measure']] += component['quantity']\n",
    "for entry in toBuy:\n",
    "    print(f'{entry[0]}: {toBuy[entry]*3} {entry[1]}')"
   ]
  },
  {
   "cell_type": "code",
   "execution_count": null,
   "metadata": {},
   "outputs": [],
   "source": []
  }
 ],
 "metadata": {
  "kernelspec": {
   "display_name": "Python 3",
   "language": "python",
   "name": "python3"
  },
  "language_info": {
   "codemirror_mode": {
    "name": "ipython",
    "version": 3
   },
   "file_extension": ".py",
   "mimetype": "text/x-python",
   "name": "python",
   "nbconvert_exporter": "python",
   "pygments_lexer": "ipython3",
   "version": "3.7.6"
  }
 },
 "nbformat": 4,
 "nbformat_minor": 4
}
