{
 "cells": [
  {
   "cell_type": "code",
   "execution_count": 83,
   "metadata": {},
   "outputs": [
    {
     "name": "stdout",
     "output_type": "stream",
     "text": [
      "{'a': {'h': 'i', 'g': 'h', 'f': 'g', 'e': 'f', 'd': 'e', 'c': 'd', 'b': 'c', 'a': 'b', 'i': 'a'}}\n"
     ]
    }
   ],
   "source": [
    "# Задание 5 (необязательно). Дан список произвольной длины. Необходимо написать код, \n",
    "#который на основе исходного списка составит словарь такого уровня вложенности, какова длина исхондого списка.\n",
    "#Примеры работы программы:\n",
    "#my_list = ['2018-01-01', 'yandex', 'cpc', 100]\n",
    "#Результат: {'2018-01-01': {'yandex': {'cpc': 100}}}\n",
    "\n",
    "my_list = ['a', 'b', 'c', 'd', 'e', 'f', 'g', 'h', 'i']\n",
    "#Результат: {'a': {'b': {'c': {'d': {'e': 'f'}}}}}\n",
    "result, my_dict, my_dict2 = {},{},{}\n",
    "for item in range(len(my_list)-1,-1,-1):\n",
    "    result[my_list[0]]=my_dict\n",
    "    my_dict[my_list[item-1]] = my_list[item]\n",
    "print(result)"
   ]
  }
 ],
 "metadata": {
  "kernelspec": {
   "display_name": "Python 3",
   "language": "python",
   "name": "python3"
  },
  "language_info": {
   "codemirror_mode": {
    "name": "ipython",
    "version": 3
   },
   "file_extension": ".py",
   "mimetype": "text/x-python",
   "name": "python",
   "nbconvert_exporter": "python",
   "pygments_lexer": "ipython3",
   "version": "3.7.6"
  }
 },
 "nbformat": 4,
 "nbformat_minor": 4
}
