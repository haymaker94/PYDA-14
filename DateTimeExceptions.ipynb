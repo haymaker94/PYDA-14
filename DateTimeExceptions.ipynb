{
 "cells": [
  {
   "cell_type": "code",
   "execution_count": null,
   "metadata": {},
   "outputs": [],
   "source": [
    "# Задание 1\n",
    "# Печатные газеты использовали свой формат дат для каждого выпуска.\n",
    "# Для каждой газеты из списка напишите формат указанной даты для перевода в объект datetime:\n",
    "# The Moscow Times - Wednesday, October 2, 2002\n",
    "# The Guardian - Friday, 11.10.13\n",
    "# Daily News - Thursday, 18 August 1977\n",
    "\n",
    "# Задание 2\n",
    "# Дан поток дат в формате YYYY-MM-DD, в которых встречаются некорректные значения:\n",
    "# stream = [‘2018-04-02’, ‘2018-02-29’, ‘2018-19-02’]\n",
    "# Напишите функцию, которая проверяет эти даты на корректность. Т. е. для каждой даты\n",
    "# возвращает True (дата корректна) или False (некорректная дата).\n",
    "\n",
    "# Задание 3\n",
    "# Напишите функцию date_range, которая возвращает список дат за период от start_date до end_date.\n",
    "# Даты должны вводиться в формате YYYY-MM-DD. В случае неверного формата или\n",
    "# при start_date > end_date должен возвращаться пустой список.\n",
    "\n",
    "# Задание 4 (бонусное)\n",
    "# Ваш коллега прислал код функции:\n",
    "# DEFAULT_USER_COUNT = 3\n",
    "# def delete_and_return_last_user(region, default_list=[‘A100’, ‘A101’, ‘A102’]):\n",
    "# \"\"“\n",
    "# Удаляет из списка default_list последнего пользователя\n",
    "# и возвращает ID нового последнего пользователя.\n",
    "# ”\"\"\n",
    "# element_to_delete = default_list[-1]\n",
    "# default_list.remove(element_to_delete)\n",
    "\n",
    "# return default_list[DEFAULT_USER_COUNT-2]\n",
    "# При однократном вызове этой функции все работает корректно:\n",
    "# delete_and_return_last_user(1)\n",
    "# ‘A101’\n",
    "\n",
    "# Однако, при повторном вызове получается ошибка IndexError: list index out of range.\n",
    "\n",
    "# Задание:\n",
    "\n",
    "# Что значит ошибка list index out of range?\n",
    "# Почему при первом запуске функция работает корректно, а при втором - нет?"
   ]
  },
  {
   "cell_type": "code",
   "execution_count": 9,
   "metadata": {},
   "outputs": [
    {
     "name": "stdout",
     "output_type": "stream",
     "text": [
      "2002-10-02 00:00:00\n",
      "2013-10-11 00:00:00\n",
      "1977-08-18 00:00:00\n"
     ]
    }
   ],
   "source": [
    "# Задание 1\n",
    "# Печатные газеты использовали свой формат дат для каждого выпуска.\n",
    "# Для каждой газеты из списка напишите формат указанной даты для перевода в объект datetime:\n",
    "# The Moscow Times - Wednesday, October 2, 2002\n",
    "# The Guardian - Friday, 11.10.13\n",
    "# Daily News - Thursday, 18 August 1977\n",
    "from datetime import datetime as dt\n",
    "MoscowTimes = 'Wednesday, October 2, 2002'\n",
    "Guardian = 'Friday, 11.10.13'\n",
    "DailyNews = 'Thursday, 18 August 1977'\n",
    "MT_datetime = dt.strptime (MoscowTimes, '%A, %B %d, %Y')\n",
    "GD_datetime = dt.strptime (Guardian, '%A, %d.%m.%y')\n",
    "DN_datetime = dt.strptime (DailyNews, '%A, %d %B %Y')\n",
    "print(MT_datetime)\n",
    "print(GD_datetime)\n",
    "print(DN_datetime)"
   ]
  },
  {
   "cell_type": "code",
   "execution_count": 14,
   "metadata": {
    "scrolled": true
   },
   "outputs": [
    {
     "name": "stdout",
     "output_type": "stream",
     "text": [
      "2018-04-02 00:00:00 True\n",
      "2018-02-29 False\n",
      "2018-19-02 False\n"
     ]
    }
   ],
   "source": [
    "# Задание 2\n",
    "# Дан поток дат в формате YYYY-MM-DD, в которых встречаются некорректные значения:\n",
    "stream = ['2018-04-02', '2018-02-29', '2018-19-02']\n",
    "# Напишите функцию, которая проверяет эти даты на корректность. Т. е. для каждой даты\n",
    "# возвращает True (дата корректна) или False (некорректная дата).\n",
    "from datetime import datetime as dt\n",
    "for date in stream:\n",
    "    try:\n",
    "        date = dt.strptime (date, '%Y-%m-%d')\n",
    "        print (date, 'True')\n",
    "    except:\n",
    "        print (date, 'False')\n"
   ]
  },
  {
   "cell_type": "code",
   "execution_count": 23,
   "metadata": {},
   "outputs": [
    {
     "name": "stdout",
     "output_type": "stream",
     "text": [
      "Введите начальную дату в формате ГГГГ-ММ-ДД: 2020-11-01\n",
      "Введите конечную дату в формате ГГГГ-ММ-ДД: 2020-10-15\n",
      "[]\n"
     ]
    }
   ],
   "source": [
    "# Задание 3\n",
    "# Напишите функцию date_range, которая возвращает список дат за период от start_date до end_date.\n",
    "# Даты должны вводиться в формате YYYY-MM-DD. В случае неверного формата или\n",
    "# при start_date > end_date должен возвращаться пустой список.\n",
    "from datetime import datetime as dt\n",
    "from datetime import timedelta\n",
    "def date_range ():\n",
    "    start_date = input('Введите начальную дату в формате ГГГГ-ММ-ДД: ')\n",
    "    end_date = input('Введите конечную дату в формате ГГГГ-ММ-ДД: ')\n",
    "    sd = dt.strptime(start_date, '%Y-%m-%d')\n",
    "    ed = dt.strptime(end_date, '%Y-%m-%d')\n",
    "    datelist = []\n",
    "    currentDate = sd\n",
    "    while currentDate <= ed:\n",
    "        datelist.append(currentDate.strftime('%Y-%m-%d'))\n",
    "        currentDate += timedelta(days = 1)\n",
    "    print(datelist)\n",
    "date_range()"
   ]
  },
  {
   "cell_type": "code",
   "execution_count": null,
   "metadata": {},
   "outputs": [],
   "source": [
    "# Задание 4 (бонусное)\n",
    "# Ваш коллега прислал код функции:\n",
    "\n",
    "# \"\"“\n",
    "# Удаляет из списка default_list последнего пользователя\n",
    "# и возвращает ID нового последнего пользователя.\n",
    "# ”\"\"\n",
    "# При однократном вызове этой функции все работает корректно:\n",
    "# Однако, при повторном вызове получается ошибка IndexError: list index out of range.\n",
    "# Задание:\n",
    "# Что значит ошибка list index out of range?\n",
    "# Почему при первом запуске функция работает корректно, а при втором - нет?\n",
    "\n",
    "# DEFAULT_USER_COUNT = 3\n",
    "# def delete_and_return_last_user(region, default_list=['A100', 'A101', 'A102']):\n",
    "#     element_to_delete = default_list[-1]\n",
    "#     default_list.remove(element_to_delete)\n",
    "#     return default_list[DEFAULT_USER_COUNT-2]\n",
    "#delete_and_return_last_user(1)\n",
    "#‘A101’\n",
    "\n",
    "List index out of range означает, что мы обращаемся к элементу списка, которого не существует.\n",
    "В данном случае это вызвано тем, что глобальная переменная DEFAULT_USER_COUNT при каждом запуске программы снова\n",
    "становится тройкой, тогда как список юзеров сокращается.\n",
    "При втором вызове функции список сокращается до одного элемента (с индексом [0]), а мы хотим вернуть элемент\n",
    "с индексом [1], который только что удалили. Можно увязать переменную DEFAULT_USER_COUNT с длиной списка default_list.\n"
   ]
  }
 ],
 "metadata": {
  "kernelspec": {
   "display_name": "Python 3",
   "language": "python",
   "name": "python3"
  },
  "language_info": {
   "codemirror_mode": {
    "name": "ipython",
    "version": 3
   },
   "file_extension": ".py",
   "mimetype": "text/x-python",
   "name": "python",
   "nbconvert_exporter": "python",
   "pygments_lexer": "ipython3",
   "version": "3.7.6"
  }
 },
 "nbformat": 4,
 "nbformat_minor": 4
}
