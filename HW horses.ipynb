{
 "cells": [
  {
   "cell_type": "code",
   "execution_count": 1,
   "metadata": {},
   "outputs": [],
   "source": [
    "import pandas as pd\n",
    "import re\n",
    "import seaborn as sns\n",
    "from matplotlib import pyplot as plt\n",
    "import numpy as np"
   ]
  },
  {
   "cell_type": "code",
   "execution_count": 2,
   "metadata": {},
   "outputs": [],
   "source": [
    "names = 'horse_data.names'\n",
    "f = open (names, 'r', encoding = 'utf-8')\n",
    "content = f.readlines()"
   ]
  },
  {
   "cell_type": "code",
   "execution_count": 3,
   "metadata": {},
   "outputs": [],
   "source": [
    "# извлечем заголовки столбцов\n",
    "col_names_dict = {}\n",
    "for string in content:\n",
    "    data = re.findall(r'\\d{1,2}:\\n*', string)\n",
    "    meaning = re.findall(r'\\D*', string)\n",
    "    if len(data) >= 1:\n",
    "        key = data[0].strip(':')\n",
    "        value = meaning[-2].strip(':').strip()\n",
    "        col_names_dict[key]  = value\n",
    "col_names = list(col_names_dict.values())"
   ]
  },
  {
   "cell_type": "code",
   "execution_count": 4,
   "metadata": {},
   "outputs": [
    {
     "data": {
      "text/plain": [
       "26"
      ]
     },
     "execution_count": 4,
     "metadata": {},
     "output_type": "execute_result"
    }
   ],
   "source": [
    "len(col_names)"
   ]
  },
  {
   "cell_type": "code",
   "execution_count": 5,
   "metadata": {},
   "outputs": [
    {
     "data": {
      "text/html": [
       "<div>\n",
       "<style scoped>\n",
       "    .dataframe tbody tr th:only-of-type {\n",
       "        vertical-align: middle;\n",
       "    }\n",
       "\n",
       "    .dataframe tbody tr th {\n",
       "        vertical-align: top;\n",
       "    }\n",
       "\n",
       "    .dataframe thead th {\n",
       "        text-align: right;\n",
       "    }\n",
       "</style>\n",
       "<table border=\"1\" class=\"dataframe\">\n",
       "  <thead>\n",
       "    <tr style=\"text-align: right;\">\n",
       "      <th></th>\n",
       "      <th>2</th>\n",
       "      <th>1</th>\n",
       "      <th>530101</th>\n",
       "      <th>38.50</th>\n",
       "      <th>66</th>\n",
       "      <th>28</th>\n",
       "      <th>3</th>\n",
       "      <th>3.1</th>\n",
       "      <th>?</th>\n",
       "      <th>2.1</th>\n",
       "      <th>...</th>\n",
       "      <th>45.00</th>\n",
       "      <th>8.40</th>\n",
       "      <th>?.4</th>\n",
       "      <th>?.5</th>\n",
       "      <th>2.2</th>\n",
       "      <th>2.3</th>\n",
       "      <th>11300</th>\n",
       "      <th>00000</th>\n",
       "      <th>00000.1</th>\n",
       "      <th>2.4</th>\n",
       "    </tr>\n",
       "  </thead>\n",
       "  <tbody>\n",
       "    <tr>\n",
       "      <th>0</th>\n",
       "      <td>1.0</td>\n",
       "      <td>1</td>\n",
       "      <td>534817</td>\n",
       "      <td>39.2</td>\n",
       "      <td>88.0</td>\n",
       "      <td>20.0</td>\n",
       "      <td>NaN</td>\n",
       "      <td>NaN</td>\n",
       "      <td>4.0</td>\n",
       "      <td>1.0</td>\n",
       "      <td>...</td>\n",
       "      <td>50.0</td>\n",
       "      <td>85.0</td>\n",
       "      <td>2.0</td>\n",
       "      <td>2.0</td>\n",
       "      <td>3.0</td>\n",
       "      <td>2</td>\n",
       "      <td>2208</td>\n",
       "      <td>0</td>\n",
       "      <td>0</td>\n",
       "      <td>2</td>\n",
       "    </tr>\n",
       "    <tr>\n",
       "      <th>1</th>\n",
       "      <td>2.0</td>\n",
       "      <td>1</td>\n",
       "      <td>530334</td>\n",
       "      <td>38.3</td>\n",
       "      <td>40.0</td>\n",
       "      <td>24.0</td>\n",
       "      <td>1.0</td>\n",
       "      <td>1.0</td>\n",
       "      <td>3.0</td>\n",
       "      <td>1.0</td>\n",
       "      <td>...</td>\n",
       "      <td>33.0</td>\n",
       "      <td>6.7</td>\n",
       "      <td>NaN</td>\n",
       "      <td>NaN</td>\n",
       "      <td>1.0</td>\n",
       "      <td>2</td>\n",
       "      <td>0</td>\n",
       "      <td>0</td>\n",
       "      <td>0</td>\n",
       "      <td>1</td>\n",
       "    </tr>\n",
       "    <tr>\n",
       "      <th>2</th>\n",
       "      <td>1.0</td>\n",
       "      <td>9</td>\n",
       "      <td>5290409</td>\n",
       "      <td>39.1</td>\n",
       "      <td>164.0</td>\n",
       "      <td>84.0</td>\n",
       "      <td>4.0</td>\n",
       "      <td>1.0</td>\n",
       "      <td>6.0</td>\n",
       "      <td>2.0</td>\n",
       "      <td>...</td>\n",
       "      <td>48.0</td>\n",
       "      <td>7.2</td>\n",
       "      <td>3.0</td>\n",
       "      <td>5.3</td>\n",
       "      <td>2.0</td>\n",
       "      <td>1</td>\n",
       "      <td>2208</td>\n",
       "      <td>0</td>\n",
       "      <td>0</td>\n",
       "      <td>1</td>\n",
       "    </tr>\n",
       "    <tr>\n",
       "      <th>3</th>\n",
       "      <td>2.0</td>\n",
       "      <td>1</td>\n",
       "      <td>530255</td>\n",
       "      <td>37.3</td>\n",
       "      <td>104.0</td>\n",
       "      <td>35.0</td>\n",
       "      <td>NaN</td>\n",
       "      <td>NaN</td>\n",
       "      <td>6.0</td>\n",
       "      <td>2.0</td>\n",
       "      <td>...</td>\n",
       "      <td>74.0</td>\n",
       "      <td>7.4</td>\n",
       "      <td>NaN</td>\n",
       "      <td>NaN</td>\n",
       "      <td>2.0</td>\n",
       "      <td>2</td>\n",
       "      <td>4300</td>\n",
       "      <td>0</td>\n",
       "      <td>0</td>\n",
       "      <td>2</td>\n",
       "    </tr>\n",
       "    <tr>\n",
       "      <th>4</th>\n",
       "      <td>2.0</td>\n",
       "      <td>1</td>\n",
       "      <td>528355</td>\n",
       "      <td>NaN</td>\n",
       "      <td>NaN</td>\n",
       "      <td>NaN</td>\n",
       "      <td>2.0</td>\n",
       "      <td>1.0</td>\n",
       "      <td>3.0</td>\n",
       "      <td>1.0</td>\n",
       "      <td>...</td>\n",
       "      <td>NaN</td>\n",
       "      <td>NaN</td>\n",
       "      <td>NaN</td>\n",
       "      <td>NaN</td>\n",
       "      <td>1.0</td>\n",
       "      <td>2</td>\n",
       "      <td>0</td>\n",
       "      <td>0</td>\n",
       "      <td>0</td>\n",
       "      <td>2</td>\n",
       "    </tr>\n",
       "  </tbody>\n",
       "</table>\n",
       "<p>5 rows × 28 columns</p>\n",
       "</div>"
      ],
      "text/plain": [
       "     2  1   530101  38.50     66    28    3  3.1    ?  2.1  ...  45.00  8.40  \\\n",
       "0  1.0  1   534817   39.2   88.0  20.0  NaN  NaN  4.0  1.0  ...   50.0  85.0   \n",
       "1  2.0  1   530334   38.3   40.0  24.0  1.0  1.0  3.0  1.0  ...   33.0   6.7   \n",
       "2  1.0  9  5290409   39.1  164.0  84.0  4.0  1.0  6.0  2.0  ...   48.0   7.2   \n",
       "3  2.0  1   530255   37.3  104.0  35.0  NaN  NaN  6.0  2.0  ...   74.0   7.4   \n",
       "4  2.0  1   528355    NaN    NaN   NaN  2.0  1.0  3.0  1.0  ...    NaN   NaN   \n",
       "\n",
       "   ?.4  ?.5  2.2  2.3  11300  00000  00000.1  2.4  \n",
       "0  2.0  2.0  3.0    2   2208      0        0    2  \n",
       "1  NaN  NaN  1.0    2      0      0        0    1  \n",
       "2  3.0  5.3  2.0    1   2208      0        0    1  \n",
       "3  NaN  NaN  2.0    2   4300      0        0    2  \n",
       "4  NaN  NaN  1.0    2      0      0        0    2  \n",
       "\n",
       "[5 rows x 28 columns]"
      ]
     },
     "execution_count": 5,
     "metadata": {},
     "output_type": "execute_result"
    }
   ],
   "source": [
    "df = pd.read_csv('horse_data.csv', na_values = '?')\n",
    "df.head()\n"
   ]
  },
  {
   "cell_type": "code",
   "execution_count": 6,
   "metadata": {},
   "outputs": [
    {
     "data": {
      "text/html": [
       "<div>\n",
       "<style scoped>\n",
       "    .dataframe tbody tr th:only-of-type {\n",
       "        vertical-align: middle;\n",
       "    }\n",
       "\n",
       "    .dataframe tbody tr th {\n",
       "        vertical-align: top;\n",
       "    }\n",
       "\n",
       "    .dataframe thead th {\n",
       "        text-align: right;\n",
       "    }\n",
       "</style>\n",
       "<table border=\"1\" class=\"dataframe\">\n",
       "  <thead>\n",
       "    <tr style=\"text-align: right;\">\n",
       "      <th></th>\n",
       "      <th>2</th>\n",
       "      <th>1</th>\n",
       "      <th>530101</th>\n",
       "      <th>38.50</th>\n",
       "      <th>66</th>\n",
       "      <th>28</th>\n",
       "      <th>3</th>\n",
       "      <th>3.1</th>\n",
       "      <th>?</th>\n",
       "      <th>2.1</th>\n",
       "      <th>...</th>\n",
       "      <th>3.2</th>\n",
       "      <th>5.1</th>\n",
       "      <th>45.00</th>\n",
       "      <th>8.40</th>\n",
       "      <th>?.4</th>\n",
       "      <th>?.5</th>\n",
       "      <th>2.2</th>\n",
       "      <th>2.3</th>\n",
       "      <th>2.4</th>\n",
       "      <th>sum</th>\n",
       "    </tr>\n",
       "  </thead>\n",
       "  <tbody>\n",
       "    <tr>\n",
       "      <th>0</th>\n",
       "      <td>1.0</td>\n",
       "      <td>1</td>\n",
       "      <td>534817</td>\n",
       "      <td>39.2</td>\n",
       "      <td>88.0</td>\n",
       "      <td>20.0</td>\n",
       "      <td>NaN</td>\n",
       "      <td>NaN</td>\n",
       "      <td>4.0</td>\n",
       "      <td>1.0</td>\n",
       "      <td>...</td>\n",
       "      <td>4.0</td>\n",
       "      <td>2.0</td>\n",
       "      <td>50.0</td>\n",
       "      <td>85.0</td>\n",
       "      <td>2.0</td>\n",
       "      <td>2.0</td>\n",
       "      <td>3.0</td>\n",
       "      <td>2</td>\n",
       "      <td>2</td>\n",
       "      <td>2208</td>\n",
       "    </tr>\n",
       "    <tr>\n",
       "      <th>1</th>\n",
       "      <td>2.0</td>\n",
       "      <td>1</td>\n",
       "      <td>530334</td>\n",
       "      <td>38.3</td>\n",
       "      <td>40.0</td>\n",
       "      <td>24.0</td>\n",
       "      <td>1.0</td>\n",
       "      <td>1.0</td>\n",
       "      <td>3.0</td>\n",
       "      <td>1.0</td>\n",
       "      <td>...</td>\n",
       "      <td>1.0</td>\n",
       "      <td>1.0</td>\n",
       "      <td>33.0</td>\n",
       "      <td>6.7</td>\n",
       "      <td>NaN</td>\n",
       "      <td>NaN</td>\n",
       "      <td>1.0</td>\n",
       "      <td>2</td>\n",
       "      <td>1</td>\n",
       "      <td>0</td>\n",
       "    </tr>\n",
       "    <tr>\n",
       "      <th>2</th>\n",
       "      <td>1.0</td>\n",
       "      <td>9</td>\n",
       "      <td>5290409</td>\n",
       "      <td>39.1</td>\n",
       "      <td>164.0</td>\n",
       "      <td>84.0</td>\n",
       "      <td>4.0</td>\n",
       "      <td>1.0</td>\n",
       "      <td>6.0</td>\n",
       "      <td>2.0</td>\n",
       "      <td>...</td>\n",
       "      <td>3.0</td>\n",
       "      <td>NaN</td>\n",
       "      <td>48.0</td>\n",
       "      <td>7.2</td>\n",
       "      <td>3.0</td>\n",
       "      <td>5.3</td>\n",
       "      <td>2.0</td>\n",
       "      <td>1</td>\n",
       "      <td>1</td>\n",
       "      <td>2208</td>\n",
       "    </tr>\n",
       "    <tr>\n",
       "      <th>3</th>\n",
       "      <td>2.0</td>\n",
       "      <td>1</td>\n",
       "      <td>530255</td>\n",
       "      <td>37.3</td>\n",
       "      <td>104.0</td>\n",
       "      <td>35.0</td>\n",
       "      <td>NaN</td>\n",
       "      <td>NaN</td>\n",
       "      <td>6.0</td>\n",
       "      <td>2.0</td>\n",
       "      <td>...</td>\n",
       "      <td>NaN</td>\n",
       "      <td>NaN</td>\n",
       "      <td>74.0</td>\n",
       "      <td>7.4</td>\n",
       "      <td>NaN</td>\n",
       "      <td>NaN</td>\n",
       "      <td>2.0</td>\n",
       "      <td>2</td>\n",
       "      <td>2</td>\n",
       "      <td>4300</td>\n",
       "    </tr>\n",
       "    <tr>\n",
       "      <th>4</th>\n",
       "      <td>2.0</td>\n",
       "      <td>1</td>\n",
       "      <td>528355</td>\n",
       "      <td>NaN</td>\n",
       "      <td>NaN</td>\n",
       "      <td>NaN</td>\n",
       "      <td>2.0</td>\n",
       "      <td>1.0</td>\n",
       "      <td>3.0</td>\n",
       "      <td>1.0</td>\n",
       "      <td>...</td>\n",
       "      <td>3.0</td>\n",
       "      <td>3.0</td>\n",
       "      <td>NaN</td>\n",
       "      <td>NaN</td>\n",
       "      <td>NaN</td>\n",
       "      <td>NaN</td>\n",
       "      <td>1.0</td>\n",
       "      <td>2</td>\n",
       "      <td>2</td>\n",
       "      <td>0</td>\n",
       "    </tr>\n",
       "  </tbody>\n",
       "</table>\n",
       "<p>5 rows × 26 columns</p>\n",
       "</div>"
      ],
      "text/plain": [
       "     2  1   530101  38.50     66    28    3  3.1    ?  2.1  ...  3.2  5.1  \\\n",
       "0  1.0  1   534817   39.2   88.0  20.0  NaN  NaN  4.0  1.0  ...  4.0  2.0   \n",
       "1  2.0  1   530334   38.3   40.0  24.0  1.0  1.0  3.0  1.0  ...  1.0  1.0   \n",
       "2  1.0  9  5290409   39.1  164.0  84.0  4.0  1.0  6.0  2.0  ...  3.0  NaN   \n",
       "3  2.0  1   530255   37.3  104.0  35.0  NaN  NaN  6.0  2.0  ...  NaN  NaN   \n",
       "4  2.0  1   528355    NaN    NaN   NaN  2.0  1.0  3.0  1.0  ...  3.0  3.0   \n",
       "\n",
       "   45.00  8.40  ?.4  ?.5  2.2  2.3  2.4   sum  \n",
       "0   50.0  85.0  2.0  2.0  3.0    2    2  2208  \n",
       "1   33.0   6.7  NaN  NaN  1.0    2    1     0  \n",
       "2   48.0   7.2  3.0  5.3  2.0    1    1  2208  \n",
       "3   74.0   7.4  NaN  NaN  2.0    2    2  4300  \n",
       "4    NaN   NaN  NaN  NaN  1.0    2    2     0  \n",
       "\n",
       "[5 rows x 26 columns]"
      ]
     },
     "execution_count": 6,
     "metadata": {},
     "output_type": "execute_result"
    }
   ],
   "source": [
    "df['sum'] = df['11300'] + df['00000'] + df['00000.1']\n",
    "df = df.drop(['11300', '00000', '00000.1'], axis = 1)\n",
    "df.head()"
   ]
  },
  {
   "cell_type": "code",
   "execution_count": 7,
   "metadata": {},
   "outputs": [
    {
     "data": {
      "text/plain": [
       "['surgery?',\n",
       " 'Age',\n",
       " 'Hospital Number',\n",
       " 'rectal temperature',\n",
       " 'pulse',\n",
       " 'respiratory rate',\n",
       " 'temperature of extremities',\n",
       " 'peripheral pulse',\n",
       " 'mucous membranes',\n",
       " 'capillary refill time',\n",
       " \"pain - a subjective judgement of the horse's pain level\",\n",
       " 'peristalsis',\n",
       " 'abdominal distension',\n",
       " 'nasogastric tube',\n",
       " 'nasogastric reflux',\n",
       " 'nasogastric reflux PH',\n",
       " 'rectal examination - feces',\n",
       " 'abdomen',\n",
       " 'packed cell volume',\n",
       " 'total protein',\n",
       " 'abdominocentesis appearance',\n",
       " 'abdomcentesis total protein',\n",
       " 'outcome',\n",
       " 'surgical lesion?',\n",
       " 'type of lesion',\n",
       " 'cp_data']"
      ]
     },
     "execution_count": 7,
     "metadata": {},
     "output_type": "execute_result"
    }
   ],
   "source": [
    "col_names"
   ]
  },
  {
   "cell_type": "code",
   "execution_count": 8,
   "metadata": {},
   "outputs": [
    {
     "data": {
      "text/plain": [
       "['surgery?',\n",
       " 'Age',\n",
       " 'Hospital Number',\n",
       " 'rectal temperature',\n",
       " 'pulse',\n",
       " 'respiratory rate',\n",
       " 'temperature of extremities',\n",
       " 'peripheral pulse',\n",
       " 'mucous membranes',\n",
       " 'capillary refill time',\n",
       " \"pain - a subjective judgement of the horse's pain level\",\n",
       " 'peristalsis',\n",
       " 'abdominal distension',\n",
       " 'nasogastric tube',\n",
       " 'nasogastric reflux',\n",
       " 'nasogastric reflux PH',\n",
       " 'rectal examination - feces',\n",
       " 'abdomen',\n",
       " 'packed cell volume',\n",
       " 'total protein',\n",
       " 'abdominocentesis appearance',\n",
       " 'abdomcentesis total protein',\n",
       " 'outcome',\n",
       " 'surgical lesion?',\n",
       " 'cp_data',\n",
       " 'type of lesion']"
      ]
     },
     "execution_count": 8,
     "metadata": {},
     "output_type": "execute_result"
    }
   ],
   "source": [
    "col_names[-1], col_names[-2] = col_names[-2], col_names[-1]\n",
    "col_names"
   ]
  },
  {
   "cell_type": "code",
   "execution_count": 9,
   "metadata": {},
   "outputs": [
    {
     "data": {
      "text/html": [
       "<div>\n",
       "<style scoped>\n",
       "    .dataframe tbody tr th:only-of-type {\n",
       "        vertical-align: middle;\n",
       "    }\n",
       "\n",
       "    .dataframe tbody tr th {\n",
       "        vertical-align: top;\n",
       "    }\n",
       "\n",
       "    .dataframe thead th {\n",
       "        text-align: right;\n",
       "    }\n",
       "</style>\n",
       "<table border=\"1\" class=\"dataframe\">\n",
       "  <thead>\n",
       "    <tr style=\"text-align: right;\">\n",
       "      <th></th>\n",
       "      <th>surgery?</th>\n",
       "      <th>Age</th>\n",
       "      <th>Hospital Number</th>\n",
       "      <th>rectal temperature</th>\n",
       "      <th>pulse</th>\n",
       "      <th>respiratory rate</th>\n",
       "      <th>temperature of extremities</th>\n",
       "      <th>peripheral pulse</th>\n",
       "      <th>mucous membranes</th>\n",
       "      <th>capillary refill time</th>\n",
       "      <th>...</th>\n",
       "      <th>rectal examination - feces</th>\n",
       "      <th>abdomen</th>\n",
       "      <th>packed cell volume</th>\n",
       "      <th>total protein</th>\n",
       "      <th>abdominocentesis appearance</th>\n",
       "      <th>abdomcentesis total protein</th>\n",
       "      <th>outcome</th>\n",
       "      <th>surgical lesion?</th>\n",
       "      <th>cp_data</th>\n",
       "      <th>type of lesion</th>\n",
       "    </tr>\n",
       "  </thead>\n",
       "  <tbody>\n",
       "    <tr>\n",
       "      <th>0</th>\n",
       "      <td>1.0</td>\n",
       "      <td>1</td>\n",
       "      <td>534817</td>\n",
       "      <td>39.2</td>\n",
       "      <td>88.0</td>\n",
       "      <td>20.0</td>\n",
       "      <td>NaN</td>\n",
       "      <td>NaN</td>\n",
       "      <td>4.0</td>\n",
       "      <td>1.0</td>\n",
       "      <td>...</td>\n",
       "      <td>4.0</td>\n",
       "      <td>2.0</td>\n",
       "      <td>50.0</td>\n",
       "      <td>85.0</td>\n",
       "      <td>2.0</td>\n",
       "      <td>2.0</td>\n",
       "      <td>3.0</td>\n",
       "      <td>2</td>\n",
       "      <td>2</td>\n",
       "      <td>2208</td>\n",
       "    </tr>\n",
       "    <tr>\n",
       "      <th>1</th>\n",
       "      <td>2.0</td>\n",
       "      <td>1</td>\n",
       "      <td>530334</td>\n",
       "      <td>38.3</td>\n",
       "      <td>40.0</td>\n",
       "      <td>24.0</td>\n",
       "      <td>1.0</td>\n",
       "      <td>1.0</td>\n",
       "      <td>3.0</td>\n",
       "      <td>1.0</td>\n",
       "      <td>...</td>\n",
       "      <td>1.0</td>\n",
       "      <td>1.0</td>\n",
       "      <td>33.0</td>\n",
       "      <td>6.7</td>\n",
       "      <td>NaN</td>\n",
       "      <td>NaN</td>\n",
       "      <td>1.0</td>\n",
       "      <td>2</td>\n",
       "      <td>1</td>\n",
       "      <td>0</td>\n",
       "    </tr>\n",
       "    <tr>\n",
       "      <th>2</th>\n",
       "      <td>1.0</td>\n",
       "      <td>9</td>\n",
       "      <td>5290409</td>\n",
       "      <td>39.1</td>\n",
       "      <td>164.0</td>\n",
       "      <td>84.0</td>\n",
       "      <td>4.0</td>\n",
       "      <td>1.0</td>\n",
       "      <td>6.0</td>\n",
       "      <td>2.0</td>\n",
       "      <td>...</td>\n",
       "      <td>3.0</td>\n",
       "      <td>NaN</td>\n",
       "      <td>48.0</td>\n",
       "      <td>7.2</td>\n",
       "      <td>3.0</td>\n",
       "      <td>5.3</td>\n",
       "      <td>2.0</td>\n",
       "      <td>1</td>\n",
       "      <td>1</td>\n",
       "      <td>2208</td>\n",
       "    </tr>\n",
       "    <tr>\n",
       "      <th>3</th>\n",
       "      <td>2.0</td>\n",
       "      <td>1</td>\n",
       "      <td>530255</td>\n",
       "      <td>37.3</td>\n",
       "      <td>104.0</td>\n",
       "      <td>35.0</td>\n",
       "      <td>NaN</td>\n",
       "      <td>NaN</td>\n",
       "      <td>6.0</td>\n",
       "      <td>2.0</td>\n",
       "      <td>...</td>\n",
       "      <td>NaN</td>\n",
       "      <td>NaN</td>\n",
       "      <td>74.0</td>\n",
       "      <td>7.4</td>\n",
       "      <td>NaN</td>\n",
       "      <td>NaN</td>\n",
       "      <td>2.0</td>\n",
       "      <td>2</td>\n",
       "      <td>2</td>\n",
       "      <td>4300</td>\n",
       "    </tr>\n",
       "    <tr>\n",
       "      <th>4</th>\n",
       "      <td>2.0</td>\n",
       "      <td>1</td>\n",
       "      <td>528355</td>\n",
       "      <td>NaN</td>\n",
       "      <td>NaN</td>\n",
       "      <td>NaN</td>\n",
       "      <td>2.0</td>\n",
       "      <td>1.0</td>\n",
       "      <td>3.0</td>\n",
       "      <td>1.0</td>\n",
       "      <td>...</td>\n",
       "      <td>3.0</td>\n",
       "      <td>3.0</td>\n",
       "      <td>NaN</td>\n",
       "      <td>NaN</td>\n",
       "      <td>NaN</td>\n",
       "      <td>NaN</td>\n",
       "      <td>1.0</td>\n",
       "      <td>2</td>\n",
       "      <td>2</td>\n",
       "      <td>0</td>\n",
       "    </tr>\n",
       "  </tbody>\n",
       "</table>\n",
       "<p>5 rows × 26 columns</p>\n",
       "</div>"
      ],
      "text/plain": [
       "   surgery?  Age  Hospital Number  rectal temperature  pulse  \\\n",
       "0       1.0    1           534817                39.2   88.0   \n",
       "1       2.0    1           530334                38.3   40.0   \n",
       "2       1.0    9          5290409                39.1  164.0   \n",
       "3       2.0    1           530255                37.3  104.0   \n",
       "4       2.0    1           528355                 NaN    NaN   \n",
       "\n",
       "   respiratory rate  temperature of extremities  peripheral pulse  \\\n",
       "0              20.0                         NaN               NaN   \n",
       "1              24.0                         1.0               1.0   \n",
       "2              84.0                         4.0               1.0   \n",
       "3              35.0                         NaN               NaN   \n",
       "4               NaN                         2.0               1.0   \n",
       "\n",
       "   mucous membranes  capillary refill time  ...  rectal examination - feces  \\\n",
       "0               4.0                    1.0  ...                         4.0   \n",
       "1               3.0                    1.0  ...                         1.0   \n",
       "2               6.0                    2.0  ...                         3.0   \n",
       "3               6.0                    2.0  ...                         NaN   \n",
       "4               3.0                    1.0  ...                         3.0   \n",
       "\n",
       "   abdomen  packed cell volume  total protein  abdominocentesis appearance  \\\n",
       "0      2.0                50.0           85.0                          2.0   \n",
       "1      1.0                33.0            6.7                          NaN   \n",
       "2      NaN                48.0            7.2                          3.0   \n",
       "3      NaN                74.0            7.4                          NaN   \n",
       "4      3.0                 NaN            NaN                          NaN   \n",
       "\n",
       "   abdomcentesis total protein  outcome  surgical lesion?  cp_data  \\\n",
       "0                          2.0      3.0                 2        2   \n",
       "1                          NaN      1.0                 2        1   \n",
       "2                          5.3      2.0                 1        1   \n",
       "3                          NaN      2.0                 2        2   \n",
       "4                          NaN      1.0                 2        2   \n",
       "\n",
       "   type of lesion  \n",
       "0            2208  \n",
       "1               0  \n",
       "2            2208  \n",
       "3            4300  \n",
       "4               0  \n",
       "\n",
       "[5 rows x 26 columns]"
      ]
     },
     "execution_count": 9,
     "metadata": {},
     "output_type": "execute_result"
    }
   ],
   "source": [
    "df.columns = col_names\n",
    "df.head()"
   ]
  },
  {
   "cell_type": "markdown",
   "metadata": {},
   "source": [
    "## Задание 1.\n",
    "Базовое изучение\n",
    "Изучить представленный набор данных на основе описания его столбцов и выбрать 8 столбцов для дальнейшего изучения (среди них должны быть как числовые, так и категориальные). Провести расчет базовых метрик для них, кратко описать результаты."
   ]
  },
  {
   "cell_type": "markdown",
   "metadata": {
    "scrolled": true
   },
   "source": [
    "## Попробуем сформировать критерии, которые позволят оценить перспективы лошади в полевых условиях"
   ]
  },
  {
   "cell_type": "code",
   "execution_count": 10,
   "metadata": {
    "scrolled": true
   },
   "outputs": [
    {
     "data": {
      "text/html": [
       "<div>\n",
       "<style scoped>\n",
       "    .dataframe tbody tr th:only-of-type {\n",
       "        vertical-align: middle;\n",
       "    }\n",
       "\n",
       "    .dataframe tbody tr th {\n",
       "        vertical-align: top;\n",
       "    }\n",
       "\n",
       "    .dataframe thead th {\n",
       "        text-align: right;\n",
       "    }\n",
       "</style>\n",
       "<table border=\"1\" class=\"dataframe\">\n",
       "  <thead>\n",
       "    <tr style=\"text-align: right;\">\n",
       "      <th></th>\n",
       "      <th>surgery?</th>\n",
       "      <th>Age</th>\n",
       "      <th>rectal temperature</th>\n",
       "      <th>pulse</th>\n",
       "      <th>respiratory rate</th>\n",
       "      <th>temperature of extremities</th>\n",
       "      <th>peripheral pulse</th>\n",
       "      <th>mucous membranes</th>\n",
       "      <th>capillary refill time</th>\n",
       "      <th>pain - a subjective judgement of the horse's pain level</th>\n",
       "      <th>...</th>\n",
       "      <th>rectal examination - feces</th>\n",
       "      <th>abdomen</th>\n",
       "      <th>packed cell volume</th>\n",
       "      <th>total protein</th>\n",
       "      <th>abdominocentesis appearance</th>\n",
       "      <th>abdomcentesis total protein</th>\n",
       "      <th>outcome</th>\n",
       "      <th>surgical lesion?</th>\n",
       "      <th>cp_data</th>\n",
       "      <th>type of lesion</th>\n",
       "    </tr>\n",
       "    <tr>\n",
       "      <th>Hospital Number</th>\n",
       "      <th></th>\n",
       "      <th></th>\n",
       "      <th></th>\n",
       "      <th></th>\n",
       "      <th></th>\n",
       "      <th></th>\n",
       "      <th></th>\n",
       "      <th></th>\n",
       "      <th></th>\n",
       "      <th></th>\n",
       "      <th></th>\n",
       "      <th></th>\n",
       "      <th></th>\n",
       "      <th></th>\n",
       "      <th></th>\n",
       "      <th></th>\n",
       "      <th></th>\n",
       "      <th></th>\n",
       "      <th></th>\n",
       "      <th></th>\n",
       "      <th></th>\n",
       "    </tr>\n",
       "  </thead>\n",
       "  <tbody>\n",
       "    <tr>\n",
       "      <th>534817</th>\n",
       "      <td>1.0</td>\n",
       "      <td>1</td>\n",
       "      <td>39.2</td>\n",
       "      <td>88.0</td>\n",
       "      <td>20.0</td>\n",
       "      <td>NaN</td>\n",
       "      <td>NaN</td>\n",
       "      <td>4.0</td>\n",
       "      <td>1.0</td>\n",
       "      <td>3.0</td>\n",
       "      <td>...</td>\n",
       "      <td>4.0</td>\n",
       "      <td>2.0</td>\n",
       "      <td>50.0</td>\n",
       "      <td>85.0</td>\n",
       "      <td>2.0</td>\n",
       "      <td>2.0</td>\n",
       "      <td>3.0</td>\n",
       "      <td>2</td>\n",
       "      <td>2</td>\n",
       "      <td>2208</td>\n",
       "    </tr>\n",
       "    <tr>\n",
       "      <th>530334</th>\n",
       "      <td>2.0</td>\n",
       "      <td>1</td>\n",
       "      <td>38.3</td>\n",
       "      <td>40.0</td>\n",
       "      <td>24.0</td>\n",
       "      <td>1.0</td>\n",
       "      <td>1.0</td>\n",
       "      <td>3.0</td>\n",
       "      <td>1.0</td>\n",
       "      <td>3.0</td>\n",
       "      <td>...</td>\n",
       "      <td>1.0</td>\n",
       "      <td>1.0</td>\n",
       "      <td>33.0</td>\n",
       "      <td>6.7</td>\n",
       "      <td>NaN</td>\n",
       "      <td>NaN</td>\n",
       "      <td>1.0</td>\n",
       "      <td>2</td>\n",
       "      <td>1</td>\n",
       "      <td>0</td>\n",
       "    </tr>\n",
       "    <tr>\n",
       "      <th>5290409</th>\n",
       "      <td>1.0</td>\n",
       "      <td>9</td>\n",
       "      <td>39.1</td>\n",
       "      <td>164.0</td>\n",
       "      <td>84.0</td>\n",
       "      <td>4.0</td>\n",
       "      <td>1.0</td>\n",
       "      <td>6.0</td>\n",
       "      <td>2.0</td>\n",
       "      <td>2.0</td>\n",
       "      <td>...</td>\n",
       "      <td>3.0</td>\n",
       "      <td>NaN</td>\n",
       "      <td>48.0</td>\n",
       "      <td>7.2</td>\n",
       "      <td>3.0</td>\n",
       "      <td>5.3</td>\n",
       "      <td>2.0</td>\n",
       "      <td>1</td>\n",
       "      <td>1</td>\n",
       "      <td>2208</td>\n",
       "    </tr>\n",
       "    <tr>\n",
       "      <th>530255</th>\n",
       "      <td>2.0</td>\n",
       "      <td>1</td>\n",
       "      <td>37.3</td>\n",
       "      <td>104.0</td>\n",
       "      <td>35.0</td>\n",
       "      <td>NaN</td>\n",
       "      <td>NaN</td>\n",
       "      <td>6.0</td>\n",
       "      <td>2.0</td>\n",
       "      <td>NaN</td>\n",
       "      <td>...</td>\n",
       "      <td>NaN</td>\n",
       "      <td>NaN</td>\n",
       "      <td>74.0</td>\n",
       "      <td>7.4</td>\n",
       "      <td>NaN</td>\n",
       "      <td>NaN</td>\n",
       "      <td>2.0</td>\n",
       "      <td>2</td>\n",
       "      <td>2</td>\n",
       "      <td>4300</td>\n",
       "    </tr>\n",
       "    <tr>\n",
       "      <th>528355</th>\n",
       "      <td>2.0</td>\n",
       "      <td>1</td>\n",
       "      <td>NaN</td>\n",
       "      <td>NaN</td>\n",
       "      <td>NaN</td>\n",
       "      <td>2.0</td>\n",
       "      <td>1.0</td>\n",
       "      <td>3.0</td>\n",
       "      <td>1.0</td>\n",
       "      <td>2.0</td>\n",
       "      <td>...</td>\n",
       "      <td>3.0</td>\n",
       "      <td>3.0</td>\n",
       "      <td>NaN</td>\n",
       "      <td>NaN</td>\n",
       "      <td>NaN</td>\n",
       "      <td>NaN</td>\n",
       "      <td>1.0</td>\n",
       "      <td>2</td>\n",
       "      <td>2</td>\n",
       "      <td>0</td>\n",
       "    </tr>\n",
       "  </tbody>\n",
       "</table>\n",
       "<p>5 rows × 25 columns</p>\n",
       "</div>"
      ],
      "text/plain": [
       "                 surgery?  Age  rectal temperature  pulse  respiratory rate  \\\n",
       "Hospital Number                                                               \n",
       "534817                1.0    1                39.2   88.0              20.0   \n",
       "530334                2.0    1                38.3   40.0              24.0   \n",
       "5290409               1.0    9                39.1  164.0              84.0   \n",
       "530255                2.0    1                37.3  104.0              35.0   \n",
       "528355                2.0    1                 NaN    NaN               NaN   \n",
       "\n",
       "                 temperature of extremities  peripheral pulse  \\\n",
       "Hospital Number                                                 \n",
       "534817                                  NaN               NaN   \n",
       "530334                                  1.0               1.0   \n",
       "5290409                                 4.0               1.0   \n",
       "530255                                  NaN               NaN   \n",
       "528355                                  2.0               1.0   \n",
       "\n",
       "                 mucous membranes  capillary refill time  \\\n",
       "Hospital Number                                            \n",
       "534817                        4.0                    1.0   \n",
       "530334                        3.0                    1.0   \n",
       "5290409                       6.0                    2.0   \n",
       "530255                        6.0                    2.0   \n",
       "528355                        3.0                    1.0   \n",
       "\n",
       "                 pain - a subjective judgement of the horse's pain level  ...  \\\n",
       "Hospital Number                                                           ...   \n",
       "534817                                                         3.0        ...   \n",
       "530334                                                         3.0        ...   \n",
       "5290409                                                        2.0        ...   \n",
       "530255                                                         NaN        ...   \n",
       "528355                                                         2.0        ...   \n",
       "\n",
       "                 rectal examination - feces  abdomen  packed cell volume  \\\n",
       "Hospital Number                                                            \n",
       "534817                                  4.0      2.0                50.0   \n",
       "530334                                  1.0      1.0                33.0   \n",
       "5290409                                 3.0      NaN                48.0   \n",
       "530255                                  NaN      NaN                74.0   \n",
       "528355                                  3.0      3.0                 NaN   \n",
       "\n",
       "                 total protein  abdominocentesis appearance  \\\n",
       "Hospital Number                                               \n",
       "534817                    85.0                          2.0   \n",
       "530334                     6.7                          NaN   \n",
       "5290409                    7.2                          3.0   \n",
       "530255                     7.4                          NaN   \n",
       "528355                     NaN                          NaN   \n",
       "\n",
       "                 abdomcentesis total protein  outcome  surgical lesion?  \\\n",
       "Hospital Number                                                           \n",
       "534817                                   2.0      3.0                 2   \n",
       "530334                                   NaN      1.0                 2   \n",
       "5290409                                  5.3      2.0                 1   \n",
       "530255                                   NaN      2.0                 2   \n",
       "528355                                   NaN      1.0                 2   \n",
       "\n",
       "                 cp_data  type of lesion  \n",
       "Hospital Number                           \n",
       "534817                 2            2208  \n",
       "530334                 1               0  \n",
       "5290409                1            2208  \n",
       "530255                 2            4300  \n",
       "528355                 2               0  \n",
       "\n",
       "[5 rows x 25 columns]"
      ]
     },
     "execution_count": 10,
     "metadata": {},
     "output_type": "execute_result"
    }
   ],
   "source": [
    "# устанавливаем регистрационный номер в качестве индекса\n",
    "df = df.set_index('Hospital Number')\n",
    "df.head()"
   ]
  },
  {
   "cell_type": "code",
   "execution_count": 11,
   "metadata": {
    "scrolled": true
   },
   "outputs": [
    {
     "data": {
      "text/plain": [
       "1    275\n",
       "9     24\n",
       "Name: Age, dtype: int64"
      ]
     },
     "execution_count": 11,
     "metadata": {},
     "output_type": "execute_result"
    }
   ],
   "source": [
    "df['Age'].value_counts()    "
   ]
  },
  {
   "cell_type": "code",
   "execution_count": 12,
   "metadata": {
    "scrolled": false
   },
   "outputs": [
    {
     "data": {
      "text/html": [
       "<div>\n",
       "<style scoped>\n",
       "    .dataframe tbody tr th:only-of-type {\n",
       "        vertical-align: middle;\n",
       "    }\n",
       "\n",
       "    .dataframe tbody tr th {\n",
       "        vertical-align: top;\n",
       "    }\n",
       "\n",
       "    .dataframe thead th {\n",
       "        text-align: right;\n",
       "    }\n",
       "</style>\n",
       "<table border=\"1\" class=\"dataframe\">\n",
       "  <thead>\n",
       "    <tr style=\"text-align: right;\">\n",
       "      <th></th>\n",
       "      <th>surgery?</th>\n",
       "      <th>rectal temperature</th>\n",
       "      <th>pulse</th>\n",
       "      <th>respiratory rate</th>\n",
       "      <th>temperature of extremities</th>\n",
       "      <th>peripheral pulse</th>\n",
       "      <th>mucous membranes</th>\n",
       "      <th>capillary refill time</th>\n",
       "      <th>pain - a subjective judgement of the horse's pain level</th>\n",
       "      <th>peristalsis</th>\n",
       "      <th>...</th>\n",
       "      <th>rectal examination - feces</th>\n",
       "      <th>abdomen</th>\n",
       "      <th>packed cell volume</th>\n",
       "      <th>total protein</th>\n",
       "      <th>abdominocentesis appearance</th>\n",
       "      <th>abdomcentesis total protein</th>\n",
       "      <th>outcome</th>\n",
       "      <th>surgical lesion?</th>\n",
       "      <th>cp_data</th>\n",
       "      <th>type of lesion</th>\n",
       "    </tr>\n",
       "    <tr>\n",
       "      <th>Hospital Number</th>\n",
       "      <th></th>\n",
       "      <th></th>\n",
       "      <th></th>\n",
       "      <th></th>\n",
       "      <th></th>\n",
       "      <th></th>\n",
       "      <th></th>\n",
       "      <th></th>\n",
       "      <th></th>\n",
       "      <th></th>\n",
       "      <th></th>\n",
       "      <th></th>\n",
       "      <th></th>\n",
       "      <th></th>\n",
       "      <th></th>\n",
       "      <th></th>\n",
       "      <th></th>\n",
       "      <th></th>\n",
       "      <th></th>\n",
       "      <th></th>\n",
       "      <th></th>\n",
       "    </tr>\n",
       "  </thead>\n",
       "  <tbody>\n",
       "    <tr>\n",
       "      <th>534817</th>\n",
       "      <td>1.0</td>\n",
       "      <td>39.2</td>\n",
       "      <td>88.0</td>\n",
       "      <td>20.0</td>\n",
       "      <td>NaN</td>\n",
       "      <td>NaN</td>\n",
       "      <td>4.0</td>\n",
       "      <td>1.0</td>\n",
       "      <td>3.0</td>\n",
       "      <td>4.0</td>\n",
       "      <td>...</td>\n",
       "      <td>4.0</td>\n",
       "      <td>2.0</td>\n",
       "      <td>50.0</td>\n",
       "      <td>85.0</td>\n",
       "      <td>2.0</td>\n",
       "      <td>2.0</td>\n",
       "      <td>3.0</td>\n",
       "      <td>2</td>\n",
       "      <td>2</td>\n",
       "      <td>2208</td>\n",
       "    </tr>\n",
       "    <tr>\n",
       "      <th>530334</th>\n",
       "      <td>2.0</td>\n",
       "      <td>38.3</td>\n",
       "      <td>40.0</td>\n",
       "      <td>24.0</td>\n",
       "      <td>1.0</td>\n",
       "      <td>1.0</td>\n",
       "      <td>3.0</td>\n",
       "      <td>1.0</td>\n",
       "      <td>3.0</td>\n",
       "      <td>3.0</td>\n",
       "      <td>...</td>\n",
       "      <td>1.0</td>\n",
       "      <td>1.0</td>\n",
       "      <td>33.0</td>\n",
       "      <td>6.7</td>\n",
       "      <td>NaN</td>\n",
       "      <td>NaN</td>\n",
       "      <td>1.0</td>\n",
       "      <td>2</td>\n",
       "      <td>1</td>\n",
       "      <td>0</td>\n",
       "    </tr>\n",
       "    <tr>\n",
       "      <th>5290409</th>\n",
       "      <td>1.0</td>\n",
       "      <td>39.1</td>\n",
       "      <td>164.0</td>\n",
       "      <td>84.0</td>\n",
       "      <td>4.0</td>\n",
       "      <td>1.0</td>\n",
       "      <td>6.0</td>\n",
       "      <td>2.0</td>\n",
       "      <td>2.0</td>\n",
       "      <td>4.0</td>\n",
       "      <td>...</td>\n",
       "      <td>3.0</td>\n",
       "      <td>NaN</td>\n",
       "      <td>48.0</td>\n",
       "      <td>7.2</td>\n",
       "      <td>3.0</td>\n",
       "      <td>5.3</td>\n",
       "      <td>2.0</td>\n",
       "      <td>1</td>\n",
       "      <td>1</td>\n",
       "      <td>2208</td>\n",
       "    </tr>\n",
       "    <tr>\n",
       "      <th>530255</th>\n",
       "      <td>2.0</td>\n",
       "      <td>37.3</td>\n",
       "      <td>104.0</td>\n",
       "      <td>35.0</td>\n",
       "      <td>NaN</td>\n",
       "      <td>NaN</td>\n",
       "      <td>6.0</td>\n",
       "      <td>2.0</td>\n",
       "      <td>NaN</td>\n",
       "      <td>NaN</td>\n",
       "      <td>...</td>\n",
       "      <td>NaN</td>\n",
       "      <td>NaN</td>\n",
       "      <td>74.0</td>\n",
       "      <td>7.4</td>\n",
       "      <td>NaN</td>\n",
       "      <td>NaN</td>\n",
       "      <td>2.0</td>\n",
       "      <td>2</td>\n",
       "      <td>2</td>\n",
       "      <td>4300</td>\n",
       "    </tr>\n",
       "    <tr>\n",
       "      <th>528355</th>\n",
       "      <td>2.0</td>\n",
       "      <td>NaN</td>\n",
       "      <td>NaN</td>\n",
       "      <td>NaN</td>\n",
       "      <td>2.0</td>\n",
       "      <td>1.0</td>\n",
       "      <td>3.0</td>\n",
       "      <td>1.0</td>\n",
       "      <td>2.0</td>\n",
       "      <td>3.0</td>\n",
       "      <td>...</td>\n",
       "      <td>3.0</td>\n",
       "      <td>3.0</td>\n",
       "      <td>NaN</td>\n",
       "      <td>NaN</td>\n",
       "      <td>NaN</td>\n",
       "      <td>NaN</td>\n",
       "      <td>1.0</td>\n",
       "      <td>2</td>\n",
       "      <td>2</td>\n",
       "      <td>0</td>\n",
       "    </tr>\n",
       "  </tbody>\n",
       "</table>\n",
       "<p>5 rows × 24 columns</p>\n",
       "</div>"
      ],
      "text/plain": [
       "                 surgery?  rectal temperature  pulse  respiratory rate  \\\n",
       "Hospital Number                                                          \n",
       "534817                1.0                39.2   88.0              20.0   \n",
       "530334                2.0                38.3   40.0              24.0   \n",
       "5290409               1.0                39.1  164.0              84.0   \n",
       "530255                2.0                37.3  104.0              35.0   \n",
       "528355                2.0                 NaN    NaN               NaN   \n",
       "\n",
       "                 temperature of extremities  peripheral pulse  \\\n",
       "Hospital Number                                                 \n",
       "534817                                  NaN               NaN   \n",
       "530334                                  1.0               1.0   \n",
       "5290409                                 4.0               1.0   \n",
       "530255                                  NaN               NaN   \n",
       "528355                                  2.0               1.0   \n",
       "\n",
       "                 mucous membranes  capillary refill time  \\\n",
       "Hospital Number                                            \n",
       "534817                        4.0                    1.0   \n",
       "530334                        3.0                    1.0   \n",
       "5290409                       6.0                    2.0   \n",
       "530255                        6.0                    2.0   \n",
       "528355                        3.0                    1.0   \n",
       "\n",
       "                 pain - a subjective judgement of the horse's pain level  \\\n",
       "Hospital Number                                                            \n",
       "534817                                                         3.0         \n",
       "530334                                                         3.0         \n",
       "5290409                                                        2.0         \n",
       "530255                                                         NaN         \n",
       "528355                                                         2.0         \n",
       "\n",
       "                 peristalsis  ...  rectal examination - feces  abdomen  \\\n",
       "Hospital Number               ...                                        \n",
       "534817                   4.0  ...                         4.0      2.0   \n",
       "530334                   3.0  ...                         1.0      1.0   \n",
       "5290409                  4.0  ...                         3.0      NaN   \n",
       "530255                   NaN  ...                         NaN      NaN   \n",
       "528355                   3.0  ...                         3.0      3.0   \n",
       "\n",
       "                 packed cell volume  total protein  \\\n",
       "Hospital Number                                      \n",
       "534817                         50.0           85.0   \n",
       "530334                         33.0            6.7   \n",
       "5290409                        48.0            7.2   \n",
       "530255                         74.0            7.4   \n",
       "528355                          NaN            NaN   \n",
       "\n",
       "                 abdominocentesis appearance  abdomcentesis total protein  \\\n",
       "Hospital Number                                                             \n",
       "534817                                   2.0                          2.0   \n",
       "530334                                   NaN                          NaN   \n",
       "5290409                                  3.0                          5.3   \n",
       "530255                                   NaN                          NaN   \n",
       "528355                                   NaN                          NaN   \n",
       "\n",
       "                 outcome  surgical lesion?  cp_data  type of lesion  \n",
       "Hospital Number                                                      \n",
       "534817               3.0                 2        2            2208  \n",
       "530334               1.0                 2        1               0  \n",
       "5290409              2.0                 1        1            2208  \n",
       "530255               2.0                 2        2            4300  \n",
       "528355               1.0                 2        2               0  \n",
       "\n",
       "[5 rows x 24 columns]"
      ]
     },
     "execution_count": 12,
     "metadata": {},
     "output_type": "execute_result"
    }
   ],
   "source": [
    "#удаляем столбец с возрастом, поскольку он содержит левые данные (вместо 1 и 2, 1 и некоторое количество 9).\n",
    "#Девятка далеко от обеих цифр на клавиатуре, поэтому можно только гадать, что она значит.\n",
    "#Возраст был бы важен, но здесь мы просто не можем доверять данным.\n",
    "df = df.drop(['Age'], axis = 1)\n",
    "df.head()"
   ]
  },
  {
   "cell_type": "code",
   "execution_count": 13,
   "metadata": {
    "scrolled": true
   },
   "outputs": [
    {
     "data": {
      "text/plain": [
       "<matplotlib.axes._subplots.AxesSubplot at 0x1f195332908>"
      ]
     },
     "execution_count": 13,
     "metadata": {},
     "output_type": "execute_result"
    },
    {
     "data": {
      "image/png": "[encoded data removed]",
      "text/plain": [
       "<Figure size 432x288 with 1 Axes>"
      ]
     },
     "metadata": {
      "needs_background": "light"
     },
     "output_type": "display_data"
    }
   ],
   "source": [
    "df['respiratory rate'].plot(kind = 'box')"
   ]
  },
  {
   "cell_type": "code",
   "execution_count": 14,
   "metadata": {},
   "outputs": [
    {
     "data": {
      "text/html": [
       "<div>\n",
       "<style scoped>\n",
       "    .dataframe tbody tr th:only-of-type {\n",
       "        vertical-align: middle;\n",
       "    }\n",
       "\n",
       "    .dataframe tbody tr th {\n",
       "        vertical-align: top;\n",
       "    }\n",
       "\n",
       "    .dataframe thead th {\n",
       "        text-align: right;\n",
       "    }\n",
       "</style>\n",
       "<table border=\"1\" class=\"dataframe\">\n",
       "  <thead>\n",
       "    <tr style=\"text-align: right;\">\n",
       "      <th></th>\n",
       "      <th>surgery?</th>\n",
       "      <th>rectal temperature</th>\n",
       "      <th>pulse</th>\n",
       "      <th>temperature of extremities</th>\n",
       "      <th>peripheral pulse</th>\n",
       "      <th>mucous membranes</th>\n",
       "      <th>capillary refill time</th>\n",
       "      <th>pain - a subjective judgement of the horse's pain level</th>\n",
       "      <th>peristalsis</th>\n",
       "      <th>abdominal distension</th>\n",
       "      <th>...</th>\n",
       "      <th>rectal examination - feces</th>\n",
       "      <th>abdomen</th>\n",
       "      <th>packed cell volume</th>\n",
       "      <th>total protein</th>\n",
       "      <th>abdominocentesis appearance</th>\n",
       "      <th>abdomcentesis total protein</th>\n",
       "      <th>outcome</th>\n",
       "      <th>surgical lesion?</th>\n",
       "      <th>cp_data</th>\n",
       "      <th>type of lesion</th>\n",
       "    </tr>\n",
       "    <tr>\n",
       "      <th>Hospital Number</th>\n",
       "      <th></th>\n",
       "      <th></th>\n",
       "      <th></th>\n",
       "      <th></th>\n",
       "      <th></th>\n",
       "      <th></th>\n",
       "      <th></th>\n",
       "      <th></th>\n",
       "      <th></th>\n",
       "      <th></th>\n",
       "      <th></th>\n",
       "      <th></th>\n",
       "      <th></th>\n",
       "      <th></th>\n",
       "      <th></th>\n",
       "      <th></th>\n",
       "      <th></th>\n",
       "      <th></th>\n",
       "      <th></th>\n",
       "      <th></th>\n",
       "      <th></th>\n",
       "    </tr>\n",
       "  </thead>\n",
       "  <tbody>\n",
       "    <tr>\n",
       "      <th>534817</th>\n",
       "      <td>1.0</td>\n",
       "      <td>39.2</td>\n",
       "      <td>88.0</td>\n",
       "      <td>NaN</td>\n",
       "      <td>NaN</td>\n",
       "      <td>4.0</td>\n",
       "      <td>1.0</td>\n",
       "      <td>3.0</td>\n",
       "      <td>4.0</td>\n",
       "      <td>2.0</td>\n",
       "      <td>...</td>\n",
       "      <td>4.0</td>\n",
       "      <td>2.0</td>\n",
       "      <td>50.0</td>\n",
       "      <td>85.0</td>\n",
       "      <td>2.0</td>\n",
       "      <td>2.0</td>\n",
       "      <td>3.0</td>\n",
       "      <td>2</td>\n",
       "      <td>2</td>\n",
       "      <td>2208</td>\n",
       "    </tr>\n",
       "    <tr>\n",
       "      <th>530334</th>\n",
       "      <td>2.0</td>\n",
       "      <td>38.3</td>\n",
       "      <td>40.0</td>\n",
       "      <td>1.0</td>\n",
       "      <td>1.0</td>\n",
       "      <td>3.0</td>\n",
       "      <td>1.0</td>\n",
       "      <td>3.0</td>\n",
       "      <td>3.0</td>\n",
       "      <td>1.0</td>\n",
       "      <td>...</td>\n",
       "      <td>1.0</td>\n",
       "      <td>1.0</td>\n",
       "      <td>33.0</td>\n",
       "      <td>6.7</td>\n",
       "      <td>NaN</td>\n",
       "      <td>NaN</td>\n",
       "      <td>1.0</td>\n",
       "      <td>2</td>\n",
       "      <td>1</td>\n",
       "      <td>0</td>\n",
       "    </tr>\n",
       "    <tr>\n",
       "      <th>5290409</th>\n",
       "      <td>1.0</td>\n",
       "      <td>39.1</td>\n",
       "      <td>164.0</td>\n",
       "      <td>4.0</td>\n",
       "      <td>1.0</td>\n",
       "      <td>6.0</td>\n",
       "      <td>2.0</td>\n",
       "      <td>2.0</td>\n",
       "      <td>4.0</td>\n",
       "      <td>4.0</td>\n",
       "      <td>...</td>\n",
       "      <td>3.0</td>\n",
       "      <td>NaN</td>\n",
       "      <td>48.0</td>\n",
       "      <td>7.2</td>\n",
       "      <td>3.0</td>\n",
       "      <td>5.3</td>\n",
       "      <td>2.0</td>\n",
       "      <td>1</td>\n",
       "      <td>1</td>\n",
       "      <td>2208</td>\n",
       "    </tr>\n",
       "    <tr>\n",
       "      <th>530255</th>\n",
       "      <td>2.0</td>\n",
       "      <td>37.3</td>\n",
       "      <td>104.0</td>\n",
       "      <td>NaN</td>\n",
       "      <td>NaN</td>\n",
       "      <td>6.0</td>\n",
       "      <td>2.0</td>\n",
       "      <td>NaN</td>\n",
       "      <td>NaN</td>\n",
       "      <td>NaN</td>\n",
       "      <td>...</td>\n",
       "      <td>NaN</td>\n",
       "      <td>NaN</td>\n",
       "      <td>74.0</td>\n",
       "      <td>7.4</td>\n",
       "      <td>NaN</td>\n",
       "      <td>NaN</td>\n",
       "      <td>2.0</td>\n",
       "      <td>2</td>\n",
       "      <td>2</td>\n",
       "      <td>4300</td>\n",
       "    </tr>\n",
       "    <tr>\n",
       "      <th>528355</th>\n",
       "      <td>2.0</td>\n",
       "      <td>NaN</td>\n",
       "      <td>NaN</td>\n",
       "      <td>2.0</td>\n",
       "      <td>1.0</td>\n",
       "      <td>3.0</td>\n",
       "      <td>1.0</td>\n",
       "      <td>2.0</td>\n",
       "      <td>3.0</td>\n",
       "      <td>2.0</td>\n",
       "      <td>...</td>\n",
       "      <td>3.0</td>\n",
       "      <td>3.0</td>\n",
       "      <td>NaN</td>\n",
       "      <td>NaN</td>\n",
       "      <td>NaN</td>\n",
       "      <td>NaN</td>\n",
       "      <td>1.0</td>\n",
       "      <td>2</td>\n",
       "      <td>2</td>\n",
       "      <td>0</td>\n",
       "    </tr>\n",
       "  </tbody>\n",
       "</table>\n",
       "<p>5 rows × 23 columns</p>\n",
       "</div>"
      ],
      "text/plain": [
       "                 surgery?  rectal temperature  pulse  \\\n",
       "Hospital Number                                        \n",
       "534817                1.0                39.2   88.0   \n",
       "530334                2.0                38.3   40.0   \n",
       "5290409               1.0                39.1  164.0   \n",
       "530255                2.0                37.3  104.0   \n",
       "528355                2.0                 NaN    NaN   \n",
       "\n",
       "                 temperature of extremities  peripheral pulse  \\\n",
       "Hospital Number                                                 \n",
       "534817                                  NaN               NaN   \n",
       "530334                                  1.0               1.0   \n",
       "5290409                                 4.0               1.0   \n",
       "530255                                  NaN               NaN   \n",
       "528355                                  2.0               1.0   \n",
       "\n",
       "                 mucous membranes  capillary refill time  \\\n",
       "Hospital Number                                            \n",
       "534817                        4.0                    1.0   \n",
       "530334                        3.0                    1.0   \n",
       "5290409                       6.0                    2.0   \n",
       "530255                        6.0                    2.0   \n",
       "528355                        3.0                    1.0   \n",
       "\n",
       "                 pain - a subjective judgement of the horse's pain level  \\\n",
       "Hospital Number                                                            \n",
       "534817                                                         3.0         \n",
       "530334                                                         3.0         \n",
       "5290409                                                        2.0         \n",
       "530255                                                         NaN         \n",
       "528355                                                         2.0         \n",
       "\n",
       "                 peristalsis  abdominal distension  ...  \\\n",
       "Hospital Number                                     ...   \n",
       "534817                   4.0                   2.0  ...   \n",
       "530334                   3.0                   1.0  ...   \n",
       "5290409                  4.0                   4.0  ...   \n",
       "530255                   NaN                   NaN  ...   \n",
       "528355                   3.0                   2.0  ...   \n",
       "\n",
       "                 rectal examination - feces  abdomen  packed cell volume  \\\n",
       "Hospital Number                                                            \n",
       "534817                                  4.0      2.0                50.0   \n",
       "530334                                  1.0      1.0                33.0   \n",
       "5290409                                 3.0      NaN                48.0   \n",
       "530255                                  NaN      NaN                74.0   \n",
       "528355                                  3.0      3.0                 NaN   \n",
       "\n",
       "                 total protein  abdominocentesis appearance  \\\n",
       "Hospital Number                                               \n",
       "534817                    85.0                          2.0   \n",
       "530334                     6.7                          NaN   \n",
       "5290409                    7.2                          3.0   \n",
       "530255                     7.4                          NaN   \n",
       "528355                     NaN                          NaN   \n",
       "\n",
       "                 abdomcentesis total protein  outcome  surgical lesion?  \\\n",
       "Hospital Number                                                           \n",
       "534817                                   2.0      3.0                 2   \n",
       "530334                                   NaN      1.0                 2   \n",
       "5290409                                  5.3      2.0                 1   \n",
       "530255                                   NaN      2.0                 2   \n",
       "528355                                   NaN      1.0                 2   \n",
       "\n",
       "                 cp_data  type of lesion  \n",
       "Hospital Number                           \n",
       "534817                 2            2208  \n",
       "530334                 1               0  \n",
       "5290409                1            2208  \n",
       "530255                 2            4300  \n",
       "528355                 2               0  \n",
       "\n",
       "[5 rows x 23 columns]"
      ]
     },
     "execution_count": 14,
     "metadata": {},
     "output_type": "execute_result"
    }
   ],
   "source": [
    "# удаляем частоту дыхания - по условиям должна находиться в коридоре 8..10, а на деле огромные флуктуации,\n",
    "# о чем и сказано в описании\n",
    "df = df.drop(['respiratory rate'], axis = 1)\n",
    "df.head()"
   ]
  },
  {
   "cell_type": "code",
   "execution_count": 15,
   "metadata": {},
   "outputs": [],
   "source": [
    "#удаляем cp_data, которые по описанию не имеют значения в нашем случае.\n",
    "df = df.drop(['cp_data'], axis = 1)"
   ]
  },
  {
   "cell_type": "code",
   "execution_count": 16,
   "metadata": {
    "scrolled": true
   },
   "outputs": [
    {
     "data": {
      "text/html": [
       "<div>\n",
       "<style scoped>\n",
       "    .dataframe tbody tr th:only-of-type {\n",
       "        vertical-align: middle;\n",
       "    }\n",
       "\n",
       "    .dataframe tbody tr th {\n",
       "        vertical-align: top;\n",
       "    }\n",
       "\n",
       "    .dataframe thead th {\n",
       "        text-align: right;\n",
       "    }\n",
       "</style>\n",
       "<table border=\"1\" class=\"dataframe\">\n",
       "  <thead>\n",
       "    <tr style=\"text-align: right;\">\n",
       "      <th></th>\n",
       "      <th>surgery?</th>\n",
       "      <th>rectal temperature</th>\n",
       "      <th>pulse</th>\n",
       "      <th>temperature of extremities</th>\n",
       "      <th>peripheral pulse</th>\n",
       "      <th>mucous membranes</th>\n",
       "      <th>capillary refill time</th>\n",
       "      <th>pain - a subjective judgement of the horse's pain level</th>\n",
       "      <th>peristalsis</th>\n",
       "      <th>abdominal distension</th>\n",
       "      <th>...</th>\n",
       "      <th>nasogastric reflux PH</th>\n",
       "      <th>rectal examination - feces</th>\n",
       "      <th>abdomen</th>\n",
       "      <th>packed cell volume</th>\n",
       "      <th>total protein</th>\n",
       "      <th>abdominocentesis appearance</th>\n",
       "      <th>abdomcentesis total protein</th>\n",
       "      <th>outcome</th>\n",
       "      <th>surgical lesion?</th>\n",
       "      <th>type of lesion</th>\n",
       "    </tr>\n",
       "    <tr>\n",
       "      <th>Hospital Number</th>\n",
       "      <th></th>\n",
       "      <th></th>\n",
       "      <th></th>\n",
       "      <th></th>\n",
       "      <th></th>\n",
       "      <th></th>\n",
       "      <th></th>\n",
       "      <th></th>\n",
       "      <th></th>\n",
       "      <th></th>\n",
       "      <th></th>\n",
       "      <th></th>\n",
       "      <th></th>\n",
       "      <th></th>\n",
       "      <th></th>\n",
       "      <th></th>\n",
       "      <th></th>\n",
       "      <th></th>\n",
       "      <th></th>\n",
       "      <th></th>\n",
       "      <th></th>\n",
       "    </tr>\n",
       "  </thead>\n",
       "  <tbody>\n",
       "    <tr>\n",
       "      <th>534817</th>\n",
       "      <td>1.0</td>\n",
       "      <td>39.2</td>\n",
       "      <td>88.0</td>\n",
       "      <td>NaN</td>\n",
       "      <td>NaN</td>\n",
       "      <td>4.0</td>\n",
       "      <td>1.0</td>\n",
       "      <td>3.0</td>\n",
       "      <td>4.0</td>\n",
       "      <td>2.0</td>\n",
       "      <td>...</td>\n",
       "      <td>NaN</td>\n",
       "      <td>4.0</td>\n",
       "      <td>2.0</td>\n",
       "      <td>50.0</td>\n",
       "      <td>85.0</td>\n",
       "      <td>2.0</td>\n",
       "      <td>2.0</td>\n",
       "      <td>3.0</td>\n",
       "      <td>2</td>\n",
       "      <td>2208</td>\n",
       "    </tr>\n",
       "    <tr>\n",
       "      <th>530334</th>\n",
       "      <td>2.0</td>\n",
       "      <td>38.3</td>\n",
       "      <td>40.0</td>\n",
       "      <td>1.0</td>\n",
       "      <td>1.0</td>\n",
       "      <td>3.0</td>\n",
       "      <td>1.0</td>\n",
       "      <td>3.0</td>\n",
       "      <td>3.0</td>\n",
       "      <td>1.0</td>\n",
       "      <td>...</td>\n",
       "      <td>NaN</td>\n",
       "      <td>1.0</td>\n",
       "      <td>1.0</td>\n",
       "      <td>33.0</td>\n",
       "      <td>6.7</td>\n",
       "      <td>NaN</td>\n",
       "      <td>NaN</td>\n",
       "      <td>1.0</td>\n",
       "      <td>2</td>\n",
       "      <td>0</td>\n",
       "    </tr>\n",
       "    <tr>\n",
       "      <th>5290409</th>\n",
       "      <td>1.0</td>\n",
       "      <td>39.1</td>\n",
       "      <td>164.0</td>\n",
       "      <td>4.0</td>\n",
       "      <td>1.0</td>\n",
       "      <td>6.0</td>\n",
       "      <td>2.0</td>\n",
       "      <td>2.0</td>\n",
       "      <td>4.0</td>\n",
       "      <td>4.0</td>\n",
       "      <td>...</td>\n",
       "      <td>5.0</td>\n",
       "      <td>3.0</td>\n",
       "      <td>NaN</td>\n",
       "      <td>48.0</td>\n",
       "      <td>7.2</td>\n",
       "      <td>3.0</td>\n",
       "      <td>5.3</td>\n",
       "      <td>2.0</td>\n",
       "      <td>1</td>\n",
       "      <td>2208</td>\n",
       "    </tr>\n",
       "    <tr>\n",
       "      <th>530255</th>\n",
       "      <td>2.0</td>\n",
       "      <td>37.3</td>\n",
       "      <td>104.0</td>\n",
       "      <td>NaN</td>\n",
       "      <td>NaN</td>\n",
       "      <td>6.0</td>\n",
       "      <td>2.0</td>\n",
       "      <td>NaN</td>\n",
       "      <td>NaN</td>\n",
       "      <td>NaN</td>\n",
       "      <td>...</td>\n",
       "      <td>NaN</td>\n",
       "      <td>NaN</td>\n",
       "      <td>NaN</td>\n",
       "      <td>74.0</td>\n",
       "      <td>7.4</td>\n",
       "      <td>NaN</td>\n",
       "      <td>NaN</td>\n",
       "      <td>2.0</td>\n",
       "      <td>2</td>\n",
       "      <td>4300</td>\n",
       "    </tr>\n",
       "    <tr>\n",
       "      <th>528355</th>\n",
       "      <td>2.0</td>\n",
       "      <td>NaN</td>\n",
       "      <td>NaN</td>\n",
       "      <td>2.0</td>\n",
       "      <td>1.0</td>\n",
       "      <td>3.0</td>\n",
       "      <td>1.0</td>\n",
       "      <td>2.0</td>\n",
       "      <td>3.0</td>\n",
       "      <td>2.0</td>\n",
       "      <td>...</td>\n",
       "      <td>NaN</td>\n",
       "      <td>3.0</td>\n",
       "      <td>3.0</td>\n",
       "      <td>NaN</td>\n",
       "      <td>NaN</td>\n",
       "      <td>NaN</td>\n",
       "      <td>NaN</td>\n",
       "      <td>1.0</td>\n",
       "      <td>2</td>\n",
       "      <td>0</td>\n",
       "    </tr>\n",
       "  </tbody>\n",
       "</table>\n",
       "<p>5 rows × 22 columns</p>\n",
       "</div>"
      ],
      "text/plain": [
       "                 surgery?  rectal temperature  pulse  \\\n",
       "Hospital Number                                        \n",
       "534817                1.0                39.2   88.0   \n",
       "530334                2.0                38.3   40.0   \n",
       "5290409               1.0                39.1  164.0   \n",
       "530255                2.0                37.3  104.0   \n",
       "528355                2.0                 NaN    NaN   \n",
       "\n",
       "                 temperature of extremities  peripheral pulse  \\\n",
       "Hospital Number                                                 \n",
       "534817                                  NaN               NaN   \n",
       "530334                                  1.0               1.0   \n",
       "5290409                                 4.0               1.0   \n",
       "530255                                  NaN               NaN   \n",
       "528355                                  2.0               1.0   \n",
       "\n",
       "                 mucous membranes  capillary refill time  \\\n",
       "Hospital Number                                            \n",
       "534817                        4.0                    1.0   \n",
       "530334                        3.0                    1.0   \n",
       "5290409                       6.0                    2.0   \n",
       "530255                        6.0                    2.0   \n",
       "528355                        3.0                    1.0   \n",
       "\n",
       "                 pain - a subjective judgement of the horse's pain level  \\\n",
       "Hospital Number                                                            \n",
       "534817                                                         3.0         \n",
       "530334                                                         3.0         \n",
       "5290409                                                        2.0         \n",
       "530255                                                         NaN         \n",
       "528355                                                         2.0         \n",
       "\n",
       "                 peristalsis  abdominal distension  ...  \\\n",
       "Hospital Number                                     ...   \n",
       "534817                   4.0                   2.0  ...   \n",
       "530334                   3.0                   1.0  ...   \n",
       "5290409                  4.0                   4.0  ...   \n",
       "530255                   NaN                   NaN  ...   \n",
       "528355                   3.0                   2.0  ...   \n",
       "\n",
       "                 nasogastric reflux PH  rectal examination - feces  abdomen  \\\n",
       "Hospital Number                                                               \n",
       "534817                             NaN                         4.0      2.0   \n",
       "530334                             NaN                         1.0      1.0   \n",
       "5290409                            5.0                         3.0      NaN   \n",
       "530255                             NaN                         NaN      NaN   \n",
       "528355                             NaN                         3.0      3.0   \n",
       "\n",
       "                 packed cell volume  total protein  \\\n",
       "Hospital Number                                      \n",
       "534817                         50.0           85.0   \n",
       "530334                         33.0            6.7   \n",
       "5290409                        48.0            7.2   \n",
       "530255                         74.0            7.4   \n",
       "528355                          NaN            NaN   \n",
       "\n",
       "                 abdominocentesis appearance  abdomcentesis total protein  \\\n",
       "Hospital Number                                                             \n",
       "534817                                   2.0                          2.0   \n",
       "530334                                   NaN                          NaN   \n",
       "5290409                                  3.0                          5.3   \n",
       "530255                                   NaN                          NaN   \n",
       "528355                                   NaN                          NaN   \n",
       "\n",
       "                 outcome  surgical lesion?  type of lesion  \n",
       "Hospital Number                                             \n",
       "534817               3.0                 2            2208  \n",
       "530334               1.0                 2               0  \n",
       "5290409              2.0                 1            2208  \n",
       "530255               2.0                 2            4300  \n",
       "528355               1.0                 2               0  \n",
       "\n",
       "[5 rows x 22 columns]"
      ]
     },
     "execution_count": 16,
     "metadata": {},
     "output_type": "execute_result"
    }
   ],
   "source": [
    "df.head()"
   ]
  },
  {
   "cell_type": "code",
   "execution_count": 17,
   "metadata": {},
   "outputs": [
    {
     "name": "stdout",
     "output_type": "stream",
     "text": [
      "surgery?: 1\n",
      "rectal temperature: 60\n",
      "pulse: 24\n",
      "temperature of extremities: 56\n",
      "peripheral pulse: 69\n",
      "mucous membranes: 46\n",
      "capillary refill time: 32\n",
      "pain - a subjective judgement of the horse's pain level: 55\n",
      "peristalsis: 44\n",
      "abdominal distension: 56\n",
      "nasogastric tube: 103\n",
      "nasogastric reflux: 105\n",
      "nasogastric reflux PH: 246\n",
      "rectal examination - feces: 102\n",
      "abdomen: 118\n",
      "packed cell volume: 29\n",
      "total protein: 33\n",
      "abdominocentesis appearance: 164\n",
      "abdomcentesis total protein: 197\n",
      "outcome: 1\n",
      "surgical lesion?: 0\n",
      "type of lesion: 0\n"
     ]
    }
   ],
   "source": [
    "# смотрим, что у нас с пропусками\n",
    "for column in df.columns:\n",
    "    print (f'{column}: {df[column].isna().sum()}')"
   ]
  },
  {
   "cell_type": "code",
   "execution_count": 18,
   "metadata": {
    "scrolled": true
   },
   "outputs": [],
   "source": [
    "# удаляем столбцы с неприлично большим количеством пропусков (100+)\n",
    "df = df.drop(['nasogastric tube', 'nasogastric reflux','nasogastric reflux PH','rectal examination - feces','abdomen', 'abdominocentesis appearance', 'abdomcentesis total protein'], axis = 1)"
   ]
  },
  {
   "cell_type": "code",
   "execution_count": 19,
   "metadata": {
    "scrolled": true
   },
   "outputs": [
    {
     "data": {
      "text/plain": [
       "(299, 15)"
      ]
     },
     "execution_count": 19,
     "metadata": {},
     "output_type": "execute_result"
    }
   ],
   "source": [
    "df.shape"
   ]
  },
  {
   "cell_type": "code",
   "execution_count": 20,
   "metadata": {},
   "outputs": [],
   "source": [
    "# Удаляем записи, в которых измерено мало параметров\n",
    "df.dropna(thresh = 10, inplace = True)"
   ]
  },
  {
   "cell_type": "code",
   "execution_count": 21,
   "metadata": {},
   "outputs": [
    {
     "data": {
      "text/plain": [
       "(267, 15)"
      ]
     },
     "execution_count": 21,
     "metadata": {},
     "output_type": "execute_result"
    }
   ],
   "source": [
    "df.shape"
   ]
  },
  {
   "cell_type": "code",
   "execution_count": 22,
   "metadata": {},
   "outputs": [
    {
     "name": "stdout",
     "output_type": "stream",
     "text": [
      "1.0    158\n",
      "2.0    108\n",
      "Name: surgery?, dtype: int64\n"
     ]
    }
   ],
   "source": [
    "# Проходим столбец за столбцом\n",
    "# surgery? - имела ли место операция.\n",
    "column = 'surgery?'\n",
    "print(df[column].value_counts())\n",
    "#очевидно, важный параметр, без пропусков и ошибок"
   ]
  },
  {
   "cell_type": "code",
   "execution_count": 23,
   "metadata": {},
   "outputs": [
    {
     "data": {
      "text/plain": [
       "<matplotlib.axes._subplots.AxesSubplot at 0x1f195abb808>"
      ]
     },
     "metadata": {},
     "output_type": "display_data"
    },
    {
     "name": "stdout",
     "output_type": "stream",
     "text": [
      "count    221.000000\n",
      "mean      38.167873\n",
      "std        0.737508\n",
      "min       35.400000\n",
      "25%       37.800000\n",
      "50%       38.200000\n",
      "75%       38.500000\n",
      "max       40.800000\n",
      "Name: rectal temperature, dtype: float64\n"
     ]
    },
    {
     "data": {
      "text/plain": [
       "<seaborn.axisgrid.JointGrid at 0x1f195ac56c8>"
      ]
     },
     "execution_count": 23,
     "metadata": {},
     "output_type": "execute_result"
    },
    {
     "data": {
      "image/png": "[encoded data removed]",
      "text/plain": [
       "<Figure size 432x288 with 1 Axes>"
      ]
     },
     "metadata": {
      "needs_background": "light"
     },
     "output_type": "display_data"
    },
    {
     "data": {
      "image/png": "[encoded data removed]",
      "text/plain": [
       "<Figure size 432x432 with 3 Axes>"
      ]
     },
     "metadata": {
      "needs_background": "light"
     },
     "output_type": "display_data"
    }
   ],
   "source": [
    "# Изучим температуру тела\n",
    "column = 'rectal temperature'\n",
    "display(df[column].plot(kind = 'box'))\n",
    "print(df[column].describe())\n",
    "sns.jointplot(x='outcome', y=column, data = df)\n",
    "# Видим, что этот параметр никак не коррелирует с исходом лечения.\n",
    "# Очевидно, что температура имеет смысл только в динамике, а здесь непонятно, в какой момент проводились измерения.\n",
    "# В результате имеем что-то вроде средней температуры по больнице, поэтому смело удаляем"
   ]
  },
  {
   "cell_type": "code",
   "execution_count": 24,
   "metadata": {},
   "outputs": [],
   "source": [
    "df.drop(['rectal temperature'], axis =1, inplace = True)"
   ]
  },
  {
   "cell_type": "code",
   "execution_count": 25,
   "metadata": {
    "scrolled": true
   },
   "outputs": [
    {
     "data": {
      "text/plain": [
       "<matplotlib.axes._subplots.AxesSubplot at 0x1f195cb31c8>"
      ]
     },
     "metadata": {},
     "output_type": "display_data"
    },
    {
     "data": {
      "text/plain": [
       "14"
      ]
     },
     "execution_count": 25,
     "metadata": {},
     "output_type": "execute_result"
    },
    {
     "data": {
      "image/png": "[encoded data removed]",
      "text/plain": [
       "<Figure size 432x288 with 1 Axes>"
      ]
     },
     "metadata": {
      "needs_background": "light"
     },
     "output_type": "display_data"
    },
    {
     "data": {
      "image/png": "[encoded data removed]",
      "text/plain": [
       "<Figure size 432x432 with 3 Axes>"
      ]
     },
     "metadata": {
      "needs_background": "light"
     },
     "output_type": "display_data"
    }
   ],
   "source": [
    "# далее пульс\n",
    "column = 'pulse'\n",
    "display(df[column].plot(kind = 'box'))\n",
    "sns.jointplot(x='outcome', y=column, data = df)\n",
    "# Присутствуют очень высокие значения, но выбросами их считать нельзя.\n",
    "# На примере человека - пульс может составлять 40-50 ударов в покое и до 200 на пике активности\n",
    "# Здесь прослеживается тенденция к тому, что чаще других высокий пульс встречается у погибших лошадей,\n",
    "# что, вероятно, говорит о состоянии шока (о чем и сказано в описании)\n",
    "len(df[df[column].isnull() == True][column])\n",
    "# У нас 24 пустых значения, которые было бы неверно чем-то заполнять при таком огромном разбросе.\n",
    "# Поскольку пульс, как и температура, меняется динамически, можем удалить столбец, поскольку практической пользы из него не извлечь"
   ]
  },
  {
   "cell_type": "code",
   "execution_count": 26,
   "metadata": {},
   "outputs": [],
   "source": [
    "df.drop(column, axis = 1, inplace = True)"
   ]
  },
  {
   "cell_type": "code",
   "execution_count": 27,
   "metadata": {},
   "outputs": [
    {
     "data": {
      "text/plain": [
       "<matplotlib.axes._subplots.AxesSubplot at 0x1f195e7b948>"
      ]
     },
     "metadata": {},
     "output_type": "display_data"
    },
    {
     "data": {
      "text/plain": [
       "<matplotlib.axes._subplots.AxesSubplot at 0x1f195e7b948>"
      ]
     },
     "metadata": {},
     "output_type": "display_data"
    },
    {
     "data": {
      "text/plain": [
       "<matplotlib.axes._subplots.AxesSubplot at 0x1f195e7b948>"
      ]
     },
     "metadata": {},
     "output_type": "display_data"
    },
    {
     "name": "stdout",
     "output_type": "stream",
     "text": [
      "количество пропусков: 25\n"
     ]
    },
    {
     "data": {
      "image/png": "[encoded data removed]",
      "text/plain": [
       "<Figure size 432x288 with 1 Axes>"
      ]
     },
     "metadata": {
      "needs_background": "light"
     },
     "output_type": "display_data"
    }
   ],
   "source": [
    "# Следующий параметр - температура конечностей, субъективная оценка\n",
    "# 1 = Normal\n",
    "# 2 = Warm\n",
    "# 3 = Cool\n",
    "# 4 = Cold\n",
    "# - cool to cold extremities indicate possible shock\n",
    "# - hot extremities should correlate with an elevated rectal temp.\n",
    "column = 'temperature of extremities'\n",
    "display(df[df['outcome'] == 1][column].plot(kind = 'hist', legend = True, label = 'alive'))\n",
    "display(df[df['outcome'] == 2][column].plot(kind = 'hist', legend = True, label = 'dead'))\n",
    "display(df[df['outcome'] == 3][column].plot(kind = 'hist', legend = True, label = 'euthanized'))\n",
    "print('количество пропусков:', len(df[df[column].isnull() == True][column]))\n",
    "# очень сильно коррелирует с исходом для лошади. Прохладные и холодные конечности практически гарантируют смерть.\n",
    "# Важный параметр для быстрой оценки состояния"
   ]
  },
  {
   "cell_type": "code",
   "execution_count": 28,
   "metadata": {
    "scrolled": true
   },
   "outputs": [
    {
     "name": "stdout",
     "output_type": "stream",
     "text": [
      "2.0\n",
      "3.0\n",
      "3.0\n"
     ]
    },
    {
     "data": {
      "text/plain": [
       "False    242\n",
       "True      25\n",
       "Name: temperature of extremities, dtype: int64"
      ]
     },
     "execution_count": 28,
     "metadata": {},
     "output_type": "execute_result"
    }
   ],
   "source": [
    "# У нас 25 пропусков - заполним их медианой в зависимости от исхода для лошади\n",
    "for outcome in range(1,4):\n",
    "    print(df[df['outcome'] == outcome][column].median())\n",
    "df[column].isnull().value_counts()"
   ]
  },
  {
   "cell_type": "code",
   "execution_count": 29,
   "metadata": {},
   "outputs": [],
   "source": [
    "df['temperature of extremities'].fillna(df.groupby('outcome')['temperature of extremities'].transform('median'), inplace = True)"
   ]
  },
  {
   "cell_type": "code",
   "execution_count": 30,
   "metadata": {},
   "outputs": [
    {
     "data": {
      "text/plain": [
       "False    267\n",
       "Name: temperature of extremities, dtype: int64"
      ]
     },
     "execution_count": 30,
     "metadata": {},
     "output_type": "execute_result"
    }
   ],
   "source": [
    "df[column].isnull().value_counts()"
   ]
  },
  {
   "cell_type": "code",
   "execution_count": 31,
   "metadata": {
    "scrolled": true
   },
   "outputs": [
    {
     "data": {
      "text/html": [
       "<div>\n",
       "<style scoped>\n",
       "    .dataframe tbody tr th:only-of-type {\n",
       "        vertical-align: middle;\n",
       "    }\n",
       "\n",
       "    .dataframe tbody tr th {\n",
       "        vertical-align: top;\n",
       "    }\n",
       "\n",
       "    .dataframe thead th {\n",
       "        text-align: right;\n",
       "    }\n",
       "</style>\n",
       "<table border=\"1\" class=\"dataframe\">\n",
       "  <thead>\n",
       "    <tr style=\"text-align: right;\">\n",
       "      <th></th>\n",
       "      <th>surgery?</th>\n",
       "      <th>temperature of extremities</th>\n",
       "      <th>peripheral pulse</th>\n",
       "      <th>mucous membranes</th>\n",
       "      <th>capillary refill time</th>\n",
       "      <th>pain - a subjective judgement of the horse's pain level</th>\n",
       "      <th>peristalsis</th>\n",
       "      <th>abdominal distension</th>\n",
       "      <th>packed cell volume</th>\n",
       "      <th>total protein</th>\n",
       "      <th>outcome</th>\n",
       "      <th>surgical lesion?</th>\n",
       "      <th>type of lesion</th>\n",
       "    </tr>\n",
       "    <tr>\n",
       "      <th>Hospital Number</th>\n",
       "      <th></th>\n",
       "      <th></th>\n",
       "      <th></th>\n",
       "      <th></th>\n",
       "      <th></th>\n",
       "      <th></th>\n",
       "      <th></th>\n",
       "      <th></th>\n",
       "      <th></th>\n",
       "      <th></th>\n",
       "      <th></th>\n",
       "      <th></th>\n",
       "      <th></th>\n",
       "    </tr>\n",
       "  </thead>\n",
       "  <tbody>\n",
       "    <tr>\n",
       "      <th>528931</th>\n",
       "      <td>2.0</td>\n",
       "      <td>1.0</td>\n",
       "      <td>1.0</td>\n",
       "      <td>1.0</td>\n",
       "      <td>1.0</td>\n",
       "      <td>1.0</td>\n",
       "      <td>3.0</td>\n",
       "      <td>1.0</td>\n",
       "      <td>49.0</td>\n",
       "      <td>7.2</td>\n",
       "      <td>1.0</td>\n",
       "      <td>2</td>\n",
       "      <td>3111</td>\n",
       "    </tr>\n",
       "    <tr>\n",
       "      <th>528668</th>\n",
       "      <td>1.0</td>\n",
       "      <td>2.0</td>\n",
       "      <td>3.0</td>\n",
       "      <td>3.0</td>\n",
       "      <td>1.0</td>\n",
       "      <td>NaN</td>\n",
       "      <td>NaN</td>\n",
       "      <td>NaN</td>\n",
       "      <td>43.0</td>\n",
       "      <td>6.1</td>\n",
       "      <td>1.0</td>\n",
       "      <td>1</td>\n",
       "      <td>3209</td>\n",
       "    </tr>\n",
       "    <tr>\n",
       "      <th>535031</th>\n",
       "      <td>1.0</td>\n",
       "      <td>4.0</td>\n",
       "      <td>3.0</td>\n",
       "      <td>NaN</td>\n",
       "      <td>1.0</td>\n",
       "      <td>2.0</td>\n",
       "      <td>4.0</td>\n",
       "      <td>3.0</td>\n",
       "      <td>46.0</td>\n",
       "      <td>67.0</td>\n",
       "      <td>1.0</td>\n",
       "      <td>1</td>\n",
       "      <td>2208</td>\n",
       "    </tr>\n",
       "    <tr>\n",
       "      <th>529960</th>\n",
       "      <td>1.0</td>\n",
       "      <td>3.0</td>\n",
       "      <td>1.0</td>\n",
       "      <td>1.0</td>\n",
       "      <td>1.0</td>\n",
       "      <td>2.0</td>\n",
       "      <td>2.0</td>\n",
       "      <td>1.0</td>\n",
       "      <td>31.0</td>\n",
       "      <td>7.3</td>\n",
       "      <td>1.0</td>\n",
       "      <td>2</td>\n",
       "      <td>5124</td>\n",
       "    </tr>\n",
       "    <tr>\n",
       "      <th>527544</th>\n",
       "      <td>1.0</td>\n",
       "      <td>3.0</td>\n",
       "      <td>4.0</td>\n",
       "      <td>5.0</td>\n",
       "      <td>2.0</td>\n",
       "      <td>2.0</td>\n",
       "      <td>3.0</td>\n",
       "      <td>2.0</td>\n",
       "      <td>60.0</td>\n",
       "      <td>7.5</td>\n",
       "      <td>2.0</td>\n",
       "      <td>1</td>\n",
       "      <td>1400</td>\n",
       "    </tr>\n",
       "    <tr>\n",
       "      <th>530526</th>\n",
       "      <td>1.0</td>\n",
       "      <td>4.0</td>\n",
       "      <td>3.0</td>\n",
       "      <td>3.0</td>\n",
       "      <td>2.0</td>\n",
       "      <td>3.0</td>\n",
       "      <td>3.0</td>\n",
       "      <td>3.0</td>\n",
       "      <td>43.0</td>\n",
       "      <td>7.0</td>\n",
       "      <td>1.0</td>\n",
       "      <td>1</td>\n",
       "      <td>3111</td>\n",
       "    </tr>\n",
       "    <tr>\n",
       "      <th>529764</th>\n",
       "      <td>2.0</td>\n",
       "      <td>1.0</td>\n",
       "      <td>1.0</td>\n",
       "      <td>3.0</td>\n",
       "      <td>1.0</td>\n",
       "      <td>1.0</td>\n",
       "      <td>3.0</td>\n",
       "      <td>2.0</td>\n",
       "      <td>44.0</td>\n",
       "      <td>7.0</td>\n",
       "      <td>1.0</td>\n",
       "      <td>2</td>\n",
       "      <td>0</td>\n",
       "    </tr>\n",
       "    <tr>\n",
       "      <th>529607</th>\n",
       "      <td>1.0</td>\n",
       "      <td>3.0</td>\n",
       "      <td>NaN</td>\n",
       "      <td>NaN</td>\n",
       "      <td>1.0</td>\n",
       "      <td>NaN</td>\n",
       "      <td>4.0</td>\n",
       "      <td>2.0</td>\n",
       "      <td>44.0</td>\n",
       "      <td>8.3</td>\n",
       "      <td>2.0</td>\n",
       "      <td>1</td>\n",
       "      <td>2208</td>\n",
       "    </tr>\n",
       "    <tr>\n",
       "      <th>5291329</th>\n",
       "      <td>2.0</td>\n",
       "      <td>1.0</td>\n",
       "      <td>1.0</td>\n",
       "      <td>2.0</td>\n",
       "      <td>1.0</td>\n",
       "      <td>1.0</td>\n",
       "      <td>3.0</td>\n",
       "      <td>2.0</td>\n",
       "      <td>37.0</td>\n",
       "      <td>6.1</td>\n",
       "      <td>2.0</td>\n",
       "      <td>2</td>\n",
       "      <td>0</td>\n",
       "    </tr>\n",
       "    <tr>\n",
       "      <th>533886</th>\n",
       "      <td>1.0</td>\n",
       "      <td>4.0</td>\n",
       "      <td>NaN</td>\n",
       "      <td>4.0</td>\n",
       "      <td>2.0</td>\n",
       "      <td>2.0</td>\n",
       "      <td>4.0</td>\n",
       "      <td>NaN</td>\n",
       "      <td>55.0</td>\n",
       "      <td>65.0</td>\n",
       "      <td>3.0</td>\n",
       "      <td>2</td>\n",
       "      <td>3205</td>\n",
       "    </tr>\n",
       "  </tbody>\n",
       "</table>\n",
       "</div>"
      ],
      "text/plain": [
       "                 surgery?  temperature of extremities  peripheral pulse  \\\n",
       "Hospital Number                                                           \n",
       "528931                2.0                         1.0               1.0   \n",
       "528668                1.0                         2.0               3.0   \n",
       "535031                1.0                         4.0               3.0   \n",
       "529960                1.0                         3.0               1.0   \n",
       "527544                1.0                         3.0               4.0   \n",
       "530526                1.0                         4.0               3.0   \n",
       "529764                2.0                         1.0               1.0   \n",
       "529607                1.0                         3.0               NaN   \n",
       "5291329               2.0                         1.0               1.0   \n",
       "533886                1.0                         4.0               NaN   \n",
       "\n",
       "                 mucous membranes  capillary refill time  \\\n",
       "Hospital Number                                            \n",
       "528931                        1.0                    1.0   \n",
       "528668                        3.0                    1.0   \n",
       "535031                        NaN                    1.0   \n",
       "529960                        1.0                    1.0   \n",
       "527544                        5.0                    2.0   \n",
       "530526                        3.0                    2.0   \n",
       "529764                        3.0                    1.0   \n",
       "529607                        NaN                    1.0   \n",
       "5291329                       2.0                    1.0   \n",
       "533886                        4.0                    2.0   \n",
       "\n",
       "                 pain - a subjective judgement of the horse's pain level  \\\n",
       "Hospital Number                                                            \n",
       "528931                                                         1.0         \n",
       "528668                                                         NaN         \n",
       "535031                                                         2.0         \n",
       "529960                                                         2.0         \n",
       "527544                                                         2.0         \n",
       "530526                                                         3.0         \n",
       "529764                                                         1.0         \n",
       "529607                                                         NaN         \n",
       "5291329                                                        1.0         \n",
       "533886                                                         2.0         \n",
       "\n",
       "                 peristalsis  abdominal distension  packed cell volume  \\\n",
       "Hospital Number                                                          \n",
       "528931                   3.0                   1.0                49.0   \n",
       "528668                   NaN                   NaN                43.0   \n",
       "535031                   4.0                   3.0                46.0   \n",
       "529960                   2.0                   1.0                31.0   \n",
       "527544                   3.0                   2.0                60.0   \n",
       "530526                   3.0                   3.0                43.0   \n",
       "529764                   3.0                   2.0                44.0   \n",
       "529607                   4.0                   2.0                44.0   \n",
       "5291329                  3.0                   2.0                37.0   \n",
       "533886                   4.0                   NaN                55.0   \n",
       "\n",
       "                 total protein  outcome  surgical lesion?  type of lesion  \n",
       "Hospital Number                                                            \n",
       "528931                     7.2      1.0                 2            3111  \n",
       "528668                     6.1      1.0                 1            3209  \n",
       "535031                    67.0      1.0                 1            2208  \n",
       "529960                     7.3      1.0                 2            5124  \n",
       "527544                     7.5      2.0                 1            1400  \n",
       "530526                     7.0      1.0                 1            3111  \n",
       "529764                     7.0      1.0                 2               0  \n",
       "529607                     8.3      2.0                 1            2208  \n",
       "5291329                    6.1      2.0                 2               0  \n",
       "533886                    65.0      3.0                 2            3205  "
      ]
     },
     "execution_count": 31,
     "metadata": {},
     "output_type": "execute_result"
    }
   ],
   "source": [
    "df.sample(10)"
   ]
  },
  {
   "cell_type": "code",
   "execution_count": 32,
   "metadata": {},
   "outputs": [
    {
     "data": {
      "text/plain": [
       "<seaborn.axisgrid.JointGrid at 0x1f195dd95c8>"
      ]
     },
     "execution_count": 32,
     "metadata": {},
     "output_type": "execute_result"
    },
    {
     "data": {
      "image/png": "[encoded data removed]",
      "text/plain": [
       "<Figure size 432x432 with 3 Axes>"
      ]
     },
     "metadata": {
      "needs_background": "light"
     },
     "output_type": "display_data"
    }
   ],
   "source": [
    "# изучаем периферический пульс\n",
    "# 1 = normal\n",
    "# 2 = increased\n",
    "# 3 = reduced\n",
    "# 4 = absent\n",
    "# проверяем связь с заполняемостью капилляров\n",
    "# - a clinical judgement. The longer the refill, the poorer the circulation\n",
    "# - possible values\n",
    "# 1 = < 3 seconds\n",
    "# 2 = >= 3 seconds\n",
    "\n",
    "sns.jointplot('peripheral pulse', 'capillary refill time', df, kind = 'kde')\n",
    "# видим, что медленное заполнение капилляров наблюдается только при пониженном пульсе, что логично. По сути, параметр\n",
    "# capillary refill time дублирует пульс, который можно оценить вручную."
   ]
  },
  {
   "cell_type": "code",
   "execution_count": 33,
   "metadata": {},
   "outputs": [
    {
     "data": {
      "text/plain": [
       "False    228\n",
       "True      39\n",
       "Name: peripheral pulse, dtype: int64"
      ]
     },
     "execution_count": 33,
     "metadata": {},
     "output_type": "execute_result"
    }
   ],
   "source": [
    "df['peripheral pulse'].isnull().value_counts()"
   ]
  },
  {
   "cell_type": "code",
   "execution_count": 34,
   "metadata": {},
   "outputs": [],
   "source": [
    "df['peripheral pulse'].fillna(df.groupby('capillary refill time')['peripheral pulse'].transform('median'), inplace = True)"
   ]
  },
  {
   "cell_type": "code",
   "execution_count": 35,
   "metadata": {},
   "outputs": [
    {
     "data": {
      "text/plain": [
       "False    264\n",
       "True       3\n",
       "Name: peripheral pulse, dtype: int64"
      ]
     },
     "execution_count": 35,
     "metadata": {},
     "output_type": "execute_result"
    }
   ],
   "source": [
    "df['peripheral pulse'].isnull().value_counts()"
   ]
  },
  {
   "cell_type": "code",
   "execution_count": 36,
   "metadata": {
    "scrolled": true
   },
   "outputs": [
    {
     "data": {
      "text/html": [
       "<div>\n",
       "<style scoped>\n",
       "    .dataframe tbody tr th:only-of-type {\n",
       "        vertical-align: middle;\n",
       "    }\n",
       "\n",
       "    .dataframe tbody tr th {\n",
       "        vertical-align: top;\n",
       "    }\n",
       "\n",
       "    .dataframe thead th {\n",
       "        text-align: right;\n",
       "    }\n",
       "</style>\n",
       "<table border=\"1\" class=\"dataframe\">\n",
       "  <thead>\n",
       "    <tr style=\"text-align: right;\">\n",
       "      <th></th>\n",
       "      <th>surgery?</th>\n",
       "      <th>temperature of extremities</th>\n",
       "      <th>peripheral pulse</th>\n",
       "      <th>mucous membranes</th>\n",
       "      <th>capillary refill time</th>\n",
       "      <th>pain - a subjective judgement of the horse's pain level</th>\n",
       "      <th>peristalsis</th>\n",
       "      <th>abdominal distension</th>\n",
       "      <th>packed cell volume</th>\n",
       "      <th>total protein</th>\n",
       "      <th>outcome</th>\n",
       "      <th>surgical lesion?</th>\n",
       "      <th>type of lesion</th>\n",
       "    </tr>\n",
       "    <tr>\n",
       "      <th>Hospital Number</th>\n",
       "      <th></th>\n",
       "      <th></th>\n",
       "      <th></th>\n",
       "      <th></th>\n",
       "      <th></th>\n",
       "      <th></th>\n",
       "      <th></th>\n",
       "      <th></th>\n",
       "      <th></th>\n",
       "      <th></th>\n",
       "      <th></th>\n",
       "      <th></th>\n",
       "      <th></th>\n",
       "    </tr>\n",
       "  </thead>\n",
       "  <tbody>\n",
       "    <tr>\n",
       "      <th>532349</th>\n",
       "      <td>1.0</td>\n",
       "      <td>3.0</td>\n",
       "      <td>NaN</td>\n",
       "      <td>4.0</td>\n",
       "      <td>NaN</td>\n",
       "      <td>5.0</td>\n",
       "      <td>4.0</td>\n",
       "      <td>3.0</td>\n",
       "      <td>50.0</td>\n",
       "      <td>77.0</td>\n",
       "      <td>1.0</td>\n",
       "      <td>1</td>\n",
       "      <td>3205</td>\n",
       "    </tr>\n",
       "    <tr>\n",
       "      <th>535314</th>\n",
       "      <td>2.0</td>\n",
       "      <td>2.0</td>\n",
       "      <td>NaN</td>\n",
       "      <td>NaN</td>\n",
       "      <td>NaN</td>\n",
       "      <td>1.0</td>\n",
       "      <td>1.0</td>\n",
       "      <td>NaN</td>\n",
       "      <td>34.0</td>\n",
       "      <td>63.0</td>\n",
       "      <td>1.0</td>\n",
       "      <td>2</td>\n",
       "      <td>0</td>\n",
       "    </tr>\n",
       "    <tr>\n",
       "      <th>534644</th>\n",
       "      <td>1.0</td>\n",
       "      <td>2.0</td>\n",
       "      <td>NaN</td>\n",
       "      <td>1.0</td>\n",
       "      <td>NaN</td>\n",
       "      <td>1.0</td>\n",
       "      <td>1.0</td>\n",
       "      <td>NaN</td>\n",
       "      <td>36.0</td>\n",
       "      <td>67.0</td>\n",
       "      <td>1.0</td>\n",
       "      <td>2</td>\n",
       "      <td>0</td>\n",
       "    </tr>\n",
       "  </tbody>\n",
       "</table>\n",
       "</div>"
      ],
      "text/plain": [
       "                 surgery?  temperature of extremities  peripheral pulse  \\\n",
       "Hospital Number                                                           \n",
       "532349                1.0                         3.0               NaN   \n",
       "535314                2.0                         2.0               NaN   \n",
       "534644                1.0                         2.0               NaN   \n",
       "\n",
       "                 mucous membranes  capillary refill time  \\\n",
       "Hospital Number                                            \n",
       "532349                        4.0                    NaN   \n",
       "535314                        NaN                    NaN   \n",
       "534644                        1.0                    NaN   \n",
       "\n",
       "                 pain - a subjective judgement of the horse's pain level  \\\n",
       "Hospital Number                                                            \n",
       "532349                                                         5.0         \n",
       "535314                                                         1.0         \n",
       "534644                                                         1.0         \n",
       "\n",
       "                 peristalsis  abdominal distension  packed cell volume  \\\n",
       "Hospital Number                                                          \n",
       "532349                   4.0                   3.0                50.0   \n",
       "535314                   1.0                   NaN                34.0   \n",
       "534644                   1.0                   NaN                36.0   \n",
       "\n",
       "                 total protein  outcome  surgical lesion?  type of lesion  \n",
       "Hospital Number                                                            \n",
       "532349                    77.0      1.0                 1            3205  \n",
       "535314                    63.0      1.0                 2               0  \n",
       "534644                    67.0      1.0                 2               0  "
      ]
     },
     "execution_count": 36,
     "metadata": {},
     "output_type": "execute_result"
    }
   ],
   "source": [
    "df[df['peripheral pulse'].isnull() == True]"
   ]
  },
  {
   "cell_type": "code",
   "execution_count": 37,
   "metadata": {},
   "outputs": [],
   "source": [
    "# остается три пропуска. Поскольку, все они у выживших лошадей, заполним соответствующей медианой\n",
    "df['peripheral pulse'].fillna(df.groupby('outcome')['peripheral pulse'].transform('median'), inplace = True)"
   ]
  },
  {
   "cell_type": "code",
   "execution_count": 38,
   "metadata": {
    "scrolled": true
   },
   "outputs": [
    {
     "data": {
      "image/png": "[encoded data removed]",
      "text/plain": [
       "<Figure size 432x288 with 1 Axes>"
      ]
     },
     "metadata": {
      "needs_background": "light"
     },
     "output_type": "display_data"
    }
   ],
   "source": [
    "# Изучим цвет слизистых\n",
    "#   1 = normal pink\n",
    "#   2 = bright pink\n",
    "#   3 = pale pink\n",
    "#   4 = pale cyanotic\n",
    "#   5 = bright red / injected\n",
    "#   6 = dark cyanotic\n",
    "# - 1 and 2 probably indicate a normal or slightly increased circulation\n",
    "# - 3 may occur in early shock\n",
    "# - 4 and 6 are indicative of serious circulatory compromise\n",
    "# - 5 is more indicative of a septicemia\n",
    "for outcome in range(1,4):\n",
    "    df[df.outcome == outcome]['mucous membranes'].plot(kind = 'hist', bins = 12, legend = True, label = outcome)\n",
    "# Показатель весьма надежный, но к тому моменту, как он проявляется, что-то предпринимать уже поздно.\n",
    "# Для предупреждения серьезных последствий не годится. Тем не менее, при значениях 4-6, он поможет принять решение\n",
    "# об эвтаназии\n"
   ]
  },
  {
   "cell_type": "code",
   "execution_count": 39,
   "metadata": {},
   "outputs": [
    {
     "data": {
      "text/plain": [
       "False    251\n",
       "True      16\n",
       "Name: mucous membranes, dtype: int64"
      ]
     },
     "execution_count": 39,
     "metadata": {},
     "output_type": "execute_result"
    }
   ],
   "source": [
    "df['mucous membranes'].isnull().value_counts()"
   ]
  },
  {
   "cell_type": "code",
   "execution_count": 40,
   "metadata": {},
   "outputs": [],
   "source": [
    "# 46 пропусков заполним медианой для каждого исхода в отдельности\n",
    "df['mucous membranes'].fillna(df.groupby('outcome')['mucous membranes'].transform('median'), inplace = True)"
   ]
  },
  {
   "cell_type": "code",
   "execution_count": 41,
   "metadata": {},
   "outputs": [
    {
     "data": {
      "text/plain": [
       "False    267\n",
       "Name: mucous membranes, dtype: int64"
      ]
     },
     "execution_count": 41,
     "metadata": {},
     "output_type": "execute_result"
    }
   ],
   "source": [
    "df['mucous membranes'].isnull().value_counts()"
   ]
  },
  {
   "cell_type": "code",
   "execution_count": 42,
   "metadata": {
    "scrolled": true
   },
   "outputs": [
    {
     "data": {
      "text/html": [
       "<div>\n",
       "<style scoped>\n",
       "    .dataframe tbody tr th:only-of-type {\n",
       "        vertical-align: middle;\n",
       "    }\n",
       "\n",
       "    .dataframe tbody tr th {\n",
       "        vertical-align: top;\n",
       "    }\n",
       "\n",
       "    .dataframe thead th {\n",
       "        text-align: right;\n",
       "    }\n",
       "</style>\n",
       "<table border=\"1\" class=\"dataframe\">\n",
       "  <thead>\n",
       "    <tr style=\"text-align: right;\">\n",
       "      <th></th>\n",
       "      <th>surgery?</th>\n",
       "      <th>temperature of extremities</th>\n",
       "      <th>peripheral pulse</th>\n",
       "      <th>mucous membranes</th>\n",
       "      <th>capillary refill time</th>\n",
       "      <th>pain - a subjective judgement of the horse's pain level</th>\n",
       "      <th>peristalsis</th>\n",
       "      <th>abdominal distension</th>\n",
       "      <th>packed cell volume</th>\n",
       "      <th>total protein</th>\n",
       "      <th>outcome</th>\n",
       "      <th>surgical lesion?</th>\n",
       "      <th>type of lesion</th>\n",
       "    </tr>\n",
       "    <tr>\n",
       "      <th>Hospital Number</th>\n",
       "      <th></th>\n",
       "      <th></th>\n",
       "      <th></th>\n",
       "      <th></th>\n",
       "      <th></th>\n",
       "      <th></th>\n",
       "      <th></th>\n",
       "      <th></th>\n",
       "      <th></th>\n",
       "      <th></th>\n",
       "      <th></th>\n",
       "      <th></th>\n",
       "      <th></th>\n",
       "    </tr>\n",
       "  </thead>\n",
       "  <tbody>\n",
       "    <tr>\n",
       "      <th>529183</th>\n",
       "      <td>2.0</td>\n",
       "      <td>2.0</td>\n",
       "      <td>1.0</td>\n",
       "      <td>1.0</td>\n",
       "      <td>1.0</td>\n",
       "      <td>1.0</td>\n",
       "      <td>1.0</td>\n",
       "      <td>1.0</td>\n",
       "      <td>40.0</td>\n",
       "      <td>7.0</td>\n",
       "      <td>1.0</td>\n",
       "      <td>2</td>\n",
       "      <td>0</td>\n",
       "    </tr>\n",
       "    <tr>\n",
       "      <th>527916</th>\n",
       "      <td>1.0</td>\n",
       "      <td>1.0</td>\n",
       "      <td>1.0</td>\n",
       "      <td>1.0</td>\n",
       "      <td>1.0</td>\n",
       "      <td>3.0</td>\n",
       "      <td>1.0</td>\n",
       "      <td>1.0</td>\n",
       "      <td>43.0</td>\n",
       "      <td>5.9</td>\n",
       "      <td>1.0</td>\n",
       "      <td>2</td>\n",
       "      <td>0</td>\n",
       "    </tr>\n",
       "    <tr>\n",
       "      <th>535407</th>\n",
       "      <td>1.0</td>\n",
       "      <td>3.0</td>\n",
       "      <td>3.0</td>\n",
       "      <td>4.0</td>\n",
       "      <td>2.0</td>\n",
       "      <td>4.0</td>\n",
       "      <td>4.0</td>\n",
       "      <td>NaN</td>\n",
       "      <td>57.0</td>\n",
       "      <td>69.0</td>\n",
       "      <td>3.0</td>\n",
       "      <td>1</td>\n",
       "      <td>3205</td>\n",
       "    </tr>\n",
       "    <tr>\n",
       "      <th>530294</th>\n",
       "      <td>2.0</td>\n",
       "      <td>1.0</td>\n",
       "      <td>1.0</td>\n",
       "      <td>1.0</td>\n",
       "      <td>1.0</td>\n",
       "      <td>2.0</td>\n",
       "      <td>3.0</td>\n",
       "      <td>1.0</td>\n",
       "      <td>40.0</td>\n",
       "      <td>5.7</td>\n",
       "      <td>1.0</td>\n",
       "      <td>1</td>\n",
       "      <td>400</td>\n",
       "    </tr>\n",
       "    <tr>\n",
       "      <th>528812</th>\n",
       "      <td>2.0</td>\n",
       "      <td>4.0</td>\n",
       "      <td>3.0</td>\n",
       "      <td>3.0</td>\n",
       "      <td>2.0</td>\n",
       "      <td>4.0</td>\n",
       "      <td>4.0</td>\n",
       "      <td>3.0</td>\n",
       "      <td>73.0</td>\n",
       "      <td>8.4</td>\n",
       "      <td>3.0</td>\n",
       "      <td>1</td>\n",
       "      <td>7111</td>\n",
       "    </tr>\n",
       "  </tbody>\n",
       "</table>\n",
       "</div>"
      ],
      "text/plain": [
       "                 surgery?  temperature of extremities  peripheral pulse  \\\n",
       "Hospital Number                                                           \n",
       "529183                2.0                         2.0               1.0   \n",
       "527916                1.0                         1.0               1.0   \n",
       "535407                1.0                         3.0               3.0   \n",
       "530294                2.0                         1.0               1.0   \n",
       "528812                2.0                         4.0               3.0   \n",
       "\n",
       "                 mucous membranes  capillary refill time  \\\n",
       "Hospital Number                                            \n",
       "529183                        1.0                    1.0   \n",
       "527916                        1.0                    1.0   \n",
       "535407                        4.0                    2.0   \n",
       "530294                        1.0                    1.0   \n",
       "528812                        3.0                    2.0   \n",
       "\n",
       "                 pain - a subjective judgement of the horse's pain level  \\\n",
       "Hospital Number                                                            \n",
       "529183                                                         1.0         \n",
       "527916                                                         3.0         \n",
       "535407                                                         4.0         \n",
       "530294                                                         2.0         \n",
       "528812                                                         4.0         \n",
       "\n",
       "                 peristalsis  abdominal distension  packed cell volume  \\\n",
       "Hospital Number                                                          \n",
       "529183                   1.0                   1.0                40.0   \n",
       "527916                   1.0                   1.0                43.0   \n",
       "535407                   4.0                   NaN                57.0   \n",
       "530294                   3.0                   1.0                40.0   \n",
       "528812                   4.0                   3.0                73.0   \n",
       "\n",
       "                 total protein  outcome  surgical lesion?  type of lesion  \n",
       "Hospital Number                                                            \n",
       "529183                     7.0      1.0                 2               0  \n",
       "527916                     5.9      1.0                 2               0  \n",
       "535407                    69.0      3.0                 1            3205  \n",
       "530294                     5.7      1.0                 1             400  \n",
       "528812                     8.4      3.0                 1            7111  "
      ]
     },
     "execution_count": 42,
     "metadata": {},
     "output_type": "execute_result"
    }
   ],
   "source": [
    "df.sample(5)"
   ]
  },
  {
   "cell_type": "code",
   "execution_count": 43,
   "metadata": {},
   "outputs": [],
   "source": [
    "# for column in df.columns:\n",
    "#     print(column)\n",
    "#     print(df.groupby('outcome')[column].agg(['mean','median', 'count', 'min', 'max' ]))\n",
    "#     print('- '*30)"
   ]
  },
  {
   "cell_type": "code",
   "execution_count": 44,
   "metadata": {},
   "outputs": [
    {
     "data": {
      "text/plain": [
       "False    267\n",
       "Name: temperature of extremities, dtype: int64"
      ]
     },
     "execution_count": 44,
     "metadata": {},
     "output_type": "execute_result"
    }
   ],
   "source": [
    "\n",
    "df[column].isnull().value_counts()"
   ]
  },
  {
   "cell_type": "code",
   "execution_count": 45,
   "metadata": {},
   "outputs": [
    {
     "name": "stdout",
     "output_type": "stream",
     "text": [
      "capillary refill time\n",
      "             mean  median  count  min  max\n",
      "outcome                                   \n",
      "1.0      1.174194     1.0    155  1.0  3.0\n",
      "2.0      1.484375     1.0     64  1.0  3.0\n",
      "3.0      1.538462     2.0     39  1.0  2.0\n",
      "- - - - - - - - - - - - - - - - - - - - - - - - - - - - - - \n",
      "количество пропусков: 8\n"
     ]
    }
   ],
   "source": [
    "column = 'capillary refill time'\n",
    "print(column)\n",
    "print(df.groupby('outcome')[column].agg(['mean','median', 'count', 'min', 'max' ]))\n",
    "print('- '*30)\n",
    "print(f'количество пропусков: {len(df[df[column].isnull() == True])}')"
   ]
  },
  {
   "cell_type": "code",
   "execution_count": 46,
   "metadata": {},
   "outputs": [
    {
     "data": {
      "text/html": [
       "<div>\n",
       "<style scoped>\n",
       "    .dataframe tbody tr th:only-of-type {\n",
       "        vertical-align: middle;\n",
       "    }\n",
       "\n",
       "    .dataframe tbody tr th {\n",
       "        vertical-align: top;\n",
       "    }\n",
       "\n",
       "    .dataframe thead th {\n",
       "        text-align: right;\n",
       "    }\n",
       "</style>\n",
       "<table border=\"1\" class=\"dataframe\">\n",
       "  <thead>\n",
       "    <tr style=\"text-align: right;\">\n",
       "      <th></th>\n",
       "      <th>surgery?</th>\n",
       "      <th>temperature of extremities</th>\n",
       "      <th>peripheral pulse</th>\n",
       "      <th>mucous membranes</th>\n",
       "      <th>capillary refill time</th>\n",
       "      <th>pain - a subjective judgement of the horse's pain level</th>\n",
       "      <th>peristalsis</th>\n",
       "      <th>abdominal distension</th>\n",
       "      <th>packed cell volume</th>\n",
       "      <th>total protein</th>\n",
       "      <th>outcome</th>\n",
       "      <th>surgical lesion?</th>\n",
       "      <th>type of lesion</th>\n",
       "    </tr>\n",
       "    <tr>\n",
       "      <th>Hospital Number</th>\n",
       "      <th></th>\n",
       "      <th></th>\n",
       "      <th></th>\n",
       "      <th></th>\n",
       "      <th></th>\n",
       "      <th></th>\n",
       "      <th></th>\n",
       "      <th></th>\n",
       "      <th></th>\n",
       "      <th></th>\n",
       "      <th></th>\n",
       "      <th></th>\n",
       "      <th></th>\n",
       "    </tr>\n",
       "  </thead>\n",
       "  <tbody>\n",
       "    <tr>\n",
       "      <th>532110</th>\n",
       "      <td>2.0</td>\n",
       "      <td>4.0</td>\n",
       "      <td>3.0</td>\n",
       "      <td>6.0</td>\n",
       "      <td>NaN</td>\n",
       "      <td>NaN</td>\n",
       "      <td>3.0</td>\n",
       "      <td>3.0</td>\n",
       "      <td>55.0</td>\n",
       "      <td>8.7</td>\n",
       "      <td>1.0</td>\n",
       "      <td>2</td>\n",
       "      <td>0</td>\n",
       "    </tr>\n",
       "    <tr>\n",
       "      <th>521681</th>\n",
       "      <td>1.0</td>\n",
       "      <td>2.0</td>\n",
       "      <td>1.0</td>\n",
       "      <td>4.0</td>\n",
       "      <td>NaN</td>\n",
       "      <td>2.0</td>\n",
       "      <td>3.0</td>\n",
       "      <td>1.0</td>\n",
       "      <td>48.0</td>\n",
       "      <td>7.2</td>\n",
       "      <td>1.0</td>\n",
       "      <td>1</td>\n",
       "      <td>3111</td>\n",
       "    </tr>\n",
       "    <tr>\n",
       "      <th>528298</th>\n",
       "      <td>1.0</td>\n",
       "      <td>4.0</td>\n",
       "      <td>3.0</td>\n",
       "      <td>3.0</td>\n",
       "      <td>NaN</td>\n",
       "      <td>5.0</td>\n",
       "      <td>4.0</td>\n",
       "      <td>3.0</td>\n",
       "      <td>53.0</td>\n",
       "      <td>5.9</td>\n",
       "      <td>2.0</td>\n",
       "      <td>1</td>\n",
       "      <td>3205</td>\n",
       "    </tr>\n",
       "    <tr>\n",
       "      <th>532349</th>\n",
       "      <td>1.0</td>\n",
       "      <td>3.0</td>\n",
       "      <td>1.0</td>\n",
       "      <td>4.0</td>\n",
       "      <td>NaN</td>\n",
       "      <td>5.0</td>\n",
       "      <td>4.0</td>\n",
       "      <td>3.0</td>\n",
       "      <td>50.0</td>\n",
       "      <td>77.0</td>\n",
       "      <td>1.0</td>\n",
       "      <td>1</td>\n",
       "      <td>3205</td>\n",
       "    </tr>\n",
       "    <tr>\n",
       "      <th>535314</th>\n",
       "      <td>2.0</td>\n",
       "      <td>2.0</td>\n",
       "      <td>1.0</td>\n",
       "      <td>2.0</td>\n",
       "      <td>NaN</td>\n",
       "      <td>1.0</td>\n",
       "      <td>1.0</td>\n",
       "      <td>NaN</td>\n",
       "      <td>34.0</td>\n",
       "      <td>63.0</td>\n",
       "      <td>1.0</td>\n",
       "      <td>2</td>\n",
       "      <td>0</td>\n",
       "    </tr>\n",
       "    <tr>\n",
       "      <th>527677</th>\n",
       "      <td>2.0</td>\n",
       "      <td>3.0</td>\n",
       "      <td>3.0</td>\n",
       "      <td>5.0</td>\n",
       "      <td>NaN</td>\n",
       "      <td>3.0</td>\n",
       "      <td>3.0</td>\n",
       "      <td>3.0</td>\n",
       "      <td>68.0</td>\n",
       "      <td>5.8</td>\n",
       "      <td>2.0</td>\n",
       "      <td>1</td>\n",
       "      <td>5400</td>\n",
       "    </tr>\n",
       "    <tr>\n",
       "      <th>533697</th>\n",
       "      <td>2.0</td>\n",
       "      <td>3.0</td>\n",
       "      <td>1.0</td>\n",
       "      <td>1.0</td>\n",
       "      <td>NaN</td>\n",
       "      <td>NaN</td>\n",
       "      <td>1.0</td>\n",
       "      <td>2.0</td>\n",
       "      <td>42.0</td>\n",
       "      <td>64.0</td>\n",
       "      <td>1.0</td>\n",
       "      <td>2</td>\n",
       "      <td>0</td>\n",
       "    </tr>\n",
       "    <tr>\n",
       "      <th>534644</th>\n",
       "      <td>1.0</td>\n",
       "      <td>2.0</td>\n",
       "      <td>1.0</td>\n",
       "      <td>1.0</td>\n",
       "      <td>NaN</td>\n",
       "      <td>1.0</td>\n",
       "      <td>1.0</td>\n",
       "      <td>NaN</td>\n",
       "      <td>36.0</td>\n",
       "      <td>67.0</td>\n",
       "      <td>1.0</td>\n",
       "      <td>2</td>\n",
       "      <td>0</td>\n",
       "    </tr>\n",
       "  </tbody>\n",
       "</table>\n",
       "</div>"
      ],
      "text/plain": [
       "                 surgery?  temperature of extremities  peripheral pulse  \\\n",
       "Hospital Number                                                           \n",
       "532110                2.0                         4.0               3.0   \n",
       "521681                1.0                         2.0               1.0   \n",
       "528298                1.0                         4.0               3.0   \n",
       "532349                1.0                         3.0               1.0   \n",
       "535314                2.0                         2.0               1.0   \n",
       "527677                2.0                         3.0               3.0   \n",
       "533697                2.0                         3.0               1.0   \n",
       "534644                1.0                         2.0               1.0   \n",
       "\n",
       "                 mucous membranes  capillary refill time  \\\n",
       "Hospital Number                                            \n",
       "532110                        6.0                    NaN   \n",
       "521681                        4.0                    NaN   \n",
       "528298                        3.0                    NaN   \n",
       "532349                        4.0                    NaN   \n",
       "535314                        2.0                    NaN   \n",
       "527677                        5.0                    NaN   \n",
       "533697                        1.0                    NaN   \n",
       "534644                        1.0                    NaN   \n",
       "\n",
       "                 pain - a subjective judgement of the horse's pain level  \\\n",
       "Hospital Number                                                            \n",
       "532110                                                         NaN         \n",
       "521681                                                         2.0         \n",
       "528298                                                         5.0         \n",
       "532349                                                         5.0         \n",
       "535314                                                         1.0         \n",
       "527677                                                         3.0         \n",
       "533697                                                         NaN         \n",
       "534644                                                         1.0         \n",
       "\n",
       "                 peristalsis  abdominal distension  packed cell volume  \\\n",
       "Hospital Number                                                          \n",
       "532110                   3.0                   3.0                55.0   \n",
       "521681                   3.0                   1.0                48.0   \n",
       "528298                   4.0                   3.0                53.0   \n",
       "532349                   4.0                   3.0                50.0   \n",
       "535314                   1.0                   NaN                34.0   \n",
       "527677                   3.0                   3.0                68.0   \n",
       "533697                   1.0                   2.0                42.0   \n",
       "534644                   1.0                   NaN                36.0   \n",
       "\n",
       "                 total protein  outcome  surgical lesion?  type of lesion  \n",
       "Hospital Number                                                            \n",
       "532110                     8.7      1.0                 2               0  \n",
       "521681                     7.2      1.0                 1            3111  \n",
       "528298                     5.9      2.0                 1            3205  \n",
       "532349                    77.0      1.0                 1            3205  \n",
       "535314                    63.0      1.0                 2               0  \n",
       "527677                     5.8      2.0                 1            5400  \n",
       "533697                    64.0      1.0                 2               0  \n",
       "534644                    67.0      1.0                 2               0  "
      ]
     },
     "execution_count": 46,
     "metadata": {},
     "output_type": "execute_result"
    }
   ],
   "source": [
    "df[df[column].isnull() == True]"
   ]
  },
  {
   "cell_type": "code",
   "execution_count": 47,
   "metadata": {},
   "outputs": [],
   "source": [
    "# у нас обнаружилось три ошибочных значения в capillary refill time, заменим их нанами\n",
    "df.loc[df[column] == 3, column] = np.nan"
   ]
  },
  {
   "cell_type": "code",
   "execution_count": 48,
   "metadata": {},
   "outputs": [
    {
     "name": "stdout",
     "output_type": "stream",
     "text": [
      "capillary refill time\n",
      "             mean  median  count  min  max\n",
      "outcome                                   \n",
      "1.0      1.162338     1.0    154  1.0  2.0\n",
      "2.0      1.460317     1.0     63  1.0  2.0\n",
      "3.0      1.538462     2.0     39  1.0  2.0\n",
      "- - - - - - - - - - - - - - - - - - - - - - - - - - - - - - \n",
      "количество пропусков: 10\n"
     ]
    }
   ],
   "source": [
    "column = 'capillary refill time'\n",
    "print(column)\n",
    "print(df.groupby('outcome')[column].agg(['mean','median', 'count', 'min', 'max' ]))\n",
    "print('- '*30)\n",
    "print(f'количество пропусков: {len(df[df[column].isnull() == True])}')"
   ]
  },
  {
   "cell_type": "code",
   "execution_count": 49,
   "metadata": {},
   "outputs": [
    {
     "data": {
      "text/plain": [
       "<matplotlib.axes._subplots.AxesSubplot at 0x1f195f62588>"
      ]
     },
     "execution_count": 49,
     "metadata": {},
     "output_type": "execute_result"
    },
    {
     "data": {
      "image/png": "[encoded data removed]",
      "text/plain": [
       "<Figure size 432x288 with 1 Axes>"
      ]
     },
     "metadata": {
      "needs_background": "light"
     },
     "output_type": "display_data"
    }
   ],
   "source": [
    "# немного настораживает, что при значительном отличии средней величины, мода и медиана для погибших лошадей такая же, как для живых\n",
    "# проверим сумманые количества для погибших и умерщвленных и увидим, что даже в этом случае 1 преобладает\n",
    "df[df['outcome'] >= 2][column].hist()"
   ]
  },
  {
   "cell_type": "code",
   "execution_count": 50,
   "metadata": {
    "scrolled": true
   },
   "outputs": [
    {
     "data": {
      "text/html": [
       "<div>\n",
       "<style scoped>\n",
       "    .dataframe tbody tr th:only-of-type {\n",
       "        vertical-align: middle;\n",
       "    }\n",
       "\n",
       "    .dataframe tbody tr th {\n",
       "        vertical-align: top;\n",
       "    }\n",
       "\n",
       "    .dataframe thead th {\n",
       "        text-align: right;\n",
       "    }\n",
       "</style>\n",
       "<table border=\"1\" class=\"dataframe\">\n",
       "  <thead>\n",
       "    <tr style=\"text-align: right;\">\n",
       "      <th></th>\n",
       "      <th>surgery?</th>\n",
       "      <th>temperature of extremities</th>\n",
       "      <th>peripheral pulse</th>\n",
       "      <th>mucous membranes</th>\n",
       "      <th>capillary refill time</th>\n",
       "      <th>pain - a subjective judgement of the horse's pain level</th>\n",
       "      <th>peristalsis</th>\n",
       "      <th>abdominal distension</th>\n",
       "      <th>packed cell volume</th>\n",
       "      <th>total protein</th>\n",
       "      <th>outcome</th>\n",
       "      <th>surgical lesion?</th>\n",
       "      <th>type of lesion</th>\n",
       "    </tr>\n",
       "    <tr>\n",
       "      <th>Hospital Number</th>\n",
       "      <th></th>\n",
       "      <th></th>\n",
       "      <th></th>\n",
       "      <th></th>\n",
       "      <th></th>\n",
       "      <th></th>\n",
       "      <th></th>\n",
       "      <th></th>\n",
       "      <th></th>\n",
       "      <th></th>\n",
       "      <th></th>\n",
       "      <th></th>\n",
       "      <th></th>\n",
       "    </tr>\n",
       "  </thead>\n",
       "  <tbody>\n",
       "  </tbody>\n",
       "</table>\n",
       "</div>"
      ],
      "text/plain": [
       "Empty DataFrame\n",
       "Columns: [surgery?, temperature of extremities, peripheral pulse, mucous membranes, capillary refill time, pain - a subjective judgement of the horse's pain level, peristalsis, abdominal distension, packed cell volume, total protein, outcome, surgical lesion?, type of lesion]\n",
       "Index: []"
      ]
     },
     "execution_count": 50,
     "metadata": {},
     "output_type": "execute_result"
    }
   ],
   "source": [
    "df.loc[(df['outcome'] <= 2) & (df[column].isnull() == True), [column]] = 1\n",
    "df[df[column].isnull() == True]"
   ]
  },
  {
   "cell_type": "code",
   "execution_count": 51,
   "metadata": {},
   "outputs": [
    {
     "data": {
      "text/plain": [
       "False    267\n",
       "Name: capillary refill time, dtype: int64"
      ]
     },
     "execution_count": 51,
     "metadata": {},
     "output_type": "execute_result"
    }
   ],
   "source": [
    "df[column].isnull().value_counts()\n",
    "# сам по себе параметр в рамках нашей концепции не супер важный, но весьма показательный и объективный,\n",
    "# поэтому оставим на всякий случай."
   ]
  },
  {
   "cell_type": "code",
   "execution_count": 52,
   "metadata": {},
   "outputs": [
    {
     "data": {
      "text/html": [
       "<div>\n",
       "<style scoped>\n",
       "    .dataframe tbody tr th:only-of-type {\n",
       "        vertical-align: middle;\n",
       "    }\n",
       "\n",
       "    .dataframe tbody tr th {\n",
       "        vertical-align: top;\n",
       "    }\n",
       "\n",
       "    .dataframe thead th {\n",
       "        text-align: right;\n",
       "    }\n",
       "</style>\n",
       "<table border=\"1\" class=\"dataframe\">\n",
       "  <thead>\n",
       "    <tr style=\"text-align: right;\">\n",
       "      <th></th>\n",
       "      <th>surgery?</th>\n",
       "      <th>temperature of extremities</th>\n",
       "      <th>peripheral pulse</th>\n",
       "      <th>mucous membranes</th>\n",
       "      <th>capillary refill time</th>\n",
       "      <th>pain - a subjective judgement of the horse's pain level</th>\n",
       "      <th>peristalsis</th>\n",
       "      <th>abdominal distension</th>\n",
       "      <th>packed cell volume</th>\n",
       "      <th>total protein</th>\n",
       "      <th>outcome</th>\n",
       "      <th>surgical lesion?</th>\n",
       "      <th>type of lesion</th>\n",
       "    </tr>\n",
       "    <tr>\n",
       "      <th>Hospital Number</th>\n",
       "      <th></th>\n",
       "      <th></th>\n",
       "      <th></th>\n",
       "      <th></th>\n",
       "      <th></th>\n",
       "      <th></th>\n",
       "      <th></th>\n",
       "      <th></th>\n",
       "      <th></th>\n",
       "      <th></th>\n",
       "      <th></th>\n",
       "      <th></th>\n",
       "      <th></th>\n",
       "    </tr>\n",
       "  </thead>\n",
       "  <tbody>\n",
       "    <tr>\n",
       "      <th>534403</th>\n",
       "      <td>1.0</td>\n",
       "      <td>2.0</td>\n",
       "      <td>1.0</td>\n",
       "      <td>1.0</td>\n",
       "      <td>1.0</td>\n",
       "      <td>NaN</td>\n",
       "      <td>3.0</td>\n",
       "      <td>NaN</td>\n",
       "      <td>47.0</td>\n",
       "      <td>60.0</td>\n",
       "      <td>1.0</td>\n",
       "      <td>2</td>\n",
       "      <td>0</td>\n",
       "    </tr>\n",
       "    <tr>\n",
       "      <th>527927</th>\n",
       "      <td>2.0</td>\n",
       "      <td>2.0</td>\n",
       "      <td>1.0</td>\n",
       "      <td>2.0</td>\n",
       "      <td>1.0</td>\n",
       "      <td>2.0</td>\n",
       "      <td>1.0</td>\n",
       "      <td>2.0</td>\n",
       "      <td>50.0</td>\n",
       "      <td>7.8</td>\n",
       "      <td>1.0</td>\n",
       "      <td>1</td>\n",
       "      <td>2111</td>\n",
       "    </tr>\n",
       "    <tr>\n",
       "      <th>529183</th>\n",
       "      <td>2.0</td>\n",
       "      <td>2.0</td>\n",
       "      <td>1.0</td>\n",
       "      <td>1.0</td>\n",
       "      <td>1.0</td>\n",
       "      <td>1.0</td>\n",
       "      <td>1.0</td>\n",
       "      <td>1.0</td>\n",
       "      <td>40.0</td>\n",
       "      <td>7.0</td>\n",
       "      <td>1.0</td>\n",
       "      <td>2</td>\n",
       "      <td>0</td>\n",
       "    </tr>\n",
       "  </tbody>\n",
       "</table>\n",
       "</div>"
      ],
      "text/plain": [
       "                 surgery?  temperature of extremities  peripheral pulse  \\\n",
       "Hospital Number                                                           \n",
       "534403                1.0                         2.0               1.0   \n",
       "527927                2.0                         2.0               1.0   \n",
       "529183                2.0                         2.0               1.0   \n",
       "\n",
       "                 mucous membranes  capillary refill time  \\\n",
       "Hospital Number                                            \n",
       "534403                        1.0                    1.0   \n",
       "527927                        2.0                    1.0   \n",
       "529183                        1.0                    1.0   \n",
       "\n",
       "                 pain - a subjective judgement of the horse's pain level  \\\n",
       "Hospital Number                                                            \n",
       "534403                                                         NaN         \n",
       "527927                                                         2.0         \n",
       "529183                                                         1.0         \n",
       "\n",
       "                 peristalsis  abdominal distension  packed cell volume  \\\n",
       "Hospital Number                                                          \n",
       "534403                   3.0                   NaN                47.0   \n",
       "527927                   1.0                   2.0                50.0   \n",
       "529183                   1.0                   1.0                40.0   \n",
       "\n",
       "                 total protein  outcome  surgical lesion?  type of lesion  \n",
       "Hospital Number                                                            \n",
       "534403                    60.0      1.0                 2               0  \n",
       "527927                     7.8      1.0                 1            2111  \n",
       "529183                     7.0      1.0                 2               0  "
      ]
     },
     "execution_count": 52,
     "metadata": {},
     "output_type": "execute_result"
    }
   ],
   "source": [
    "df.sample(3)"
   ]
  },
  {
   "cell_type": "code",
   "execution_count": 53,
   "metadata": {},
   "outputs": [],
   "source": [
    "# следующей изучим субъективную оценку болевых ощущений\n",
    "# для начала переименуем заголовок в более лаконичное \"pain\"\n",
    "column = 'pain'\n",
    "\n",
    "# 1 = alert, no pain\n",
    "# 2 = depressed\n",
    "# 3 = intermittent mild pain\n",
    "# 4 = intermittent severe pain\n",
    "# 5 = continuous severe pain\n",
    "# - should NOT be treated as a ordered or discrete variable!\n",
    "# - In general, the more painful, the more likely it is to require surgery\n",
    "# - prior treatment of pain may mask the pain level to some extent"
   ]
  },
  {
   "cell_type": "code",
   "execution_count": 54,
   "metadata": {},
   "outputs": [],
   "source": [
    "df.columns = ['surgery?', 'temperature of extremities', 'peripheral pulse',\n",
    "       'mucous membranes', 'capillary refill time',\n",
    "       'pain',\n",
    "       'peristalsis', 'abdominal distension', 'packed cell volume',\n",
    "       'total protein', 'outcome', 'surgical lesion?', 'type of lesion']"
   ]
  },
  {
   "cell_type": "code",
   "execution_count": 55,
   "metadata": {},
   "outputs": [
    {
     "name": "stdout",
     "output_type": "stream",
     "text": [
      "pain\n",
      "количество пропусков: 28\n"
     ]
    }
   ],
   "source": [
    "# в описании сказано, что в целом, чем сильнее боль, тем выше вероятность операции. Также предостерегают нас от работы\n",
    "# с цифровым обозначением, как с какой-либо шкалой. Поэтому просто заменим пропуски на значение моды в зависимости от того,\n",
    "# была ли операция. Для субъективной оценки параметр важный, поэтому сохраним его.\n",
    "print(column)\n",
    "print(f'количество пропусков: {len(df[df[column].isnull() == True])}')"
   ]
  },
  {
   "cell_type": "code",
   "execution_count": 56,
   "metadata": {},
   "outputs": [
    {
     "name": "stdout",
     "output_type": "stream",
     "text": [
      "3.0    39\n",
      "2.0    34\n",
      "5.0    32\n",
      "4.0    26\n",
      "1.0     9\n",
      "Name: pain, dtype: int64\n",
      "1.0    29\n",
      "3.0    28\n",
      "2.0    24\n",
      "4.0     9\n",
      "5.0     8\n",
      "Name: pain, dtype: int64\n"
     ]
    }
   ],
   "source": [
    "print(df[df['surgery?'] == 1][column].value_counts())\n",
    "print(df[df['surgery?'] == 2][column].value_counts())"
   ]
  },
  {
   "cell_type": "code",
   "execution_count": 57,
   "metadata": {
    "scrolled": true
   },
   "outputs": [],
   "source": [
    "df.loc[(df['surgery?'] == 1) & (df[column].isnull() == True),column] = 3\n",
    "df.loc[(df['surgery?'] == 2) & (df[column].isnull() == True),column] = 1"
   ]
  },
  {
   "cell_type": "code",
   "execution_count": 58,
   "metadata": {},
   "outputs": [
    {
     "data": {
      "text/plain": [
       "False    267\n",
       "Name: pain, dtype: int64"
      ]
     },
     "execution_count": 58,
     "metadata": {},
     "output_type": "execute_result"
    }
   ],
   "source": [
    "df[column].isnull().value_counts()"
   ]
  },
  {
   "cell_type": "code",
   "execution_count": 59,
   "metadata": {},
   "outputs": [
    {
     "name": "stdout",
     "output_type": "stream",
     "text": [
      "peristalsis\n",
      "             mean  median  count  min  max\n",
      "outcome                                   \n",
      "1.0      2.670968     3.0    155  1.0  4.0\n",
      "2.0      3.344262     3.0     61  1.0  4.0\n",
      "3.0      3.250000     3.0     36  1.0  4.0\n",
      "- - - - - - - - - - - - - - - - - - - - - - - - - - - - - - \n",
      "количество пропусков: 14\n"
     ]
    }
   ],
   "source": [
    "# следующей изучим перистальтику.\n",
    "column = \"peristalsis\"\n",
    "# 1 = hypermotile\n",
    "# 2 = normal\n",
    "# 3 = hypomotile\n",
    "# 4 = absent\n",
    "print(column)\n",
    "print(df.groupby('outcome')[column].agg(['mean','median', 'count', 'min', 'max' ]))\n",
    "print('- '*30)\n",
    "print(f'количество пропусков: {len(df[df[column].isnull() == True])}')"
   ]
  },
  {
   "cell_type": "code",
   "execution_count": 60,
   "metadata": {},
   "outputs": [
    {
     "data": {
      "text/plain": [
       "<matplotlib.axes._subplots.AxesSubplot at 0x1f195ff3e08>"
      ]
     },
     "execution_count": 60,
     "metadata": {},
     "output_type": "execute_result"
    },
    {
     "data": {
      "image/png": "[encoded data removed]",
      "text/plain": [
       "<Figure size 432x288 with 1 Axes>"
      ]
     },
     "metadata": {
      "needs_background": "light"
     },
     "output_type": "display_data"
    }
   ],
   "source": [
    "df[df['outcome'] == 1][column].hist()"
   ]
  },
  {
   "cell_type": "code",
   "execution_count": 61,
   "metadata": {},
   "outputs": [
    {
     "data": {
      "text/plain": [
       "<matplotlib.axes._subplots.AxesSubplot at 0x1f195f5c288>"
      ]
     },
     "execution_count": 61,
     "metadata": {},
     "output_type": "execute_result"
    },
    {
     "data": {
      "image/png": "[encoded data removed]",
      "text/plain": [
       "<Figure size 432x288 with 1 Axes>"
      ]
     },
     "metadata": {
      "needs_background": "light"
     },
     "output_type": "display_data"
    }
   ],
   "source": [
    "df[df['outcome'] == 2][column].hist()"
   ]
  },
  {
   "cell_type": "code",
   "execution_count": 62,
   "metadata": {},
   "outputs": [
    {
     "data": {
      "text/plain": [
       "<matplotlib.axes._subplots.AxesSubplot at 0x1f1960b6e48>"
      ]
     },
     "execution_count": 62,
     "metadata": {},
     "output_type": "execute_result"
    },
    {
     "data": {
      "image/png": "[encoded data removed]",
      "text/plain": [
       "<Figure size 432x288 with 1 Axes>"
      ]
     },
     "metadata": {
      "needs_background": "light"
     },
     "output_type": "display_data"
    }
   ],
   "source": [
    "df[df['outcome'] == 3][column].hist()"
   ]
  },
  {
   "cell_type": "code",
   "execution_count": 63,
   "metadata": {},
   "outputs": [],
   "source": [
    "# этот показатель слабо связан с исходом для лошади, а скорее просто является неотъемлемым атрибутом изучаемой болезни.\n",
    "# Поскольку практического смысла он для нас не несет, можно им пожертвовать\n",
    "df.drop(column, axis = 1, inplace = True)"
   ]
  },
  {
   "cell_type": "code",
   "execution_count": 64,
   "metadata": {},
   "outputs": [
    {
     "data": {
      "text/html": [
       "<div>\n",
       "<style scoped>\n",
       "    .dataframe tbody tr th:only-of-type {\n",
       "        vertical-align: middle;\n",
       "    }\n",
       "\n",
       "    .dataframe tbody tr th {\n",
       "        vertical-align: top;\n",
       "    }\n",
       "\n",
       "    .dataframe thead th {\n",
       "        text-align: right;\n",
       "    }\n",
       "</style>\n",
       "<table border=\"1\" class=\"dataframe\">\n",
       "  <thead>\n",
       "    <tr style=\"text-align: right;\">\n",
       "      <th></th>\n",
       "      <th>surgery?</th>\n",
       "      <th>temperature of extremities</th>\n",
       "      <th>peripheral pulse</th>\n",
       "      <th>mucous membranes</th>\n",
       "      <th>capillary refill time</th>\n",
       "      <th>pain</th>\n",
       "      <th>abdominal distension</th>\n",
       "      <th>packed cell volume</th>\n",
       "      <th>total protein</th>\n",
       "      <th>outcome</th>\n",
       "      <th>surgical lesion?</th>\n",
       "      <th>type of lesion</th>\n",
       "    </tr>\n",
       "    <tr>\n",
       "      <th>Hospital Number</th>\n",
       "      <th></th>\n",
       "      <th></th>\n",
       "      <th></th>\n",
       "      <th></th>\n",
       "      <th></th>\n",
       "      <th></th>\n",
       "      <th></th>\n",
       "      <th></th>\n",
       "      <th></th>\n",
       "      <th></th>\n",
       "      <th></th>\n",
       "      <th></th>\n",
       "    </tr>\n",
       "  </thead>\n",
       "  <tbody>\n",
       "    <tr>\n",
       "      <th>528904</th>\n",
       "      <td>2.0</td>\n",
       "      <td>3.0</td>\n",
       "      <td>3.0</td>\n",
       "      <td>3.0</td>\n",
       "      <td>2.0</td>\n",
       "      <td>5.0</td>\n",
       "      <td>4.0</td>\n",
       "      <td>60.0</td>\n",
       "      <td>NaN</td>\n",
       "      <td>2.0</td>\n",
       "      <td>1</td>\n",
       "      <td>41110</td>\n",
       "    </tr>\n",
       "  </tbody>\n",
       "</table>\n",
       "</div>"
      ],
      "text/plain": [
       "                 surgery?  temperature of extremities  peripheral pulse  \\\n",
       "Hospital Number                                                           \n",
       "528904                2.0                         3.0               3.0   \n",
       "\n",
       "                 mucous membranes  capillary refill time  pain  \\\n",
       "Hospital Number                                                  \n",
       "528904                        3.0                    2.0   5.0   \n",
       "\n",
       "                 abdominal distension  packed cell volume  total protein  \\\n",
       "Hospital Number                                                            \n",
       "528904                            4.0                60.0            NaN   \n",
       "\n",
       "                 outcome  surgical lesion?  type of lesion  \n",
       "Hospital Number                                             \n",
       "528904               2.0                 1           41110  "
      ]
     },
     "execution_count": 64,
     "metadata": {},
     "output_type": "execute_result"
    }
   ],
   "source": [
    "df.sample()"
   ]
  },
  {
   "cell_type": "code",
   "execution_count": 65,
   "metadata": {},
   "outputs": [
    {
     "name": "stdout",
     "output_type": "stream",
     "text": [
      "abdominal distension\n",
      "             mean  median  count  min  max\n",
      "outcome                                   \n",
      "1.0      1.938776     2.0    147  1.0  4.0\n",
      "2.0      2.754098     3.0     61  1.0  4.0\n",
      "3.0      2.677419     3.0     31  1.0  4.0\n",
      "- - - - - - - - - - - - - - - - - - - - - - - - - - - - - - \n",
      "количество пропусков: 27\n"
     ]
    }
   ],
   "source": [
    "# изучим параметр abdominal distension\n",
    "# - An IMPORTANT parameter.\n",
    "# 1 = none\n",
    "# 2 = slight\n",
    "# 3 = moderate\n",
    "# 4 = severe\n",
    "# - an animal with abdominal distension is likely to be painful and have reduced gut motility.\n",
    "# - a horse with severe abdominal distension is likely to require surgery just to relieve the pressure\n",
    "\n",
    "column = 'abdominal distension'\n",
    "print(column)\n",
    "print(df.groupby('outcome')[column].agg(['mean','median', 'count', 'min', 'max' ]))\n",
    "print('- '*30)\n",
    "print(f'количество пропусков: {len(df[df[column].isnull() == True])}')"
   ]
  },
  {
   "cell_type": "code",
   "execution_count": 66,
   "metadata": {},
   "outputs": [
    {
     "name": "stdout",
     "output_type": "stream",
     "text": [
      "1.0\n",
      "3.0\n",
      "3.0\n"
     ]
    }
   ],
   "source": [
    "for outcome in range(1,4):\n",
    "    print(df[df['outcome'] == outcome][column].mode()[0])"
   ]
  },
  {
   "cell_type": "code",
   "execution_count": 67,
   "metadata": {
    "scrolled": true
   },
   "outputs": [
    {
     "data": {
      "text/html": [
       "<div>\n",
       "<style scoped>\n",
       "    .dataframe tbody tr th:only-of-type {\n",
       "        vertical-align: middle;\n",
       "    }\n",
       "\n",
       "    .dataframe tbody tr th {\n",
       "        vertical-align: top;\n",
       "    }\n",
       "\n",
       "    .dataframe thead th {\n",
       "        text-align: right;\n",
       "    }\n",
       "</style>\n",
       "<table border=\"1\" class=\"dataframe\">\n",
       "  <thead>\n",
       "    <tr style=\"text-align: right;\">\n",
       "      <th></th>\n",
       "      <th>surgery?</th>\n",
       "      <th>temperature of extremities</th>\n",
       "      <th>peripheral pulse</th>\n",
       "      <th>mucous membranes</th>\n",
       "      <th>capillary refill time</th>\n",
       "      <th>pain</th>\n",
       "      <th>abdominal distension</th>\n",
       "      <th>packed cell volume</th>\n",
       "      <th>total protein</th>\n",
       "      <th>outcome</th>\n",
       "      <th>surgical lesion?</th>\n",
       "      <th>type of lesion</th>\n",
       "    </tr>\n",
       "    <tr>\n",
       "      <th>Hospital Number</th>\n",
       "      <th></th>\n",
       "      <th></th>\n",
       "      <th></th>\n",
       "      <th></th>\n",
       "      <th></th>\n",
       "      <th></th>\n",
       "      <th></th>\n",
       "      <th></th>\n",
       "      <th></th>\n",
       "      <th></th>\n",
       "      <th></th>\n",
       "      <th></th>\n",
       "    </tr>\n",
       "  </thead>\n",
       "  <tbody>\n",
       "    <tr>\n",
       "      <th>5291329</th>\n",
       "      <td>2.0</td>\n",
       "      <td>1.0</td>\n",
       "      <td>1.0</td>\n",
       "      <td>2.0</td>\n",
       "      <td>1.0</td>\n",
       "      <td>1.0</td>\n",
       "      <td>2.0</td>\n",
       "      <td>37.0</td>\n",
       "      <td>6.1</td>\n",
       "      <td>2.0</td>\n",
       "      <td>2</td>\n",
       "      <td>0</td>\n",
       "    </tr>\n",
       "    <tr>\n",
       "      <th>526802</th>\n",
       "      <td>1.0</td>\n",
       "      <td>1.0</td>\n",
       "      <td>1.0</td>\n",
       "      <td>1.0</td>\n",
       "      <td>1.0</td>\n",
       "      <td>3.0</td>\n",
       "      <td>3.0</td>\n",
       "      <td>37.0</td>\n",
       "      <td>7.0</td>\n",
       "      <td>1.0</td>\n",
       "      <td>1</td>\n",
       "      <td>3124</td>\n",
       "    </tr>\n",
       "    <tr>\n",
       "      <th>529849</th>\n",
       "      <td>1.0</td>\n",
       "      <td>1.0</td>\n",
       "      <td>3.0</td>\n",
       "      <td>2.0</td>\n",
       "      <td>2.0</td>\n",
       "      <td>2.0</td>\n",
       "      <td>3.0</td>\n",
       "      <td>40.0</td>\n",
       "      <td>4.5</td>\n",
       "      <td>1.0</td>\n",
       "      <td>1</td>\n",
       "      <td>5206</td>\n",
       "    </tr>\n",
       "  </tbody>\n",
       "</table>\n",
       "</div>"
      ],
      "text/plain": [
       "                 surgery?  temperature of extremities  peripheral pulse  \\\n",
       "Hospital Number                                                           \n",
       "5291329               2.0                         1.0               1.0   \n",
       "526802                1.0                         1.0               1.0   \n",
       "529849                1.0                         1.0               3.0   \n",
       "\n",
       "                 mucous membranes  capillary refill time  pain  \\\n",
       "Hospital Number                                                  \n",
       "5291329                       2.0                    1.0   1.0   \n",
       "526802                        1.0                    1.0   3.0   \n",
       "529849                        2.0                    2.0   2.0   \n",
       "\n",
       "                 abdominal distension  packed cell volume  total protein  \\\n",
       "Hospital Number                                                            \n",
       "5291329                           2.0                37.0            6.1   \n",
       "526802                            3.0                37.0            7.0   \n",
       "529849                            3.0                40.0            4.5   \n",
       "\n",
       "                 outcome  surgical lesion?  type of lesion  \n",
       "Hospital Number                                             \n",
       "5291329              2.0                 2               0  \n",
       "526802               1.0                 1            3124  \n",
       "529849               1.0                 1            5206  "
      ]
     },
     "execution_count": 67,
     "metadata": {},
     "output_type": "execute_result"
    }
   ],
   "source": [
    "# Для погибших и умерщвленных лошадей пропуски заменяем значением 3, а для выживших значением 2. \n",
    "# Для выживших это не совсем корректно, но картину особо не исказит\n",
    "df.loc[(df['outcome'] == 1) & (df[column].isnull() == True),column] = 2\n",
    "df.loc[(df['outcome'] >= 2) & (df[column].isnull() == True),column] = 3\n",
    "df.sample(3)"
   ]
  },
  {
   "cell_type": "code",
   "execution_count": 68,
   "metadata": {},
   "outputs": [
    {
     "name": "stdout",
     "output_type": "stream",
     "text": [
      "packed cell volume\n",
      "              mean  median  count   min   max\n",
      "outcome                                      \n",
      "1.0      42.882353    43.0    153  23.0  69.0\n",
      "2.0      53.200000    54.0     65  33.0  75.0\n",
      "3.0      51.545455    52.0     33  31.0  75.0\n",
      "-  -  -  -  -  -  -  -  -  -  -  -  -  -  -  -  -  -  -  -  \n",
      "количество пропусков: 15\n"
     ]
    }
   ],
   "source": [
    "# Изучим параметр packed cell volume\n",
    "# - linear\n",
    "# - the # of red cells by volume in the blood\n",
    "# - normal range is 30 to 50. The level rises as the circulation becomes compromised or\n",
    "# as the animal becomes dehydrated.\n",
    "\n",
    "column = 'packed cell volume'\n",
    "print(column)\n",
    "print(df.groupby('outcome')[column].agg(['mean','median', 'count', 'min', 'max' ]))\n",
    "print('-  '*20)\n",
    "print(f'количество пропусков: {len(df[df[column].isnull() == True])}')"
   ]
  },
  {
   "cell_type": "code",
   "execution_count": 69,
   "metadata": {},
   "outputs": [
    {
     "data": {
      "text/plain": [
       "<matplotlib.axes._subplots.AxesSubplot at 0x1f19619e388>"
      ]
     },
     "execution_count": 69,
     "metadata": {},
     "output_type": "execute_result"
    },
    {
     "data": {
      "image/png": "[encoded data removed]",
      "text/plain": [
       "<Figure size 432x288 with 1 Axes>"
      ]
     },
     "metadata": {
      "needs_background": "light"
     },
     "output_type": "display_data"
    }
   ],
   "source": [
    "df[df['outcome'] == 1][column].hist(bins = 15)"
   ]
  },
  {
   "cell_type": "code",
   "execution_count": 70,
   "metadata": {},
   "outputs": [
    {
     "data": {
      "text/plain": [
       "<matplotlib.axes._subplots.AxesSubplot at 0x1f196218ac8>"
      ]
     },
     "execution_count": 70,
     "metadata": {},
     "output_type": "execute_result"
    },
    {
     "data": {
      "image/png": "[encoded data removed]",
      "text/plain": [
       "<Figure size 432x288 with 1 Axes>"
      ]
     },
     "metadata": {
      "needs_background": "light"
     },
     "output_type": "display_data"
    }
   ],
   "source": [
    "df[df['outcome'] == 2][column].hist(bins = 15)"
   ]
  },
  {
   "cell_type": "code",
   "execution_count": 71,
   "metadata": {},
   "outputs": [
    {
     "data": {
      "text/plain": [
       "<matplotlib.axes._subplots.AxesSubplot at 0x1f1962af448>"
      ]
     },
     "execution_count": 71,
     "metadata": {},
     "output_type": "execute_result"
    },
    {
     "data": {
      "image/png": "[encoded data removed]",
      "text/plain": [
       "<Figure size 432x288 with 1 Axes>"
      ]
     },
     "metadata": {
      "needs_background": "light"
     },
     "output_type": "display_data"
    }
   ],
   "source": [
    "df[df['outcome'] == 3][column].hist(bins = 15)"
   ]
  },
  {
   "cell_type": "code",
   "execution_count": 72,
   "metadata": {},
   "outputs": [],
   "source": [
    "# каких-то глобальных инсайтов данные по гематокриту не дают, поэтому просто заполним пропуски\n",
    "# тут для всех групп очень близки среднее и медианное значения, поэтому медианой и заполним (она круглая)\n",
    "df[column].fillna(df.groupby('outcome')[column].transform('median'), inplace = True)"
   ]
  },
  {
   "cell_type": "code",
   "execution_count": 73,
   "metadata": {},
   "outputs": [
    {
     "data": {
      "text/plain": [
       "False    267\n",
       "Name: packed cell volume, dtype: int64"
      ]
     },
     "execution_count": 73,
     "metadata": {},
     "output_type": "execute_result"
    }
   ],
   "source": [
    "df[column].isnull().value_counts()"
   ]
  },
  {
   "cell_type": "code",
   "execution_count": 74,
   "metadata": {},
   "outputs": [
    {
     "data": {
      "text/html": [
       "<div>\n",
       "<style scoped>\n",
       "    .dataframe tbody tr th:only-of-type {\n",
       "        vertical-align: middle;\n",
       "    }\n",
       "\n",
       "    .dataframe tbody tr th {\n",
       "        vertical-align: top;\n",
       "    }\n",
       "\n",
       "    .dataframe thead th {\n",
       "        text-align: right;\n",
       "    }\n",
       "</style>\n",
       "<table border=\"1\" class=\"dataframe\">\n",
       "  <thead>\n",
       "    <tr style=\"text-align: right;\">\n",
       "      <th></th>\n",
       "      <th>surgery?</th>\n",
       "      <th>temperature of extremities</th>\n",
       "      <th>peripheral pulse</th>\n",
       "      <th>mucous membranes</th>\n",
       "      <th>capillary refill time</th>\n",
       "      <th>pain</th>\n",
       "      <th>abdominal distension</th>\n",
       "      <th>packed cell volume</th>\n",
       "      <th>total protein</th>\n",
       "      <th>outcome</th>\n",
       "      <th>surgical lesion?</th>\n",
       "      <th>type of lesion</th>\n",
       "    </tr>\n",
       "    <tr>\n",
       "      <th>Hospital Number</th>\n",
       "      <th></th>\n",
       "      <th></th>\n",
       "      <th></th>\n",
       "      <th></th>\n",
       "      <th></th>\n",
       "      <th></th>\n",
       "      <th></th>\n",
       "      <th></th>\n",
       "      <th></th>\n",
       "      <th></th>\n",
       "      <th></th>\n",
       "      <th></th>\n",
       "    </tr>\n",
       "  </thead>\n",
       "  <tbody>\n",
       "    <tr>\n",
       "      <th>530526</th>\n",
       "      <td>1.0</td>\n",
       "      <td>4.0</td>\n",
       "      <td>3.0</td>\n",
       "      <td>3.0</td>\n",
       "      <td>2.0</td>\n",
       "      <td>3.0</td>\n",
       "      <td>3.0</td>\n",
       "      <td>43.0</td>\n",
       "      <td>7.0</td>\n",
       "      <td>1.0</td>\n",
       "      <td>1</td>\n",
       "      <td>3111</td>\n",
       "    </tr>\n",
       "    <tr>\n",
       "      <th>534857</th>\n",
       "      <td>2.0</td>\n",
       "      <td>1.0</td>\n",
       "      <td>1.0</td>\n",
       "      <td>2.0</td>\n",
       "      <td>1.0</td>\n",
       "      <td>2.0</td>\n",
       "      <td>1.0</td>\n",
       "      <td>44.0</td>\n",
       "      <td>68.0</td>\n",
       "      <td>1.0</td>\n",
       "      <td>2</td>\n",
       "      <td>0</td>\n",
       "    </tr>\n",
       "    <tr>\n",
       "      <th>534324</th>\n",
       "      <td>1.0</td>\n",
       "      <td>1.0</td>\n",
       "      <td>1.0</td>\n",
       "      <td>1.0</td>\n",
       "      <td>1.0</td>\n",
       "      <td>1.0</td>\n",
       "      <td>4.0</td>\n",
       "      <td>43.0</td>\n",
       "      <td>NaN</td>\n",
       "      <td>1.0</td>\n",
       "      <td>1</td>\n",
       "      <td>3111</td>\n",
       "    </tr>\n",
       "  </tbody>\n",
       "</table>\n",
       "</div>"
      ],
      "text/plain": [
       "                 surgery?  temperature of extremities  peripheral pulse  \\\n",
       "Hospital Number                                                           \n",
       "530526                1.0                         4.0               3.0   \n",
       "534857                2.0                         1.0               1.0   \n",
       "534324                1.0                         1.0               1.0   \n",
       "\n",
       "                 mucous membranes  capillary refill time  pain  \\\n",
       "Hospital Number                                                  \n",
       "530526                        3.0                    2.0   3.0   \n",
       "534857                        2.0                    1.0   2.0   \n",
       "534324                        1.0                    1.0   1.0   \n",
       "\n",
       "                 abdominal distension  packed cell volume  total protein  \\\n",
       "Hospital Number                                                            \n",
       "530526                            3.0                43.0            7.0   \n",
       "534857                            1.0                44.0           68.0   \n",
       "534324                            4.0                43.0            NaN   \n",
       "\n",
       "                 outcome  surgical lesion?  type of lesion  \n",
       "Hospital Number                                             \n",
       "530526               1.0                 1            3111  \n",
       "534857               1.0                 2               0  \n",
       "534324               1.0                 1            3111  "
      ]
     },
     "execution_count": 74,
     "metadata": {},
     "output_type": "execute_result"
    }
   ],
   "source": [
    "df.sample(3)"
   ]
  },
  {
   "cell_type": "code",
   "execution_count": 75,
   "metadata": {},
   "outputs": [
    {
     "name": "stdout",
     "output_type": "stream",
     "text": [
      "total protein\n",
      "              mean  median  count  min   max\n",
      "outcome                                     \n",
      "1.0      27.690196     7.5    153  4.5  81.0\n",
      "2.0       6.793443     6.8     61  3.3   9.0\n",
      "3.0      42.103030    57.0     33  5.5  89.0\n",
      "-  -  -  -  -  -  -  -  -  -  -  -  -  -  -  -  -  -  -  -  \n",
      "количество пропусков: 19\n"
     ]
    }
   ],
   "source": [
    "# изучим параметр total protein, общий белок крови\n",
    "# - linear\n",
    "# - normal values lie in the 6-7.5 (gms/dL) range\n",
    "# - the higher the value the greater the dehydration\n",
    "column = 'total protein'\n",
    "print(column)\n",
    "print(df.groupby('outcome')[column].agg(['mean','median', 'count', 'min', 'max' ]))\n",
    "print('-  '*20)\n",
    "print(f'количество пропусков: {len(df[df[column].isnull() == True])}')"
   ]
  },
  {
   "cell_type": "code",
   "execution_count": 108,
   "metadata": {},
   "outputs": [
    {
     "data": {
      "text/plain": [
       "<matplotlib.axes._subplots.AxesSubplot at 0x1f1986def08>"
      ]
     },
     "execution_count": 108,
     "metadata": {},
     "output_type": "execute_result"
    },
    {
     "data": {
      "image/png": "[encoded data removed]",
      "text/plain": [
       "<Figure size 1080x360 with 3 Axes>"
      ]
     },
     "metadata": {
      "needs_background": "light"
     },
     "output_type": "display_data"
    },
    {
     "data": {
      "text/plain": [
       "<Figure size 720x360 with 0 Axes>"
      ]
     },
     "metadata": {},
     "output_type": "display_data"
    }
   ],
   "source": [
    "fig, axs = plt.subplots(1,3)\n",
    "plt.figure(figsize = (10,5))\n",
    "df[df['outcome'] == 1][column].plot(kind = 'hist', legend = True, ax = axs[0], y = 'outcome = 1', figsize = (15,5))\n",
    "df[df['outcome'] == 2][column].plot(kind = 'hist', legend = True, ax = axs[1])\n",
    "df[df['outcome'] == 3][column].plot(kind = 'hist', legend = True, ax = axs[2])"
   ]
  },
  {
   "cell_type": "code",
   "execution_count": 109,
   "metadata": {},
   "outputs": [],
   "source": [
    "# на мой непрофессиональный взгляд, в этих данных либо полно ошибок, либо они представлены в разных единицах измерения.\n",
    "# В любом случае, они не дают возможности делать хоть какие-то выводы, поэтому удаляем их"
   ]
  },
  {
   "cell_type": "code",
   "execution_count": null,
   "metadata": {
    "scrolled": true
   },
   "outputs": [],
   "source": [
    "df.drop(column, axis =1, inplace = True)"
   ]
  },
  {
   "cell_type": "code",
   "execution_count": 113,
   "metadata": {},
   "outputs": [
    {
     "data": {
      "text/html": [
       "<div>\n",
       "<style scoped>\n",
       "    .dataframe tbody tr th:only-of-type {\n",
       "        vertical-align: middle;\n",
       "    }\n",
       "\n",
       "    .dataframe tbody tr th {\n",
       "        vertical-align: top;\n",
       "    }\n",
       "\n",
       "    .dataframe thead th {\n",
       "        text-align: right;\n",
       "    }\n",
       "</style>\n",
       "<table border=\"1\" class=\"dataframe\">\n",
       "  <thead>\n",
       "    <tr style=\"text-align: right;\">\n",
       "      <th></th>\n",
       "      <th>surgery?</th>\n",
       "      <th>temperature of extremities</th>\n",
       "      <th>peripheral pulse</th>\n",
       "      <th>mucous membranes</th>\n",
       "      <th>capillary refill time</th>\n",
       "      <th>pain</th>\n",
       "      <th>abdominal distension</th>\n",
       "      <th>packed cell volume</th>\n",
       "      <th>outcome</th>\n",
       "      <th>surgical lesion?</th>\n",
       "      <th>type of lesion</th>\n",
       "    </tr>\n",
       "    <tr>\n",
       "      <th>Hospital Number</th>\n",
       "      <th></th>\n",
       "      <th></th>\n",
       "      <th></th>\n",
       "      <th></th>\n",
       "      <th></th>\n",
       "      <th></th>\n",
       "      <th></th>\n",
       "      <th></th>\n",
       "      <th></th>\n",
       "      <th></th>\n",
       "      <th></th>\n",
       "    </tr>\n",
       "  </thead>\n",
       "  <tbody>\n",
       "    <tr>\n",
       "      <th>528523</th>\n",
       "      <td>1.0</td>\n",
       "      <td>1.0</td>\n",
       "      <td>1.0</td>\n",
       "      <td>5.0</td>\n",
       "      <td>2.0</td>\n",
       "      <td>3.0</td>\n",
       "      <td>2.0</td>\n",
       "      <td>50.0</td>\n",
       "      <td>1.0</td>\n",
       "      <td>1</td>\n",
       "      <td>2208</td>\n",
       "    </tr>\n",
       "    <tr>\n",
       "      <th>528890</th>\n",
       "      <td>1.0</td>\n",
       "      <td>3.0</td>\n",
       "      <td>3.0</td>\n",
       "      <td>3.0</td>\n",
       "      <td>1.0</td>\n",
       "      <td>2.0</td>\n",
       "      <td>3.0</td>\n",
       "      <td>54.0</td>\n",
       "      <td>2.0</td>\n",
       "      <td>1</td>\n",
       "      <td>7111</td>\n",
       "    </tr>\n",
       "    <tr>\n",
       "      <th>534324</th>\n",
       "      <td>1.0</td>\n",
       "      <td>1.0</td>\n",
       "      <td>1.0</td>\n",
       "      <td>1.0</td>\n",
       "      <td>1.0</td>\n",
       "      <td>1.0</td>\n",
       "      <td>4.0</td>\n",
       "      <td>43.0</td>\n",
       "      <td>1.0</td>\n",
       "      <td>1</td>\n",
       "      <td>3111</td>\n",
       "    </tr>\n",
       "  </tbody>\n",
       "</table>\n",
       "</div>"
      ],
      "text/plain": [
       "                 surgery?  temperature of extremities  peripheral pulse  \\\n",
       "Hospital Number                                                           \n",
       "528523                1.0                         1.0               1.0   \n",
       "528890                1.0                         3.0               3.0   \n",
       "534324                1.0                         1.0               1.0   \n",
       "\n",
       "                 mucous membranes  capillary refill time  pain  \\\n",
       "Hospital Number                                                  \n",
       "528523                        5.0                    2.0   3.0   \n",
       "528890                        3.0                    1.0   2.0   \n",
       "534324                        1.0                    1.0   1.0   \n",
       "\n",
       "                 abdominal distension  packed cell volume  outcome  \\\n",
       "Hospital Number                                                      \n",
       "528523                            2.0                50.0      1.0   \n",
       "528890                            3.0                54.0      2.0   \n",
       "534324                            4.0                43.0      1.0   \n",
       "\n",
       "                 surgical lesion?  type of lesion  \n",
       "Hospital Number                                    \n",
       "528523                          1            2208  \n",
       "528890                          1            7111  \n",
       "534324                          1            3111  "
      ]
     },
     "execution_count": 113,
     "metadata": {},
     "output_type": "execute_result"
    }
   ],
   "source": [
    "df.sample(3)"
   ]
  },
  {
   "cell_type": "code",
   "execution_count": 130,
   "metadata": {},
   "outputs": [
    {
     "data": {
      "text/html": [
       "<div>\n",
       "<style scoped>\n",
       "    .dataframe tbody tr th:only-of-type {\n",
       "        vertical-align: middle;\n",
       "    }\n",
       "\n",
       "    .dataframe tbody tr th {\n",
       "        vertical-align: top;\n",
       "    }\n",
       "\n",
       "    .dataframe thead th {\n",
       "        text-align: right;\n",
       "    }\n",
       "</style>\n",
       "<table border=\"1\" class=\"dataframe\">\n",
       "  <thead>\n",
       "    <tr style=\"text-align: right;\">\n",
       "      <th></th>\n",
       "      <th>surgery?</th>\n",
       "      <th>temperature of extremities</th>\n",
       "      <th>peripheral pulse</th>\n",
       "      <th>mucous membranes</th>\n",
       "      <th>capillary refill time</th>\n",
       "      <th>pain</th>\n",
       "      <th>abdominal distension</th>\n",
       "      <th>packed cell volume</th>\n",
       "      <th>outcome</th>\n",
       "      <th>surgical lesion?</th>\n",
       "      <th>type of lesion</th>\n",
       "    </tr>\n",
       "    <tr>\n",
       "      <th>Hospital Number</th>\n",
       "      <th></th>\n",
       "      <th></th>\n",
       "      <th></th>\n",
       "      <th></th>\n",
       "      <th></th>\n",
       "      <th></th>\n",
       "      <th></th>\n",
       "      <th></th>\n",
       "      <th></th>\n",
       "      <th></th>\n",
       "      <th></th>\n",
       "    </tr>\n",
       "  </thead>\n",
       "  <tbody>\n",
       "    <tr>\n",
       "      <th>534572</th>\n",
       "      <td>NaN</td>\n",
       "      <td>3.0</td>\n",
       "      <td>1.0</td>\n",
       "      <td>3.0</td>\n",
       "      <td>1.0</td>\n",
       "      <td>4.0</td>\n",
       "      <td>1.0</td>\n",
       "      <td>43.0</td>\n",
       "      <td>NaN</td>\n",
       "      <td>1</td>\n",
       "      <td>3111</td>\n",
       "    </tr>\n",
       "  </tbody>\n",
       "</table>\n",
       "</div>"
      ],
      "text/plain": [
       "                 surgery?  temperature of extremities  peripheral pulse  \\\n",
       "Hospital Number                                                           \n",
       "534572                NaN                         3.0               1.0   \n",
       "\n",
       "                 mucous membranes  capillary refill time  pain  \\\n",
       "Hospital Number                                                  \n",
       "534572                        3.0                    1.0   4.0   \n",
       "\n",
       "                 abdominal distension  packed cell volume  outcome  \\\n",
       "Hospital Number                                                      \n",
       "534572                            1.0                43.0      NaN   \n",
       "\n",
       "                 surgical lesion?  type of lesion  \n",
       "Hospital Number                                    \n",
       "534572                          1            3111  "
      ]
     },
     "execution_count": 130,
     "metadata": {},
     "output_type": "execute_result"
    }
   ],
   "source": [
    "# Найдем строку, в которой не указан исход для лошади и удалим ее\n",
    "df.loc[df['outcome'].isnull() == True]"
   ]
  },
  {
   "cell_type": "code",
   "execution_count": 141,
   "metadata": {},
   "outputs": [],
   "source": [
    "df.drop(534572, inplace = True)"
   ]
  },
  {
   "cell_type": "code",
   "execution_count": 144,
   "metadata": {},
   "outputs": [
    {
     "data": {
      "text/plain": [
       "False    266\n",
       "Name: surgical lesion?, dtype: int64"
      ]
     },
     "execution_count": 144,
     "metadata": {},
     "output_type": "execute_result"
    }
   ],
   "source": [
    "df['surgical lesion?'].isnull().value_counts()"
   ]
  },
  {
   "cell_type": "code",
   "execution_count": 145,
   "metadata": {},
   "outputs": [
    {
     "data": {
      "text/plain": [
       "False    266\n",
       "Name: type of lesion, dtype: int64"
      ]
     },
     "execution_count": 145,
     "metadata": {},
     "output_type": "execute_result"
    }
   ],
   "source": [
    "df['type of lesion'].isnull().value_counts()"
   ]
  },
  {
   "cell_type": "code",
   "execution_count": 147,
   "metadata": {},
   "outputs": [
    {
     "data": {
      "text/plain": [
       "<matplotlib.axes._subplots.AxesSubplot at 0x1f198e4ebc8>"
      ]
     },
     "execution_count": 147,
     "metadata": {},
     "output_type": "execute_result"
    },
    {
     "data": {
      "image/png": "[encoded data removed]",
      "text/plain": [
       "<Figure size 432x288 with 1 Axes>"
      ]
     },
     "metadata": {
      "needs_background": "light"
     },
     "output_type": "display_data"
    }
   ],
   "source": [
    "# Последний столбец с подробностями заболевания, наверное, самый интересный, но требует совсем уж специальных знаний\n",
    "# Его удалять не рискну, в виду важности, но и анализировать не возьмусь"
   ]
  }
 ],
 "metadata": {
  "kernelspec": {
   "display_name": "Python 3",
   "language": "python",
   "name": "python3"
  },
  "language_info": {
   "codemirror_mode": {
    "name": "ipython",
    "version": 3
   },
   "file_extension": ".py",
   "mimetype": "text/x-python",
   "name": "python",
   "nbconvert_exporter": "python",
   "pygments_lexer": "ipython3",
   "version": "3.7.6"
  }
 },
 "nbformat": 4,
 "nbformat_minor": 4
}
