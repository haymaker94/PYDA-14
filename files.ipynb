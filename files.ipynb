{
 "cells": [
  {
   "cell_type": "code",
   "execution_count": null,
   "metadata": {},
   "outputs": [],
   "source": [
    "#1. Переведите содержимое файла purchase_log.txt в словарь purchases вида:\n",
    "# {‘1840e0b9d4’: ‘Продукты’, …}\n",
    "#2. Для каждого user_id в файле visit_log.csv определите третий столбец с категорией покупки\n",
    "#(если покупка была, сам файл visit_log.csv изменять не надо). \n",
    "#Запишите в файл funnel.csv визиты из файла visit_log.csv, в которых были покупки с указанием категории.\n",
    "# Учтите условия на данные:\n",
    "# содержимое purchase_log.txt помещается в оперативную память компьютера\n",
    "# содержимое visit_log.csv - нет; используйте только построчную обработку этого файла"
   ]
  },
  {
   "cell_type": "code",
   "execution_count": 50,
   "metadata": {},
   "outputs": [],
   "source": [
    "import json\n",
    "f = open('purchase_log.txt', 'r', encoding = 'utf-8')\n",
    "purchases = {}\n",
    "for line in f:\n",
    "    entry = json.loads(line)\n",
    "    purchases[entry['user_id']]=entry['category']\n",
    "visits = open('visit_log.csv', 'r', encoding = 'utf-8')\n",
    "funnel = open('funnel.csv', 'w', encoding = 'utf-8')\n",
    "for i, line in enumerate(visits):\n",
    "    adv_entry = line.split(',')\n",
    "    if adv_entry[0] in purchases.keys():\n",
    "        adv_entry.append(purchases[adv_entry[0]])\n",
    "        if len(adv_entry) == 3:\n",
    "            funnel.write(f'Юзер: {adv_entry[0]}, Товарная категория: {adv_entry[2]}, Рекламный канал: {adv_entry[1].strip()}\\n')\n",
    "            \n",
    "    if i == 500:\n",
    "        break\n",
    "funnel.close()\n",
    "    "
   ]
  }
 ],
 "metadata": {
  "kernelspec": {
   "display_name": "Python 3",
   "language": "python",
   "name": "python3"
  },
  "language_info": {
   "codemirror_mode": {
    "name": "ipython",
    "version": 3
   },
   "file_extension": ".py",
   "mimetype": "text/x-python",
   "name": "python",
   "nbconvert_exporter": "python",
   "pygments_lexer": "ipython3",
   "version": "3.7.6"
  }
 },
 "nbformat": 4,
 "nbformat_minor": 4
}
