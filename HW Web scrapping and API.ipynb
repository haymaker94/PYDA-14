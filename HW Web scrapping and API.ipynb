{
 "cells": [
  {
   "cell_type": "markdown",
   "metadata": {},
   "source": [
    "Домашнее задание к лекции \"Основы веб-скрапинга и работы с API\"\n",
    "Задание 1.\n",
    "Обязательная часть\n",
    "Будем парсить страницу со свежеми новостям на habr.com/ru/all/.\n",
    "\n",
    "Вам необходимо собирать только те статьи, в которых встречается хотя бы одно требуемое ключевое слово. Эти слова определяем в начале кода в переменной, например:\n",
    "\n",
    "KEYWORDS = ['python', 'парсинг']\n",
    "\n",
    "Поиск вести по всей доступной preview-информации (это информация, доступная непосредственно с текущей страницы).\n",
    "\n",
    "В итоге должен формироваться датафрейм вида: <дата> - <заголовок> - <ссылка>\n",
    "\n",
    "Дополнительная часть (необязательная)\n",
    "Улучшить скрипт так, чтобы он анализировал не только preview-информацию статьи, но и весь текст статьи целиком.\n",
    "\n",
    "Для этого потребуется получать страницы статей и искать по тексту внутри этой страницы.\n",
    "\n",
    "Итоговый датафрейм формировать со столбцами: <дата> - <заголовок> - <ссылка> - <текст_статьи>"
   ]
  },
  {
   "cell_type": "code",
   "execution_count": 38,
   "metadata": {},
   "outputs": [],
   "source": [
    "import requests\n",
    "from bs4 import BeautifulSoup\n",
    "import pandas as pd\n",
    "KEYWORDS = ['python', 'парсинг']\n",
    "URL = 'https://habr.com/ru/search/?'\n"
   ]
  },
  {
   "cell_type": "code",
   "execution_count": 42,
   "metadata": {
    "scrolled": true
   },
   "outputs": [
    {
     "data": {
      "text/html": [
       "<div>\n",
       "<style scoped>\n",
       "    .dataframe tbody tr th:only-of-type {\n",
       "        vertical-align: middle;\n",
       "    }\n",
       "\n",
       "    .dataframe tbody tr th {\n",
       "        vertical-align: top;\n",
       "    }\n",
       "\n",
       "    .dataframe thead th {\n",
       "        text-align: right;\n",
       "    }\n",
       "</style>\n",
       "<table border=\"1\" class=\"dataframe\">\n",
       "  <thead>\n",
       "    <tr style=\"text-align: right;\">\n",
       "      <th></th>\n",
       "      <th>время</th>\n",
       "      <th>заголовок</th>\n",
       "      <th>ссылка</th>\n",
       "      <th>текст</th>\n",
       "    </tr>\n",
       "  </thead>\n",
       "  <tbody>\n",
       "    <tr>\n",
       "      <th>0</th>\n",
       "      <td>21 апреля 2020 в 18:35</td>\n",
       "      <td>Вышел Python 2.7.18, последний релиз ветки Pyt...</td>\n",
       "      <td>https://habr.com/ru/news/t/498364/#habracut</td>\n",
       "      <td>&lt;!DOCTYPE html&gt;\\n&lt;html lang=\"ru\" class=\"no-js\"...</td>\n",
       "    </tr>\n",
       "    <tr>\n",
       "      <th>1</th>\n",
       "      <td>3 апреля 2019 в 15:21</td>\n",
       "      <td>Правда про парсинг сайтов, или «все интернет-м...</td>\n",
       "      <td>https://habr.com/ru/post/446488/#habracut</td>\n",
       "      <td>&lt;!DOCTYPE html&gt;\\n&lt;html lang=\"ru\" class=\"no-js\"...</td>\n",
       "    </tr>\n",
       "  </tbody>\n",
       "</table>\n",
       "</div>"
      ],
      "text/plain": [
       "                    время                                          заголовок  \\\n",
       "0  21 апреля 2020 в 18:35  Вышел Python 2.7.18, последний релиз ветки Pyt...   \n",
       "1   3 апреля 2019 в 15:21  Правда про парсинг сайтов, или «все интернет-м...   \n",
       "\n",
       "                                        ссылка  \\\n",
       "0  https://habr.com/ru/news/t/498364/#habracut   \n",
       "1    https://habr.com/ru/post/446488/#habracut   \n",
       "\n",
       "                                               текст  \n",
       "0  <!DOCTYPE html>\\n<html lang=\"ru\" class=\"no-js\"...  \n",
       "1  <!DOCTYPE html>\\n<html lang=\"ru\" class=\"no-js\"...  "
      ]
     },
     "execution_count": 42,
     "metadata": {},
     "output_type": "execute_result"
    }
   ],
   "source": [
    "post_times = []\n",
    "post_titles = []\n",
    "post_links = []\n",
    "post_body = []\n",
    "for keyword in KEYWORDS:\n",
    "    params = {\n",
    "        'q':keyword\n",
    "    }\n",
    "    req = requests.get(URL, params)\n",
    "    soup = BeautifulSoup(req.text, 'html.parser')\n",
    "    posts = soup.find_all('article', class_='post')\n",
    "    for post in posts:\n",
    "        post_times.append(post.find('span', class_='post__time').text)\n",
    "        post_titles.append(post.find('h2', class_='post__title').text)\n",
    "        post_links.append(post.find('a', class_='btn').get('href'))\n",
    "        req2 = requests.get(post.find('a', class_='btn').get('href'))\n",
    "        content = BeautifulSoup(req2.text, 'html.parser')\n",
    "        post_body.append(content.find('div', class_ = 'post__text'))\n",
    "        break\n",
    "post_titles = list(map(lambda x: x.strip(), post_titles))\n",
    "articles = pd.DataFrame({'время':post_times, 'заголовок':post_titles, 'ссылка':post_links, 'текст': post_body})\n",
    "articles"
   ]
  },
  {
   "cell_type": "code",
   "execution_count": 52,
   "metadata": {},
   "outputs": [
    {
     "data": {
      "text/plain": [
       "'20 апреля 2020 года, спустя почти десять лет после выхода Python 2.7, выпущен «на волю» Python версии 2.7.18. Это последний релиз ветки Python 2.x, поддерживаемый параллельно с веткой 3.x. \\n\\r\\nСо вчерашнего дня и далее ветка Python 2.х обновляться больше не будет. Всем разработчикам и пользователям рекомендуется перейти на Python 3.\\n\\r\\nPython 2.7 вышел 3 июля 2010, а релиз Python 3.0 состоялся 3 декабря 2008 года. Изначально в организации Python Software Foundation планировали, что ветка 3.х в течение 5 лет получит должное распространение. Но этого не произошло из-за продолжения поддержки версии 2.7 и отсутствия у разработчиков интереса к ветке Python 3, которая не содержала кардинальных прорывных улучшений. \\n\\r\\nПоэтому автор языка и руководитель проекта внес изменения в регламент поддержки Python 2.7, продлив жизненный цикл ветки 2.х до 10 лет сделав «Extend Python 2.7 life till 2020», причем с пометкой: «There will be no Python 2.8». \\n\\r\\nИ вот, это дата настала. История Python 2.х подошла к концу, хотя над устранением уязвимостей в Python 2.х будут продолжены работы, правда уже не разработчиками проекта CPython, а представителями сообществ, заинтересованными в продолжении поддержки данной ветки в своих продуктах, например, это будет делаться в Red Hat.'"
      ]
     },
     "execution_count": 52,
     "metadata": {},
     "output_type": "execute_result"
    }
   ],
   "source": [
    "req = requests.get('https://habr.com/ru/news/t/498364/#habracut')\n",
    "content = BeautifulSoup(req.text, 'html.parser')\n",
    "core = content.find('div', class_ = 'post__text')\n",
    "core.text.strip()"
   ]
  },
  {
   "cell_type": "markdown",
   "metadata": {},
   "source": [
    "Задание 2.\n",
    "Обязательная часть\n",
    "Написать скрипт, который будет проверять список e-mail адресов на утечку при помощи сервиса Avast Hack Ckeck. Список email-ов задаем переменной в начале кода:\n",
    "EMAIL = [xxx@x.ru, yyy@y.com]\n",
    "\n",
    "В итоге должен формироваться датафрейм со столбцами: <почта> - <дата утечки> - <источник утечки> - <описание утечки>\n",
    "\n",
    "Подсказка: сервис работает при помощи \"скрытого\" API. Внимательно изучите post-запросы.\n",
    "\n",
    "Дополнительная часть (необязательная)\n",
    "Написать скрипт, который будет получать 50 последних постов указанной группы во Вконтакте.\n",
    "Документация к API VK: https://vk.com/dev/methods , вам поможет метод wall.get\n",
    "\n",
    "GROUP = 'netology'  \n",
    "TOKEN = УДАЛЯЙТЕ В ВЕРСИИ ДЛЯ ПРОВЕРКИ, НА GITHUB НЕ ВЫКЛАДЫВАТЬ\n",
    "В итоге должен формироваться датафрейм со столбцами: <дата поста> - <текст поста>"
   ]
  },
  {
   "cell_type": "code",
   "execution_count": null,
   "metadata": {},
   "outputs": [],
   "source": []
  },
  {
   "cell_type": "code",
   "execution_count": null,
   "metadata": {},
   "outputs": [],
   "source": []
  },
  {
   "cell_type": "code",
   "execution_count": null,
   "metadata": {},
   "outputs": [],
   "source": []
  }
 ],
 "metadata": {
  "kernelspec": {
   "display_name": "Python 3",
   "language": "python",
   "name": "python3"
  },
  "language_info": {
   "codemirror_mode": {
    "name": "ipython",
    "version": 3
   },
   "file_extension": ".py",
   "mimetype": "text/x-python",
   "name": "python",
   "nbconvert_exporter": "python",
   "pygments_lexer": "ipython3",
   "version": "3.7.6"
  }
 },
 "nbformat": 4,
 "nbformat_minor": 4
}
