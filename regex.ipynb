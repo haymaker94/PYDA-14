{
 "cells": [
  {
   "cell_type": "code",
   "execution_count": null,
   "metadata": {},
   "outputs": [],
   "source": [
    "# Задание 1\n",
    "# Напишите функцию, которая принимает на вход строку и проверяет является ли она валидным транспортным номером\n",
    "#(1 буква, 3 цифры, 2 буквы, 2-3 цифры). Обратите внимание, что не все буквы кириллического алфавита используются\n",
    "#в транспортных номерах.\n",
    "# Если номер валиден, то функция должна возвращать отдельно номер и регион.\n",
    "# Примеры работы программы:\n",
    "\n",
    "# car_id = 'A222BC96'\n",
    "# Результат: Номер A222BС валиден. Регион: 96\n",
    "\n",
    "# car_id = 'АБ22ВВ193'\n",
    "# Результат: Номер не валиден"
   ]
  },
  {
   "cell_type": "code",
   "execution_count": 46,
   "metadata": {},
   "outputs": [
    {
     "name": "stdout",
     "output_type": "stream",
     "text": [
      "Номер Ы222ВC96 левый\n"
     ]
    }
   ],
   "source": [
    "import re\n",
    "#licensePlate = input('Введите госномер: ')\n",
    "licensePlate = 'Ы222ВC96'\n",
    "symbols = 'АВЕКМНОРСТУХABEKMHOPCTYX'\n",
    "def validator():\n",
    "    plate = re.findall(r'(\\w)(\\d{3})(\\w\\w)(\\d{2,3})', licensePlate)\n",
    "    plateparts = [part for part in plate[0]]\n",
    "    rating = 0\n",
    "    if plateparts[0] in symbols:\n",
    "        rating += 1\n",
    "    if plateparts[1].isnumeric():\n",
    "        rating += 1\n",
    "    if plateparts[2][0] in symbols and plateparts[2][1] in symbols:\n",
    "        rating += 1\n",
    "    if plateparts[3].isnumeric() and int(plateparts[3])<200:\n",
    "        rating += 1\n",
    "    if rating == 4:\n",
    "        print(f'Номер {\"\".join(plateparts[0:3])} настоящий, регион {plateparts[3]}')\n",
    "    else:\n",
    "        print(f'Номер {\"\".join(plateparts)} левый')\n",
    "validator()"
   ]
  },
  {
   "cell_type": "code",
   "execution_count": 2,
   "metadata": {},
   "outputs": [],
   "source": [
    "# Задание 2 Напишите функцию, которая будет удалять все последовательные повторы слов из заданной строки\n",
    "# при помощи регулярных выражений.\n",
    "# Пример работы программы:\n",
    "some_string = 'Напишите функцию функцию, которая будет будет будет будет удалять все все все все последовательные повторы слов из из из из заданной строки строки при помощи регулярных выражений.'\n",
    "# Результат:\n",
    "# Напишите функцию, которая будет удалять все последовательные повторы слов из заданной строки при помощи регулярных выражений."
   ]
  },
  {
   "cell_type": "code",
   "execution_count": 6,
   "metadata": {},
   "outputs": [
    {
     "data": {
      "text/plain": [
       "'Напишите функцию, которая будет удалять все последовательные повторы слов из заданной строки при помощи регулярных выражений.'"
      ]
     },
     "execution_count": 6,
     "metadata": {},
     "output_type": "execute_result"
    }
   ],
   "source": [
    "import re\n",
    "re.sub(r'(\\s?\\w+.\\s?)\\1+', r'\\1', some_string)"
   ]
  },
  {
   "cell_type": "code",
   "execution_count": 21,
   "metadata": {},
   "outputs": [],
   "source": [
    "# Задание 3. Напишите функцию, которая будет возвращать акроним по переданной в нее строке со словами.\n",
    "# Примеры работы программы:\n",
    "#some_words = 'Информационные технологии'\n",
    "# Результат: ИТ\n",
    "some_words = 'near Field communication'\n",
    "# Результат: NFC"
   ]
  },
  {
   "cell_type": "code",
   "execution_count": 22,
   "metadata": {},
   "outputs": [
    {
     "name": "stdout",
     "output_type": "stream",
     "text": [
      "NFC\n"
     ]
    }
   ],
   "source": [
    "acronym = re.findall(r'\\b\\w', some_words)\n",
    "print(''.join(acronym).upper())"
   ]
  },
  {
   "cell_type": "code",
   "execution_count": 24,
   "metadata": {},
   "outputs": [],
   "source": [
    "# Задание 4. Напишите функцию, которая будет принимать на вход список email-адресов\n",
    "# и выводить их распределение по доменным зонам.\n",
    "# Пример работы программы:\n",
    "# emails = ['test@gmail.com', 'xyz@test.in', 'test@ya.ru', 'xyz@mail.ru', 'xyz@ya.ru', 'xyz@gmail.com']\n",
    "# Результат:\n",
    "# gmail.com: 2\n",
    "# test.in: 1 \n",
    "# ya.ru: 2 \n",
    "# mail.ru: 1"
   ]
  },
  {
   "cell_type": "code",
   "execution_count": 47,
   "metadata": {},
   "outputs": [
    {
     "name": "stdout",
     "output_type": "stream",
     "text": [
      "gmail.com: 2\n",
      "test.in: 1\n",
      "ya.ru: 2\n",
      "mail.ru: 1\n"
     ]
    }
   ],
   "source": [
    "emails = ['test@gmail.com', 'xyz@test.in', 'test@ya.ru', 'xyz@mail.ru', 'xyz@ya.ru', 'xyz@gmail.com']\n",
    "mailstr = ','.join(emails)\n",
    "domains = re.findall(r'@(\\w+\\.\\w+)',mailstr)\n",
    "domainstats ={}\n",
    "def domaincounter():\n",
    "    for domain in domains:\n",
    "        if domain in domainstats.keys():\n",
    "            domainstats[domain] +=1\n",
    "        else:\n",
    "            domainstats[domain] = 1\n",
    "    for domain in domainstats:\n",
    "        print (f'{domain}: {domainstats[domain]}')\n",
    "domaincounter()"
   ]
  },
  {
   "cell_type": "code",
   "execution_count": 49,
   "metadata": {},
   "outputs": [],
   "source": [
    "# Задание 5 (необязательное). Напишите функцию, которая будет подсчитывать сколько слов начинается на гласные,\n",
    "# а сколько на согласные буквы в тексте\n",
    "# (текст может быть написан как с использованием букв кириллицы, так и латиницы).\n",
    "# Пример работы программы:\n",
    "\n",
    "\n",
    "# Результат:\n",
    "# Слов на гласные буквы: 9\n",
    "# Слов на согласные буквы: 21"
   ]
  },
  {
   "cell_type": "code",
   "execution_count": 67,
   "metadata": {},
   "outputs": [
    {
     "name": "stdout",
     "output_type": "stream",
     "text": [
      "Слов на гласные буквы: 9 \n",
      "Слов на согласные буквы: 21\n"
     ]
    }
   ],
   "source": [
    "vows = 0\n",
    "cons = 0\n",
    "some_text = \"\"\"Эталонной реализацией Python является интерпретатор CPython, поддерживающий большинство активно\n",
    " используемых платформ. Он распространяется под свободной лицензией Python Software Foundation License,\n",
    " позволяющей использовать его без ограничений в любых приложениях, включая проприетарные.\"\"\"\n",
    "textDecomp = re.findall(r'\\w+',some_text)\n",
    "vow = 'аеиоуюэяёaeyuio'\n",
    "def letterStats():\n",
    "    vows = 0\n",
    "    cons = 0\n",
    "    for word in textDecomp:\n",
    "        if word[0].lower() in vow:\n",
    "            vows += 1\n",
    "        else:\n",
    "            cons += 1\n",
    "    print(f'Слов на гласные буквы: {vows} \\nСлов на согласные буквы: {cons}')\n",
    "letterStats()\n",
    "#print(textDecomp)"
   ]
  },
  {
   "cell_type": "code",
   "execution_count": 66,
   "metadata": {},
   "outputs": [],
   "source": [
    "# Задание 6 (необязательное). Напишите функцию, которая будет проверять номер сотового телефона на валидность (только для российского формата), если он валиден, то переводить его в формат:\n",
    "# +7-xxx-xxx-xx-xx\n",
    "# Постарайтесь предусмотреть как можно больше адекватных форматов изначального ввода номера. Примеры работы программы:\n",
    "# phone = '+7 955 555-55-55'\n",
    "# Результат: +7-950-555-55-55\n",
    "# phone = '8(955)555-55-55'\n",
    "# Результат: +7-950-555-55-55\n",
    "# phone = '+7 955 555 55 55'\n",
    "# Результат: +7-950-555-55-55\n",
    "# phone = '7(955) 555-55-55'\n",
    "# Результат: +7-950-555-55-55\n",
    "# phone = '423-555-55-5555'\n",
    "# Результат: Номер не валиден\n",
    "# phone = '123-456-789'\n",
    "# Результат: Номер не валиден"
   ]
  },
  {
   "cell_type": "code",
   "execution_count": 144,
   "metadata": {},
   "outputs": [
    {
     "name": "stdout",
     "output_type": "stream",
     "text": [
      "Результат: +7 925-890-13-08\n"
     ]
    }
   ],
   "source": [
    "phone = '8(925)8901308'\n",
    "def phoneVal():\n",
    "    phoneD = re.findall(r'\\d+',phone)\n",
    "    phoneDstr = ''.join(phoneD)\n",
    "    if len(phoneDstr) >= 10:\n",
    "        phonepattern = re.findall(r'(.*)(\\d\\d\\d)(\\d\\d\\d)(\\d\\d)(\\d\\d)$',phoneDstr)\n",
    "        if phonepattern[0][-5] == '7' or phonepattern[0][-5] == '8' or phonepattern[0][-5] == '':\n",
    "            print(f'Результат: +7 {phonepattern[0][-4]}-{phonepattern[0][-3]}-{phonepattern[0][-2]}-{phonepattern[0][-1]}')\n",
    "        else:\n",
    "            print('номер левый')\n",
    "    else:\n",
    "        print('номер подозрительно короткий')\n",
    "       \n",
    "phoneVal()\n",
    "    "
   ]
  }
 ],
 "metadata": {
  "kernelspec": {
   "display_name": "Python 3",
   "language": "python",
   "name": "python3"
  },
  "language_info": {
   "codemirror_mode": {
    "name": "ipython",
    "version": 3
   },
   "file_extension": ".py",
   "mimetype": "text/x-python",
   "name": "python",
   "nbconvert_exporter": "python",
   "pygments_lexer": "ipython3",
   "version": "3.7.6"
  }
 },
 "nbformat": 4,
 "nbformat_minor": 4
}
